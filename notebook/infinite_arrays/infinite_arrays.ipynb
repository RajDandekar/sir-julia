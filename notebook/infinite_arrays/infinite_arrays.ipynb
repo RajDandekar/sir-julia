{
  "cells": [
    {
      "cell_type": "markdown",
      "source": [
        "# SIR model tracking successful infective contacts\nSean L. Wu (@slwu89), 2021-11-30\n\n## Introduction\n\nThis implements a standard continuous time Markov chain (jump process) SIR model, but uses \n[InfiniteArrays.jl](https://github.com/JuliaArrays/InfiniteArrays.jl) to track the cumulative\nnumber of times any individual has successfully infected another. We note that because the standard\nSIR model lacks births and deaths, a finite sized array would be sufficient, but our\nimplementation should help provide an example for cases with an unbounded population size.\n\nTracking the number of infections caused by each infective is useful to demonstrate that even\nin the well-mixed SIR model, the number of individuals causing $1, 2, 3, ...$ infections follows\na decreasing Geometric series (see [Distinguishing introductions from local transmission by Simon Frost](https://sdwfrost.github.io/mfo18/#/counting-infections) for details).\n\n## Libraries"
      ],
      "metadata": {}
    },
    {
      "outputs": [],
      "cell_type": "code",
      "source": [
        "using InfiniteArrays\nusing Distributions\nusing DifferentialEquations\nusing Random\nusing Plots"
      ],
      "metadata": {},
      "execution_count": null
    },
    {
      "cell_type": "markdown",
      "source": [
        "## InfiniteArrays\n\nWe define two helper functions here to help deal with the infinite arrays. `find_end`\nlocates the index of the last nonzero element of an array, and `find_nonzero` locates\nall indices containing nonzero elements.\n\nThe struct `SIR_struct` stores two infinite arrays. `I` is an array whose elements\nare the number of persons who have infected the number of persons corresponding to the index minus one\n(because the first element is the number of infective persons who haven't infected anyone yet). `R`\nstores the cumulative number of persons in each bin. The struct is updated when a transition fires,\nas seen below in the `affect!` functions."
      ],
      "metadata": {}
    },
    {
      "outputs": [],
      "cell_type": "code",
      "source": [
        "# find index of last nonzero element\nfunction find_end(I)\n    findfirst(x -> isequal(x, sum(I)), cumsum(I))\nend\n\n# find indices of nonzero elements\nfunction find_nonzero(I)\n    last = find_end(I)\n    findall(>(0), I[1:last])\nend\n\nstruct SIR_struct\n    I::AbstractArray\n    R::AbstractArray\nend\n\nSIR_struct(I0) = SIR_struct(I0, zeros(Int64, ∞))"
      ],
      "metadata": {},
      "execution_count": null
    },
    {
      "cell_type": "markdown",
      "source": [
        "## Transitions\n\nWe use DifferentialEquations.jl to implement the stochastic simulation algorithm which samples jump\ntimes. The rate functions are exactly the same as those in [Jump process (Gillespie) using DifferentialEquations.jl](https://github.com/epirecipes/sir-julia/blob/master/markdown/jump_process/jump_process.md)."
      ],
      "metadata": {}
    },
    {
      "outputs": [],
      "cell_type": "code",
      "source": [
        "function infection_rate(u,p,t)\n    (S,I,R) = u\n    (β,c,γ) = p\n    N = S+I+R\n    β*c*I/N*S\nend\n\nfunction infection!(integrator, SIR::SIR_struct)\n\n    I_elements = find_nonzero(SIR.I)\n    infector_bin = wsample(I_elements, SIR.I[I_elements], 1)[1]\n\n    # infector increases their count of infections by one\n    SIR.I[infector_bin] -= 1\n    SIR.I[infector_bin + 1] += 1\n\n    # add a 0-infections infector\n    SIR.I[1] += 1\n\n    # update S and I\n    integrator.u[1] -= 1\n    integrator.u[2] = sum(SIR.I)\n\nend\n\nconst infection_jump = ConstantRateJump(infection_rate, (integrator) -> infection!(integrator, SIR))"
      ],
      "metadata": {},
      "execution_count": null
    },
    {
      "outputs": [],
      "cell_type": "code",
      "source": [
        "function recovery_rate(u,p,t)\n    (S,I,R) = u\n    (β,c,γ) = p\n    γ*I\nend\n\nfunction recovery!(integrator, SIR::SIR_struct)\n\n    I_elements = find_nonzero(SIR.I)\n    recovery_bin = wsample(I_elements, SIR.I[I_elements], 1)[1]\n\n    SIR.I[recovery_bin] -= 1\n    SIR.R[recovery_bin] += 1\n\n    integrator.u[2] = sum(SIR.I)\n    integrator.u[3] = sum(SIR.R)\nend\n\nconst recovery_jump = ConstantRateJump(recovery_rate, (integrator) -> recovery!(integrator, SIR))"
      ],
      "metadata": {},
      "execution_count": null
    },
    {
      "cell_type": "markdown",
      "source": [
        "## Time domain"
      ],
      "metadata": {}
    },
    {
      "outputs": [],
      "cell_type": "code",
      "source": [
        "tmax = 40.0\ntspan = (0.0,tmax);"
      ],
      "metadata": {},
      "execution_count": null
    },
    {
      "cell_type": "markdown",
      "source": [
        "For plotting, we can also define a separate time series."
      ],
      "metadata": {}
    },
    {
      "outputs": [],
      "cell_type": "code",
      "source": [
        "δt = 0.1\nt = 0:δt:tmax;"
      ],
      "metadata": {},
      "execution_count": null
    },
    {
      "cell_type": "markdown",
      "source": [
        "## Initial conditions"
      ],
      "metadata": {}
    },
    {
      "outputs": [],
      "cell_type": "code",
      "source": [
        "u0 = [990,10,0]; # S,I,R\n\nI0 = zeros(Int64, ∞)\nI0[1] = u0[2]\n\nSIR = SIR_struct(I0)"
      ],
      "metadata": {},
      "execution_count": null
    },
    {
      "cell_type": "markdown",
      "source": [
        "## Parameter values"
      ],
      "metadata": {}
    },
    {
      "outputs": [],
      "cell_type": "code",
      "source": [
        "p = [0.05,10.0,0.25]; # β,c,γ"
      ],
      "metadata": {},
      "execution_count": null
    },
    {
      "cell_type": "markdown",
      "source": [
        "## Random number seed\n\nWe set a random number seed for reproducibility."
      ],
      "metadata": {}
    },
    {
      "outputs": [],
      "cell_type": "code",
      "source": [
        "Random.seed!(1234);"
      ],
      "metadata": {},
      "execution_count": null
    },
    {
      "cell_type": "markdown",
      "source": [
        "## Running the model"
      ],
      "metadata": {}
    },
    {
      "outputs": [],
      "cell_type": "code",
      "source": [
        "prob_discrete = DiscreteProblem(u0,tspan,p);"
      ],
      "metadata": {},
      "execution_count": null
    },
    {
      "outputs": [],
      "cell_type": "code",
      "source": [
        "prob_jump = JumpProblem(prob_discrete,Direct(),infection_jump,recovery_jump);"
      ],
      "metadata": {},
      "execution_count": null
    },
    {
      "outputs": [],
      "cell_type": "code",
      "source": [
        "sol_jump = solve(prob_jump,SSAStepper());"
      ],
      "metadata": {},
      "execution_count": null
    },
    {
      "cell_type": "markdown",
      "source": [
        "## Post-processing\n\nIn order to get output comparable across implementations, we output the model at a fixed set of times."
      ],
      "metadata": {}
    },
    {
      "outputs": [],
      "cell_type": "code",
      "source": [
        "out_jump = sol_jump(t);"
      ],
      "metadata": {},
      "execution_count": null
    },
    {
      "cell_type": "markdown",
      "source": [
        "## Plotting\n\nWe can now plot the temporal trajectory."
      ],
      "metadata": {}
    },
    {
      "outputs": [],
      "cell_type": "code",
      "source": [
        "plot(\n    out_jump,\n    label=[\"S\" \"I\" \"R\"],\n    xlabel=\"Time\",\n    ylabel=\"Number\"\n)"
      ],
      "metadata": {},
      "execution_count": null
    },
    {
      "cell_type": "markdown",
      "source": [
        "We also want to plot the distribution of bin sizes telling us how many infectives infected $1, 2, 3, ...$\npersons over their infectious period."
      ],
      "metadata": {}
    },
    {
      "outputs": [],
      "cell_type": "code",
      "source": [
        "infectors = find_nonzero(SIR.R)\ninfectors_counts = zeros(Int64, infectors[end])\ninfectors_counts[infectors] = SIR.R[infectors]\n\nplot(\n    infectors_counts, \n    seriestype = :bar, \n    xlabel=\"Number\",\n    ylabel=\"Frequency\", \n    color = 1:length(infectors_counts), \n    legend = false,\n    xticks = 1:length(infectors_counts),\n    xformatter = x -> Int(x - 1)\n)"
      ],
      "metadata": {},
      "execution_count": null
    }
  ],
  "nbformat_minor": 2,
  "metadata": {
    "language_info": {
      "file_extension": ".jl",
      "mimetype": "application/julia",
      "name": "julia",
      "version": "1.6.2"
    },
    "kernelspec": {
      "name": "julia-1.6",
      "display_name": "Julia 1.6.2",
      "language": "julia"
    }
  },
  "nbformat": 4
}
