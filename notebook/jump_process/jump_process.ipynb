{
  "cells": [
    {
      "cell_type": "markdown",
      "source": [
        "# Jump process\nSimon Frost (@sdwfrost), 2020-04-27\n\n## Introduction\n\nThis implementation defines the model as a combination of two jump processes, infection and recovery, simulated using the [Doob-Gillespie algorithm](https://en.wikipedia.org/wiki/Gillespie_algorithm).\n\n## Libraries"
      ],
      "metadata": {}
    },
    {
      "outputs": [],
      "cell_type": "code",
      "source": [
        "using DifferentialEquations\nusing SimpleDiffEq\nusing Random\nusing DataFrames\nusing StatsPlots\nusing BenchmarkTools"
      ],
      "metadata": {},
      "execution_count": null
    },
    {
      "cell_type": "markdown",
      "source": [
        "## Transitions\n\nFor each process, we define the rate at which it occurs, and how the state variables change at each jump. Note that these are total rates, not *per capita*, and that the change in state variables occurs in-place."
      ],
      "metadata": {}
    },
    {
      "outputs": [],
      "cell_type": "code",
      "source": [
        "function infection_rate(u,p,t)\n    (S,I,R) = u\n    (β,c,γ) = p\n    N = S+I+R\n    β*c*I/N*S\nend\nfunction infection!(integrator)\n  integrator.u[1] -= 1\n  integrator.u[2] += 1\nend\ninfection_jump = ConstantRateJump(infection_rate,infection!);"
      ],
      "metadata": {},
      "execution_count": null
    },
    {
      "outputs": [],
      "cell_type": "code",
      "source": [
        "function recovery_rate(u,p,t)\n    (S,I,R) = u\n    (β,c,γ) = p\n    γ*I\nend\nfunction recovery!(integrator)\n  integrator.u[2] -= 1\n  integrator.u[3] += 1\nend\nrecovery_jump = ConstantRateJump(recovery_rate,recovery!);"
      ],
      "metadata": {},
      "execution_count": null
    },
    {
      "cell_type": "markdown",
      "source": [
        "## Time domain"
      ],
      "metadata": {}
    },
    {
      "outputs": [],
      "cell_type": "code",
      "source": [
        "tmax = 40.0\ntspan = (0.0,tmax);"
      ],
      "metadata": {},
      "execution_count": null
    },
    {
      "cell_type": "markdown",
      "source": [
        "For plotting, we can also define a separate time series."
      ],
      "metadata": {}
    },
    {
      "outputs": [],
      "cell_type": "code",
      "source": [
        "δt = 0.1\nt = 0:δt:tmax;"
      ],
      "metadata": {},
      "execution_count": null
    },
    {
      "cell_type": "markdown",
      "source": [
        "## Initial conditions"
      ],
      "metadata": {}
    },
    {
      "outputs": [],
      "cell_type": "code",
      "source": [
        "u0 = [990,10,0]; # S,I,R"
      ],
      "metadata": {},
      "execution_count": null
    },
    {
      "cell_type": "markdown",
      "source": [
        "## Parameter values"
      ],
      "metadata": {}
    },
    {
      "outputs": [],
      "cell_type": "code",
      "source": [
        "p = [0.05,10.0,0.25]; # β,c,γ"
      ],
      "metadata": {},
      "execution_count": null
    },
    {
      "cell_type": "markdown",
      "source": [
        "## Random number seed\n\nWe set a random number seed for reproducibility."
      ],
      "metadata": {}
    },
    {
      "outputs": [],
      "cell_type": "code",
      "source": [
        "Random.seed!(1234);"
      ],
      "metadata": {},
      "execution_count": null
    },
    {
      "cell_type": "markdown",
      "source": [
        "## Running the model\n\nRunning this model involves:\n\n- Setting up the problem as a `DiscreteProblem`;\n- Adding the jumps and setting the algorithm using `JumpProblem`; and\n- Running the model, specifying `SSAStepper()`"
      ],
      "metadata": {}
    },
    {
      "outputs": [],
      "cell_type": "code",
      "source": [
        "prob = DiscreteProblem(u0,tspan,p);"
      ],
      "metadata": {},
      "execution_count": null
    },
    {
      "outputs": [],
      "cell_type": "code",
      "source": [
        "prob_jump = JumpProblem(prob,Direct(),infection_jump,recovery_jump);"
      ],
      "metadata": {},
      "execution_count": null
    },
    {
      "outputs": [],
      "cell_type": "code",
      "source": [
        "sol_jump = solve(prob_jump,SSAStepper());"
      ],
      "metadata": {},
      "execution_count": null
    },
    {
      "cell_type": "markdown",
      "source": [
        "## Post-processing\n\nIn order to get output comparable across implementations, we output the model at a fixed set of times."
      ],
      "metadata": {}
    },
    {
      "outputs": [],
      "cell_type": "code",
      "source": [
        "out_jump = sol_jump(t);"
      ],
      "metadata": {},
      "execution_count": null
    },
    {
      "cell_type": "markdown",
      "source": [
        "We can convert to a dataframe for convenience."
      ],
      "metadata": {}
    },
    {
      "outputs": [],
      "cell_type": "code",
      "source": [
        "df_jump = DataFrame(out_jump')\ndf_jump[!,:t] = out_jump.t;"
      ],
      "metadata": {},
      "execution_count": null
    },
    {
      "cell_type": "markdown",
      "source": [
        "## Plotting\n\nWe can now plot the results."
      ],
      "metadata": {}
    },
    {
      "outputs": [],
      "cell_type": "code",
      "source": [
        "@df df_jump plot(:t,\n    [:x1 :x2 :x3],\n    label=[\"S\" \"I\" \"R\"],\n    xlabel=\"Time\",\n    ylabel=\"Number\")"
      ],
      "metadata": {},
      "execution_count": null
    },
    {
      "cell_type": "markdown",
      "source": [
        "## Benchmarking"
      ],
      "metadata": {}
    },
    {
      "outputs": [],
      "cell_type": "code",
      "source": [
        "@benchmark solve(prob_jump,FunctionMap())"
      ],
      "metadata": {},
      "execution_count": null
    }
  ],
  "nbformat_minor": 2,
  "metadata": {
    "language_info": {
      "file_extension": ".jl",
      "mimetype": "application/julia",
      "name": "julia",
      "version": "1.5.4"
    },
    "kernelspec": {
      "name": "julia-1.5",
      "display_name": "Julia 1.5.4",
      "language": "julia"
    }
  },
  "nbformat": 4
}
