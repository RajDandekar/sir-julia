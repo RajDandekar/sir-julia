{
  "cells": [
    {
      "cell_type": "markdown",
      "source": [
        "# Stochastic delay differential equation model using StochasticDiffEq.jl\nSimon Frost (@sdwfrost), 2021-01-05\n\n## Introduction\n\nA stochastic delay differential equation version of the SIR model is:\n\n- Stochastic\n- Continuous in time\n- Continuous in state\n\nThis implementation uses `StochasticDelayDiffEq.jl`, which has a variety of SDE solvers.\n\n## Libraries"
      ],
      "metadata": {}
    },
    {
      "outputs": [],
      "cell_type": "code",
      "source": [
        "using DifferentialEquations\nusing StochasticDelayDiffEq\nusing DiffEqCallbacks\nusing Random\nusing SparseArrays\nusing Tables\nusing DataFrames\nusing StatsPlots\nusing BenchmarkTools"
      ],
      "metadata": {},
      "execution_count": null
    },
    {
      "cell_type": "markdown",
      "source": [
        "## Transitions\n\nWe begin by specifying the DDE kernel, as in the deterministic DDE case."
      ],
      "metadata": {}
    },
    {
      "outputs": [],
      "cell_type": "code",
      "source": [
        "function sir_dde!(du,u,h,p,t)\n    (S,I,R) = u\n    (β,c,τ) = p\n    N = S+I+R\n    infection = β*c*I/N*S\n    (Sd,Id,Rd) = h(p, t-τ) # Time delayed variables\n    Nd = Sd+Id+Rd\n    recovery = β*c*Id/Nd*Sd\n    @inbounds begin\n        du[1] = -infection\n        du[2] = infection - recovery\n        du[3] = recovery\n    end\n    nothing\nend;"
      ],
      "metadata": {},
      "execution_count": null
    },
    {
      "cell_type": "markdown",
      "source": [
        "We define the noise as in the SDE case, but use delayed versions of the state variables to compute the rates."
      ],
      "metadata": {}
    },
    {
      "outputs": [],
      "cell_type": "code",
      "source": [
        "# Define a sparse matrix by making a dense matrix and setting some values as not zero\nA = zeros(3,2)\nA[1,1] = 1\nA[2,1] = 1\nA[2,2] = 1\nA[3,2] = 1\nA = SparseArrays.sparse(A);"
      ],
      "metadata": {},
      "execution_count": null
    },
    {
      "outputs": [],
      "cell_type": "code",
      "source": [
        "# Make `g` write the sparse matrix values\nfunction sir_delayed_noise!(du,u,h,p,t)\n    (S,I,R) = u\n    (β,c,τ) = p\n    N = S+I+R\n    infection = β*c*I/N*S\n    (Sd,Id,Rd) = h(p, t-τ) # Time delayed variables\n    Nd = Sd+Id+Rd\n    recovery = β*c*Id/Nd*Sd\n    du[1,1] = -sqrt(infection)\n    du[2,1] = sqrt(infection)\n    du[2,2] = -sqrt(recovery)\n    du[3,2] = sqrt(recovery)\nend;"
      ],
      "metadata": {},
      "execution_count": null
    },
    {
      "cell_type": "markdown",
      "source": [
        "## Callbacks\n\nIt is possible for the stochastic jumps to result in negative numbers of infected individuals, which will throw an error. A `ContinuousCallback` is added that resets infected individuals, `I`, to zero if `I` becomes negative."
      ],
      "metadata": {}
    },
    {
      "outputs": [],
      "cell_type": "code",
      "source": [
        "function condition(u,t,integrator) # Event when event_f(u,t) == 0\n  u[2]\nend;"
      ],
      "metadata": {},
      "execution_count": null
    },
    {
      "outputs": [],
      "cell_type": "code",
      "source": [
        "function affect!(integrator)\n  integrator.u[2] = 0.0\nend;"
      ],
      "metadata": {},
      "execution_count": null
    },
    {
      "outputs": [],
      "cell_type": "code",
      "source": [
        "cb = ContinuousCallback(condition,affect!);"
      ],
      "metadata": {},
      "execution_count": null
    },
    {
      "cell_type": "markdown",
      "source": [
        "Here is a callback that forces the initial infecteds to recover at a fixed time."
      ],
      "metadata": {}
    },
    {
      "outputs": [],
      "cell_type": "code",
      "source": [
        "function affect_initial_recovery!(integrator)\n    integrator.u[2] -= u0[2]\n    integrator.u[3] += u0[2]\n\n    reset_aggregated_jumps!(integrator)\nend\ncb_initial_recovery = DiscreteCallback((u,t,integrator) -> t == p[3], affect_initial_recovery!)"
      ],
      "metadata": {},
      "execution_count": null
    },
    {
      "cell_type": "markdown",
      "source": [
        "## Time domain"
      ],
      "metadata": {}
    },
    {
      "outputs": [],
      "cell_type": "code",
      "source": [
        "δt = 0.1\ntmax = 40.0\ntspan = (0.0,tmax)\nt = 0.0:δt:tmax;"
      ],
      "metadata": {},
      "execution_count": null
    },
    {
      "cell_type": "markdown",
      "source": [
        "## Initial conditions"
      ],
      "metadata": {}
    },
    {
      "outputs": [],
      "cell_type": "code",
      "source": [
        "u0 = [990.0,10.0,0.0]; # S,I,R"
      ],
      "metadata": {},
      "execution_count": null
    },
    {
      "cell_type": "markdown",
      "source": [
        "For a delay differential equation (stochastic or deterministic), we need to define a function that determines the past states before the initial time. Here, we assume that all individuals were susceptible at time `t<0`."
      ],
      "metadata": {}
    },
    {
      "outputs": [],
      "cell_type": "code",
      "source": [
        "function sir_history(p, t)\n    [1000.0, 0.0, 0.0]\nend;"
      ],
      "metadata": {},
      "execution_count": null
    },
    {
      "cell_type": "markdown",
      "source": [
        "## Parameter values\n\nWe set the recovery interval, τ, to be 1/γ to be consistent with the other examples."
      ],
      "metadata": {}
    },
    {
      "outputs": [],
      "cell_type": "code",
      "source": [
        "p = [0.05,10.0,4.0]; # β,c,τ"
      ],
      "metadata": {},
      "execution_count": null
    },
    {
      "cell_type": "markdown",
      "source": [
        "## Random number seed"
      ],
      "metadata": {}
    },
    {
      "outputs": [],
      "cell_type": "code",
      "source": [
        "Random.seed!(1234);"
      ],
      "metadata": {},
      "execution_count": null
    },
    {
      "cell_type": "markdown",
      "source": [
        "## Running the model\n\nDefining an SDDE is similar to defining an SDE, with the exception of passing an initial condition (the history function) to deal with the lagged states."
      ],
      "metadata": {}
    },
    {
      "outputs": [],
      "cell_type": "code",
      "source": [
        "prob_sdde = SDDEProblem(sir_dde!,sir_delayed_noise!,u0,sir_history,tspan,p;noise_rate_prototype=A);"
      ],
      "metadata": {},
      "execution_count": null
    },
    {
      "cell_type": "markdown",
      "source": [
        "The noise process used here is fairly general (non-diagonal and dependent on the states of the system), so the `LambaEM` solver is used."
      ],
      "metadata": {}
    },
    {
      "outputs": [],
      "cell_type": "code",
      "source": [
        "sol_sdde = solve(prob_sdde,LambaEM(),callback=CallbackSet(cb,cb_initial_recovery));"
      ],
      "metadata": {},
      "execution_count": null
    },
    {
      "cell_type": "markdown",
      "source": [
        "## Post-processing\n\nWe can convert the output to a dataframe for convenience."
      ],
      "metadata": {}
    },
    {
      "outputs": [],
      "cell_type": "code",
      "source": [
        "df_sdde = DataFrame(Tables.table(sol_sdde(t)'))\nrename!(df_sdde,[\"S\",\"I\",\"R\"])\ndf_sdde[!,:t] = t;"
      ],
      "metadata": {},
      "execution_count": null
    },
    {
      "cell_type": "markdown",
      "source": [
        "## Plotting\n\nWe can now plot the results."
      ],
      "metadata": {}
    },
    {
      "outputs": [],
      "cell_type": "code",
      "source": [
        "@df df_sdde plot(:t,\n    [:S,:I,:R],\n    label=[\"S\" \"I\" \"R\"],\n    xlabel=\"Time\",\n    ylabel=\"Number\")"
      ],
      "metadata": {},
      "execution_count": null
    },
    {
      "cell_type": "markdown",
      "source": [
        "## Alternative approaches\n\nAs in the DDE example, we could simulate a SDE while `t<τ` and use this to initialize an SDDE.\n\n## Benchmarking"
      ],
      "metadata": {}
    },
    {
      "outputs": [],
      "cell_type": "code",
      "source": [
        "#@benchmark solve(prob_sdde,LambaEM(),callback=CallbackSet(cb,cb_initial_recovery))"
      ],
      "metadata": {},
      "execution_count": null
    }
  ],
  "nbformat_minor": 2,
  "metadata": {
    "language_info": {
      "file_extension": ".jl",
      "mimetype": "application/julia",
      "name": "julia",
      "version": "1.6.2"
    },
    "kernelspec": {
      "name": "julia-1.6",
      "display_name": "Julia 1.6.2",
      "language": "julia"
    }
  },
  "nbformat": 4
}
