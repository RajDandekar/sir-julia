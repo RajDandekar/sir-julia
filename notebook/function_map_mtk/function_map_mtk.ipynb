{
  "cells": [
    {
      "cell_type": "markdown",
      "source": [
        "# Function map using ModelingToolkit and DiscreteSystem\nSimon Frost (@sdwfrost), 2021-12-17\n\n## Introduction\n\nThe function map approach taken here is:\n\n- Deterministic\n- Discrete in time\n- Continuous in state\n\nThis tutorial uses the `Difference` operator and a `DiscreteSystem` in order to implement a map using `ModelingToolkit.jl`. This is based on the test case [here](https://github.com/SciML/ModelingToolkit.jl/blob/master/test/discretesystem.jl), which was in turn based on the vanilla function map example in this repository.\n\n## Libraries"
      ],
      "metadata": {}
    },
    {
      "outputs": [],
      "cell_type": "code",
      "source": [
        "using ModelingToolkit\nusing DifferentialEquations\nusing Distributions\nusing Tables\nusing DataFrames\nusing StatsPlots\nusing BenchmarkTools"
      ],
      "metadata": {},
      "execution_count": null
    },
    {
      "cell_type": "markdown",
      "source": [
        "## Utility functions\n\nTo assist in comparison with the continuous time models, we define a function that takes a constant rate, `r`, over a timespan, `t`, and converts it to a proportion."
      ],
      "metadata": {}
    },
    {
      "outputs": [],
      "cell_type": "code",
      "source": [
        "@inline function rate_to_proportion(r,t)\n    1-exp(-r*t)\nend;"
      ],
      "metadata": {},
      "execution_count": null
    },
    {
      "cell_type": "markdown",
      "source": [
        "## Parameters\n\nI define the parameters and set default values, including the time step, `δt`."
      ],
      "metadata": {}
    },
    {
      "outputs": [],
      "cell_type": "code",
      "source": [
        "@parameters β=0.05 c=10.0 γ=0.25 N=1000.0 δt=0.1"
      ],
      "metadata": {},
      "execution_count": null
    },
    {
      "cell_type": "markdown",
      "source": [
        "## Initial conditions\n\nWe define the states of the system and set initial conditions as their default values. In this example, the state space is extended to consider infections (`S` to `I` transitions, `SI`) and recovery events (`I` to `R` transitions, `IR`). This makes the definition of the system below a bit cleaner, and lends itself to stochastic (Markov) versions of the same model."
      ],
      "metadata": {}
    },
    {
      "outputs": [],
      "cell_type": "code",
      "source": [
        "@variables t SI(t)=0.0 IR(t)=0.0 S(t)=990.0 I(t)=10.0 R(t)=0.0"
      ],
      "metadata": {},
      "execution_count": null
    },
    {
      "cell_type": "markdown",
      "source": [
        "### Transitions\n\nIn order to solve a map rather than a set of differential equations, we define a `Difference` operator rather than a derivative. The equations then represent the new states after a discrete time step, `δt`."
      ],
      "metadata": {}
    },
    {
      "outputs": [],
      "cell_type": "code",
      "source": [
        "D = DiscreteUpdate(t; dt=δt)\neqs = [D(SI) ~ rate_to_proportion(β*c*I/N,δt)*S,\n       D(IR) ~ rate_to_proportion(γ,δt)*I,\n       D(S) ~ S-SI,\n       D(I) ~ I+SI-IR,\n       D(R) ~ R+IR]"
      ],
      "metadata": {},
      "execution_count": null
    },
    {
      "cell_type": "markdown",
      "source": [
        "## Running the model\n\nAs we have defined the states of the system and the parameters above, we can convert the equations to a system very simply:"
      ],
      "metadata": {}
    },
    {
      "outputs": [],
      "cell_type": "code",
      "source": [
        "@named sys = DiscreteSystem(eqs)"
      ],
      "metadata": {},
      "execution_count": null
    },
    {
      "cell_type": "markdown",
      "source": [
        "The full function call would look like this."
      ],
      "metadata": {}
    },
    {
      "outputs": [],
      "cell_type": "code",
      "source": [
        "@named sys = DiscreteSystem(eqs, t, [SI, IR, S, I, R], [β,c,γ,N,δt])"
      ],
      "metadata": {},
      "execution_count": null
    },
    {
      "cell_type": "markdown",
      "source": [
        "We have also provided default values for initial conditions and parameter values, so we can pass empty maps to `DiscreteProblem`. We will run for 401 steps, hence the `(0,400)` below."
      ],
      "metadata": {}
    },
    {
      "outputs": [],
      "cell_type": "code",
      "source": [
        "prob = DiscreteProblem(sys, [], (0,400), [])"
      ],
      "metadata": {},
      "execution_count": null
    },
    {
      "cell_type": "markdown",
      "source": [
        "If we wanted to specify other initial conditions or parameter values, we would pass the following to `DiscreteProblem` instead."
      ],
      "metadata": {}
    },
    {
      "outputs": [],
      "cell_type": "code",
      "source": [
        "u0 = [S => 990.0,\n      I => 10.0,\n      R => 0.0];\np = [β=>0.05,\n     c=>10.0,\n     γ=>0.25,\n     N=>1000.0,\n     δt=>0.1];\nprob = DiscreteProblem(sys, u0, (0,400), p)"
      ],
      "metadata": {},
      "execution_count": null
    },
    {
      "cell_type": "markdown",
      "source": [
        "Now we can solve using the `FunctionMap` solver."
      ],
      "metadata": {}
    },
    {
      "outputs": [],
      "cell_type": "code",
      "source": [
        "sol = solve(prob,solver=FunctionMap);"
      ],
      "metadata": {},
      "execution_count": null
    },
    {
      "cell_type": "markdown",
      "source": [
        "## Post-processing\n\nWe can convert the output to a dataframe for convenience."
      ],
      "metadata": {}
    },
    {
      "outputs": [],
      "cell_type": "code",
      "source": [
        "df = DataFrame(Tables.table(sol'))\nrename!(df,[\"SI\", \"IR\", \"S\", \"I\", \"R\"])\ndf[!,:t] = 0:0.1:40.0;"
      ],
      "metadata": {},
      "execution_count": null
    },
    {
      "cell_type": "markdown",
      "source": [
        "## Plotting\n\nWe can now plot the results."
      ],
      "metadata": {}
    },
    {
      "outputs": [],
      "cell_type": "code",
      "source": [
        "@df df plot(:t,\n    [:S :I :R],\n    xlabel=\"Time\",\n    ylabel=\"Number\")"
      ],
      "metadata": {},
      "execution_count": null
    },
    {
      "cell_type": "markdown",
      "source": [
        "We can also plot out the total number of infections per day. One way to do this is to compute the cumulative number of infections and take the difference over the appropriate time window (here, 10 observations as `δt=0.1`)."
      ],
      "metadata": {}
    },
    {
      "outputs": [],
      "cell_type": "code",
      "source": [
        "C = cumsum(df[!,:SI])\ncases = vcat(C[1:9],C[10:end] .- C[1:(end-9)])\ndf[!,\"cases\"] = cases"
      ],
      "metadata": {},
      "execution_count": null
    },
    {
      "outputs": [],
      "cell_type": "code",
      "source": [
        "@df df plot(:t,\n    [:cases],\n    xlabel=\"Time\",\n    ylabel=\"Cases per day\")"
      ],
      "metadata": {},
      "execution_count": null
    },
    {
      "cell_type": "markdown",
      "source": [
        "## Benchmarking"
      ],
      "metadata": {}
    },
    {
      "outputs": [],
      "cell_type": "code",
      "source": [
        "@benchmark solve(prob,solver=FunctionMap)"
      ],
      "metadata": {},
      "execution_count": null
    },
    {
      "outputs": [],
      "cell_type": "code",
      "source": [
        "include(joinpath(@__DIR__,\"tutorials\",\"appendix.jl\"))\nappendix()"
      ],
      "metadata": {},
      "execution_count": null
    }
  ],
  "nbformat_minor": 2,
  "metadata": {
    "language_info": {
      "file_extension": ".jl",
      "mimetype": "application/julia",
      "name": "julia",
      "version": "1.6.2"
    },
    "kernelspec": {
      "name": "julia-1.6",
      "display_name": "Julia 1.6.2",
      "language": "julia"
    }
  },
  "nbformat": 4
}
