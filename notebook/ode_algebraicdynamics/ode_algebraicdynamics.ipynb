{
  "cells": [
    {
      "cell_type": "markdown",
      "source": [
        "# Composing ODE models using AlgebraicDynamics.jl\nSimon Frost (@sdwfrost) with contributions from Sophie Libkind (@slibkind), 2021-03-17\n\n## Introduction\n\nThe [`AlgebraicDynamics.jl`](https://github.com/AlgebraicJulia/AlgebraicDynamics.jl) package allows composition of dynamical systems i.e. building up complex models from building blocks of simpler ones. Here, we look at different ways of building up these systems, and some simple extensions of the SIR model to include vital dynamics and to consider multiple sub-stages of infected individuals to allow non-exponential distributions for the infectious period.\n\nTo keep things simple, I only consider a reduced system with susceptibles and infected individuals, with a constant population size, and will onlu consider continuous time, deterministic (i.e. ODE) models.\n\n## Libraries"
      ],
      "metadata": {}
    },
    {
      "outputs": [],
      "cell_type": "code",
      "source": [
        "using AlgebraicDynamics\nusing AlgebraicDynamics.UWDDynam\nusing AlgebraicDynamics.DWDDynam\nusing AlgebraicDynamics.CPortGraphDynam\nusing AlgebraicDynamics.CPortGraphDynam: barbell\nusing Catlab.WiringDiagrams\nusing Catlab.Programs # for @relation macro\nusing Catlab.Graphics # for to_graphviz\nusing OrdinaryDiffEq\nusing DataFrames\nusing Plots\nusing StatsPlots"
      ],
      "metadata": {},
      "execution_count": null
    },
    {
      "cell_type": "markdown",
      "source": [
        "## Time domain\n\nAs before, we define a time domain in order to simulate the final system."
      ],
      "metadata": {}
    },
    {
      "outputs": [],
      "cell_type": "code",
      "source": [
        "δt = 0.1\ntmax = 40\ntspan = (0.0,tmax)\nt = 0:δt:tmax;"
      ],
      "metadata": {},
      "execution_count": null
    },
    {
      "cell_type": "markdown",
      "source": [
        "## Initial conditions\n\nAs we only consider `S` and `I` individuals, we only have two initial conditions."
      ],
      "metadata": {}
    },
    {
      "outputs": [],
      "cell_type": "code",
      "source": [
        "u0 = [990.0,10.0];"
      ],
      "metadata": {},
      "execution_count": null
    },
    {
      "cell_type": "markdown",
      "source": [
        "## Parameter values\n\nThe parameter values are simplified from other tutorials:"
      ],
      "metadata": {}
    },
    {
      "outputs": [],
      "cell_type": "code",
      "source": [
        "β, γ = 0.05*10/1000, 0.25; # in other tutorials, βc/N and γ"
      ],
      "metadata": {},
      "execution_count": null
    },
    {
      "cell_type": "markdown",
      "source": [
        "## Directed transitions\n\nWe can think of the SIR model as being composed of two sub-models, one for the susceptible population, `S`, and one for the infected population, `I`. When time is continuous, we define the rates at which each population changes (`u`) in response to other populations (`x`).\n\nThe rate at which susceptibles change is defined as follows, where `S=u[1]` and `I=x[1]`."
      ],
      "metadata": {}
    },
    {
      "outputs": [],
      "cell_type": "code",
      "source": [
        "dots(u, x, p, t) = [-β*u[1]*x[1]]"
      ],
      "metadata": {},
      "execution_count": null
    },
    {
      "cell_type": "markdown",
      "source": [
        "The rate at which infecteds changed is as follows, where `S=x[1]` and `I=u[1]`."
      ],
      "metadata": {}
    },
    {
      "outputs": [],
      "cell_type": "code",
      "source": [
        "doti(u, x, p, t) = [β*x[1]*u[1] - γ*u[1]];"
      ],
      "metadata": {},
      "execution_count": null
    },
    {
      "cell_type": "markdown",
      "source": [
        "`AlgebraicDynamics.jl` calls the components of directed systems *machines*, which have the following components:\n\n- Inputs (also called exogenous variables)\n- States\n- Outputs\n- A dynamics function\n- A readout function\n\nWe define a `ContinuousMachine` for susceptibles and infecteds, where we define the numerical type (`Float64`). Each has 1 input, 1 state, 1 output, a rate equation, and a readout function that is simply the observed state."
      ],
      "metadata": {}
    },
    {
      "outputs": [],
      "cell_type": "code",
      "source": [
        "susceptible_cm = ContinuousMachine{Float64}(1,1,1, dots, u -> u)\ninfected_cm    = ContinuousMachine{Float64}(1,1,1, doti, u -> u);"
      ],
      "metadata": {},
      "execution_count": null
    },
    {
      "cell_type": "markdown",
      "source": [
        "We define the composition pattern incrementally, by first creating a `WiringDiagram`, adding boxes to the diagram using `add_box!`, and then adding wires between the boxes that determine the relationships."
      ],
      "metadata": {}
    },
    {
      "outputs": [],
      "cell_type": "code",
      "source": [
        "directed_pattern = WiringDiagram([], [])\nsusceptible_box = add_box!(directed_pattern, Box(:susceptible_cm, [:pop], [:pop]))\ninfected_box = add_box!(directed_pattern, Box(:infected_cm, [:pop], [:pop]));"
      ],
      "metadata": {},
      "execution_count": null
    },
    {
      "outputs": [],
      "cell_type": "code",
      "source": [
        "add_wires!(directed_pattern, Pair[\n    (susceptible_box, 1) => (infected_box, 1),\n    (infected_box, 1) => (susceptible_box, 1)\n])"
      ],
      "metadata": {},
      "execution_count": null
    },
    {
      "cell_type": "markdown",
      "source": [
        "As a sanity check, we can display a Graphviz graph of the resulting wiring diagram."
      ],
      "metadata": {}
    },
    {
      "outputs": [],
      "cell_type": "code",
      "source": [
        "to_graphviz(directed_pattern)"
      ],
      "metadata": {},
      "execution_count": null
    },
    {
      "cell_type": "markdown",
      "source": [
        "The susceptible machine is an input to the infected machine, and vice versa.\n\nThe system is composed using `oapply`, using the wiring diagram and the individual machines for S and I."
      ],
      "metadata": {}
    },
    {
      "outputs": [],
      "cell_type": "code",
      "source": [
        "directed_system = oapply(directed_pattern, [susceptible_cm, infected_cm]);"
      ],
      "metadata": {},
      "execution_count": null
    },
    {
      "cell_type": "markdown",
      "source": [
        "Now we can convert to an `ODEProblem` and solve."
      ],
      "metadata": {}
    },
    {
      "outputs": [],
      "cell_type": "code",
      "source": [
        "directed_prob = ODEProblem(directed_system, u0, tspan)\ndirected_sol = solve(directed_prob, FRK65(0));"
      ],
      "metadata": {},
      "execution_count": null
    },
    {
      "outputs": [],
      "cell_type": "code",
      "source": [
        "plot(directed_sol)"
      ],
      "metadata": {},
      "execution_count": null
    },
    {
      "cell_type": "markdown",
      "source": [
        "### CPG\n\nAs an alternative to the above, we can create a circular port graph or CPG. A ready-made wiring diagram is `barbell`, which links one machine to another."
      ],
      "metadata": {}
    },
    {
      "outputs": [],
      "cell_type": "code",
      "source": [
        "cpg_pattern = barbell(1)"
      ],
      "metadata": {},
      "execution_count": null
    },
    {
      "cell_type": "markdown",
      "source": [
        "The system is composed, converted into an ODEProblem, and solved as before."
      ],
      "metadata": {}
    },
    {
      "outputs": [],
      "cell_type": "code",
      "source": [
        "cpg_system = oapply(cpg_pattern, [susceptible_cm, infected_cm]);"
      ],
      "metadata": {},
      "execution_count": null
    },
    {
      "outputs": [],
      "cell_type": "code",
      "source": [
        "cpg_prob = ODEProblem(cpg_system, u0, tspan)\ncpg_sol = solve(cpg_prob, FRK65(0));"
      ],
      "metadata": {},
      "execution_count": null
    },
    {
      "outputs": [],
      "cell_type": "code",
      "source": [
        "plot(cpg_sol)"
      ],
      "metadata": {},
      "execution_count": null
    },
    {
      "cell_type": "markdown",
      "source": [
        "## Undirected transitions\n\nFor undirected transitions, we write equations for the rates of the systems in isolation from one another, then add the rates that couple the systems together. Note that the function signatures only have one state vector, `u`, passed to it rather than two (`u` and `x`).\n\nThe rate equation for transmission results has two components, as transmission reduces susceptibles and increases infecteds."
      ],
      "metadata": {}
    },
    {
      "outputs": [],
      "cell_type": "code",
      "source": [
        "dotsi(u,p,t) = [-β*u[1]*u[2],β*u[1]*u[2]]"
      ],
      "metadata": {},
      "execution_count": null
    },
    {
      "cell_type": "markdown",
      "source": [
        "The rate equation for recovery only has one component."
      ],
      "metadata": {}
    },
    {
      "outputs": [],
      "cell_type": "code",
      "source": [
        "doti(u,p,t) = -γ*u;"
      ],
      "metadata": {},
      "execution_count": null
    },
    {
      "cell_type": "markdown",
      "source": [
        "In an undirected model, we have resource sharing - in this case, the processes of infection and recovery 'share' the number of susceptible individuals, `S`, and infected individuals, 'I'. We define a `ContinuousResourceSharer` using the type of the variable (in this case `Float64`), the number of resources shared by each process (2 for infection, 1 for recovery), and the function names that define the corresponding rates."
      ],
      "metadata": {}
    },
    {
      "outputs": [],
      "cell_type": "code",
      "source": [
        "si_infection = ContinuousResourceSharer{Float64}(2, dotsi)\ni_recovery = ContinuousResourceSharer{Float64}(1, doti);"
      ],
      "metadata": {},
      "execution_count": null
    },
    {
      "outputs": [],
      "cell_type": "code",
      "source": [
        "undirected_pattern = @relation (S, I) begin\n    si_infection(S,I)\n    i_recovery(I)\nend"
      ],
      "metadata": {},
      "execution_count": null
    },
    {
      "outputs": [],
      "cell_type": "code",
      "source": [
        "to_graphviz(undirected_pattern, box_labels = :name, junction_labels = :variable, edge_attrs=Dict(:len => \".75\"))"
      ],
      "metadata": {},
      "execution_count": null
    },
    {
      "outputs": [],
      "cell_type": "code",
      "source": [
        "undirected_system = oapply(undirected_pattern, [si_infection, i_recovery]);"
      ],
      "metadata": {},
      "execution_count": null
    },
    {
      "outputs": [],
      "cell_type": "code",
      "source": [
        "undirected_prob = ODEProblem(undirected_system, u0, tspan)\nundirected_sol = solve(undirected_prob,FRK65(0));"
      ],
      "metadata": {},
      "execution_count": null
    },
    {
      "outputs": [],
      "cell_type": "code",
      "source": [
        "plot(undirected_sol)"
      ],
      "metadata": {},
      "execution_count": null
    },
    {
      "cell_type": "markdown",
      "source": [
        "## Adding vital dynamics\n\nOne extension to the simple SIR model is to go from a closed population to one with births (which replenish susceptibles) and deaths. To keep things simple, we keep the population constant, so we just need a single extra parameter for the per-capita death rate, μ, and define births as μ(S+I). As births and deaths balance for S, we just need a single extra equation for births from the infected subpopulation."
      ],
      "metadata": {}
    },
    {
      "outputs": [],
      "cell_type": "code",
      "source": [
        "μ = 1.0/10\ndotis(u,p,t) = [-μ*u[1],μ*u[1]];"
      ],
      "metadata": {},
      "execution_count": null
    },
    {
      "outputs": [],
      "cell_type": "code",
      "source": [
        "is_birthdeath = ContinuousResourceSharer{Float64}(2, dotis);"
      ],
      "metadata": {},
      "execution_count": null
    },
    {
      "outputs": [],
      "cell_type": "code",
      "source": [
        "undirected_open_pattern = @relation (S, I) begin\n    si_infection(S,I)\n    i_recovery(I)\n    is_birthdeath(I,S)\nend"
      ],
      "metadata": {},
      "execution_count": null
    },
    {
      "outputs": [],
      "cell_type": "code",
      "source": [
        "to_graphviz(undirected_open_pattern, box_labels = :name, junction_labels = :variable, edge_attrs=Dict(:len => \".75\"))"
      ],
      "metadata": {},
      "execution_count": null
    },
    {
      "outputs": [],
      "cell_type": "code",
      "source": [
        "undirected_open_system = oapply(undirected_open_pattern, [si_infection, i_recovery, is_birthdeath]);"
      ],
      "metadata": {},
      "execution_count": null
    },
    {
      "outputs": [],
      "cell_type": "code",
      "source": [
        "undirected_open_prob = ODEProblem(undirected_open_system, u0, tspan)\nundirected_open_sol = solve(undirected_open_prob,FRK65(0));"
      ],
      "metadata": {},
      "execution_count": null
    },
    {
      "outputs": [],
      "cell_type": "code",
      "source": [
        "plot(undirected_open_sol)"
      ],
      "metadata": {},
      "execution_count": null
    },
    {
      "cell_type": "markdown",
      "source": [
        "## Method of stages\n\nAnother extension to the simple SIR model is to add artificial stages in order to introduce non-exponential passage times, either in series, in parallel, or both. Let's choose 4 stages in serial for the infected subpopulation, which gives an Erlang distribution."
      ],
      "metadata": {}
    },
    {
      "outputs": [],
      "cell_type": "code",
      "source": [
        "nstages = 4\nδ = nstages*γ;"
      ],
      "metadata": {},
      "execution_count": null
    },
    {
      "cell_type": "markdown",
      "source": [
        "For convenience, we define functions that generate subscripted variables."
      ],
      "metadata": {}
    },
    {
      "outputs": [],
      "cell_type": "code",
      "source": [
        "sub(i::Int) = i<0 ? error(\"$i is negative\") : join('₀'+d for d in reverse(digits(i)))\nsub(x::String,i::Int) = x*sub(i)\nistages = [sub(\"I\",i) for i=1:nstages]"
      ],
      "metadata": {},
      "execution_count": null
    },
    {
      "cell_type": "markdown",
      "source": [
        "We need to introduce three equations; for infection of susceptibles by I₂, I₃, and I₄, which gives rise to I₁; for transition between the infected subclasses, and for recovery of the last infected subclass, I₄."
      ],
      "metadata": {}
    },
    {
      "outputs": [],
      "cell_type": "code",
      "source": [
        "dotsii(u,p,t) = [-β*u[1]*u[3],β*u[1]*u[3],0.0]\ndotii(u,p,t) = [-δ*u[1],δ*u[1]]\ndotilast(u,p,t) = [-δ*u[1]];"
      ],
      "metadata": {},
      "execution_count": null
    },
    {
      "outputs": [],
      "cell_type": "code",
      "source": [
        "sii_infection = ContinuousResourceSharer{Float64}(3, dotsii)\ni_transition = ContinuousResourceSharer{Float64}(2, dotii)\nilast_recovery = ContinuousResourceSharer{Float64}(1, dotilast);"
      ],
      "metadata": {},
      "execution_count": null
    },
    {
      "outputs": [],
      "cell_type": "code",
      "source": [
        "undirected_pattern_stages = @relation (S, I₁, I₂, I₃, I₄) begin\n    si_infection(S,I₁)\n    sii_infection(S,I₁,I₂)\n    sii_infection(S,I₁,I₃)\n    sii_infection(S,I₁,I₄)\n    i_transition(I₁,I₂)\n    i_transition(I₂,I₃)\n    i_transition(I₃,I₄)\n    ilast_recovery(I₄)\nend"
      ],
      "metadata": {},
      "execution_count": null
    },
    {
      "outputs": [],
      "cell_type": "code",
      "source": [
        "to_graphviz(undirected_pattern_stages, box_labels = :name, junction_labels = :variable, edge_attrs=Dict(:len => \".75\"))"
      ],
      "metadata": {},
      "execution_count": null
    },
    {
      "cell_type": "markdown",
      "source": [
        "To generate the system from the stages, we can pass a vector of resource sharers in the same order as we defined in `undirected_pattern_stages`."
      ],
      "metadata": {}
    },
    {
      "outputs": [],
      "cell_type": "code",
      "source": [
        "undirected_system_stages = oapply(undirected_pattern_stages, [\n    si_infection\n    sii_infection\n    sii_infection\n    sii_infection\n    i_transition\n    i_transition\n    i_transition\n    ilast_recovery])"
      ],
      "metadata": {},
      "execution_count": null
    },
    {
      "cell_type": "markdown",
      "source": [
        "Alternatively, we can pass a dictionary keyed by the box name to specify which resource sharers plug into which box, where we don't have to worry about the order."
      ],
      "metadata": {}
    },
    {
      "outputs": [],
      "cell_type": "code",
      "source": [
        "undirected_system_stages = oapply(undirected_pattern_stages, Dict(\n    :si_infection  => si_infection,\n    :sii_infection => sii_infection,\n    :i_transition  => i_transition,\n    :ilast_recovery => ilast_recovery\n))"
      ],
      "metadata": {},
      "execution_count": null
    },
    {
      "cell_type": "markdown",
      "source": [
        "We need to redefine the initial conditions to include the additional infected subclasses; we assume that all the initial infected individuals are in the first subclass, I₁."
      ],
      "metadata": {}
    },
    {
      "outputs": [],
      "cell_type": "code",
      "source": [
        "u0stages = [990.0,10.0,0.0,0.0,0.0];"
      ],
      "metadata": {},
      "execution_count": null
    },
    {
      "cell_type": "markdown",
      "source": [
        "We can now define an `ODEProblem` and solve."
      ],
      "metadata": {}
    },
    {
      "outputs": [],
      "cell_type": "code",
      "source": [
        "undirected_stages_prob = ODEProblem(undirected_system_stages, u0stages, tspan)\nundirected_stages_sol = solve(undirected_stages_prob,FRK65(0));"
      ],
      "metadata": {},
      "execution_count": null
    },
    {
      "cell_type": "markdown",
      "source": [
        "To compare with the standard SIR, we process the output in order to calculate the total number of infected individuals, I₁+I₂+I₃+I₄."
      ],
      "metadata": {}
    },
    {
      "outputs": [],
      "cell_type": "code",
      "source": [
        "undirected_stages_df = DataFrame(undirected_stages_sol(t)')\nrename!(undirected_stages_df,[\"S\";istages])\nundirected_stages_df[!,:I] = undirected_stages_df[!,:I₁] +\n                              undirected_stages_df[!,:I₂] +\n                              undirected_stages_df[!,:I₃] +\n                              undirected_stages_df[!,:I₄]\nundirected_stages_df[:t] = t;"
      ],
      "metadata": {},
      "execution_count": null
    },
    {
      "outputs": [],
      "cell_type": "code",
      "source": [
        "plot(undirected_stages_df[!,:t],\n     [undirected_stages_df[!,:S],undirected_stages_df[!,:I]])\nplot!(undirected_sol)"
      ],
      "metadata": {},
      "execution_count": null
    },
    {
      "cell_type": "markdown",
      "source": [
        "### Composition of patterns using ocompose\n\nA more elegant way to specify the method of stages is to build out a composition pattern hierarchically. For example, we can start out with a pattern with two boxes:\n\n1. A `si_box` that we will put all of the infection boxes inside.\n2. A `i_box` that we will put all of the transition boxes inside."
      ],
      "metadata": {}
    },
    {
      "outputs": [],
      "cell_type": "code",
      "source": [
        "undirected_si_pattern = @relation (S, I₁, I₂, I₃, I₄) begin\n    si_box(S, I₁, I₂, I₃, I₄)\n    i_box(I₁, I₂, I₃, I₄)\nend;"
      ],
      "metadata": {},
      "execution_count": null
    },
    {
      "outputs": [],
      "cell_type": "code",
      "source": [
        "to_graphviz(undirected_si_pattern, box_labels = :name, junction_labels = :variable, edge_attrs=Dict(:len => \".75\"))"
      ],
      "metadata": {},
      "execution_count": null
    },
    {
      "cell_type": "markdown",
      "source": [
        "Then we can build patterns to put inside of these boxes:"
      ],
      "metadata": {}
    },
    {
      "outputs": [],
      "cell_type": "code",
      "source": [
        "si_pattern = @relation (S, I₁, I₂, I₃, I₄) begin\n    si_infection(S,I₁)\n    sii_infection(S,I₁,I₂)\n    sii_infection(S,I₁,I₃)\n    sii_infection(S,I₁,I₄)\nend;"
      ],
      "metadata": {},
      "execution_count": null
    },
    {
      "outputs": [],
      "cell_type": "code",
      "source": [
        "to_graphviz(si_pattern, box_labels = :name, junction_labels = :variable, edge_attrs=Dict(:len => \".75\"))"
      ],
      "metadata": {},
      "execution_count": null
    },
    {
      "outputs": [],
      "cell_type": "code",
      "source": [
        "i_pattern = @relation (I₁, I₂, I₃, I₄) begin\n    i_transition(I₁,I₂)\n    i_transition(I₂,I₃)\n    i_transition(I₃,I₄)\n    ilast_recovery(I₄)\nend;"
      ],
      "metadata": {},
      "execution_count": null
    },
    {
      "outputs": [],
      "cell_type": "code",
      "source": [
        "to_graphviz(i_pattern, box_labels = :name, junction_labels = :variable, edge_attrs=Dict(:len => \".75\"))"
      ],
      "metadata": {},
      "execution_count": null
    },
    {
      "cell_type": "markdown",
      "source": [
        "And finally we put the patterns inside of the boxes using `ocompose`."
      ],
      "metadata": {}
    },
    {
      "outputs": [],
      "cell_type": "code",
      "source": [
        "undirected_pattern_stages = ocompose(undirected_si_pattern, [si_pattern, i_pattern]);"
      ],
      "metadata": {},
      "execution_count": null
    },
    {
      "outputs": [],
      "cell_type": "code",
      "source": [
        "to_graphviz(undirected_pattern_stages, box_labels = :name, junction_labels = :variable, edge_attrs=Dict(:len => \".75\"))"
      ],
      "metadata": {},
      "execution_count": null
    }
  ],
  "nbformat_minor": 2,
  "metadata": {
    "language_info": {
      "file_extension": ".jl",
      "mimetype": "application/julia",
      "name": "julia",
      "version": "1.5.3"
    },
    "kernelspec": {
      "name": "julia-1.5",
      "display_name": "Julia 1.5.3",
      "language": "julia"
    }
  },
  "nbformat": 4
}
