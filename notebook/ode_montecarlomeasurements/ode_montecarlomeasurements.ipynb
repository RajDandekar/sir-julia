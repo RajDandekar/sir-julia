{
  "cells": [
    {
      "cell_type": "markdown",
      "source": [
        "# Uncertainty propagation applied to ordinary differential equation model using MonteCarloMeasurements.jl\nSimon Frost (@sdwfrost), 2022-02-14\n\n## Introduction\n\nThe classical ODE version of the SIR model is:\n\n- Deterministic\n- Continuous in time\n- Continuous in state\n\nOne elegant approach to investigating how uncertainty in parameters propagates to the output involves the use of `MonteCarloMeasurements.jl`. Parameter values and initial conditions can be represented by a set of `Particle`s, which can accommodate arbitrary patterns of variation. These can be included in `Diffe\n` solvers in the same way as other, simpler types such as `Float64`. This approach is well suited to non-linear patterns of uncertainty propagation.\n\n## Libraries"
      ],
      "metadata": {}
    },
    {
      "outputs": [],
      "cell_type": "code",
      "source": [
        "using DifferentialEquations\nusing OrdinaryDiffEq\nusing Distributions\nusing MonteCarloMeasurements\nusing StatsBase\nusing Plots"
      ],
      "metadata": {},
      "execution_count": null
    },
    {
      "cell_type": "markdown",
      "source": [
        "## Transitions\n\nThe following function provides the derivatives of the model, which it changes in-place. State variables and parameters are unpacked from `u` and `p`."
      ],
      "metadata": {}
    },
    {
      "outputs": [],
      "cell_type": "code",
      "source": [
        "function sir_ode!(du,u,p,t)\n    (S,I,R) = u\n    (β,c,γ) = p\n    N = S+I+R\n    @inbounds begin\n        du[1] = -β*c*I/N*S\n        du[2] = β*c*I/N*S - γ*I\n        du[3] = γ*I\n    end\n    nothing\nend;"
      ],
      "metadata": {},
      "execution_count": null
    },
    {
      "cell_type": "markdown",
      "source": [
        "## Time domain\n\nWe set the timespan for simulations, `tspan`, initial conditions, `u0`, and parameter values, `p`. We will set the maximum time to be high, as we will be using a callback in order to stop the integration early."
      ],
      "metadata": {}
    },
    {
      "outputs": [],
      "cell_type": "code",
      "source": [
        "δt = 1.0\ntmax = 40.0\ntspan = (0.0,tmax);"
      ],
      "metadata": {},
      "execution_count": null
    },
    {
      "cell_type": "markdown",
      "source": [
        "## Initial conditions and parameter values\n\nWe first set fixed parameters, in this case, the total population size, `N`."
      ],
      "metadata": {}
    },
    {
      "outputs": [],
      "cell_type": "code",
      "source": [
        "N = 1000.0;"
      ],
      "metadata": {},
      "execution_count": null
    },
    {
      "cell_type": "markdown",
      "source": [
        "We then generate a random sample of parameter values as well as the initial number of infected individuals. Rather than a full factorial design, we use `LatinHypercubeSample` from the `QuasiMonteCarlo.jl` package. We specify lower (`lb`) and upper (`ub`) bounds for each parameter."
      ],
      "metadata": {}
    },
    {
      "outputs": [],
      "cell_type": "code",
      "source": [
        "n_samples = 1000; # Number of samples"
      ],
      "metadata": {},
      "execution_count": null
    },
    {
      "outputs": [],
      "cell_type": "code",
      "source": [
        "p = [Particles(n_samples,Uniform(0.01,0.1)),\n      Particles(n_samples,Uniform(5,20.0)),\n      Particles(n_samples,Uniform(0.1,1.0))]"
      ],
      "metadata": {},
      "execution_count": null
    },
    {
      "outputs": [],
      "cell_type": "code",
      "source": [
        "I₀=Particles(n_samples,Uniform(1.0,50.0))\nu0 = [N-I₀,I₀,0.0]"
      ],
      "metadata": {},
      "execution_count": null
    },
    {
      "cell_type": "markdown",
      "source": [
        "## Running the model"
      ],
      "metadata": {}
    },
    {
      "outputs": [],
      "cell_type": "code",
      "source": [
        "prob_ode = ODEProblem(sir_ode!,u0,tspan,p);"
      ],
      "metadata": {},
      "execution_count": null
    },
    {
      "outputs": [],
      "cell_type": "code",
      "source": [
        "sol_ode = solve(prob_ode, Tsit5(), dt=δt);"
      ],
      "metadata": {},
      "execution_count": null
    },
    {
      "cell_type": "markdown",
      "source": [
        "## Post-processing\n\nHere are the (uncertain) states at time `t=20.0`."
      ],
      "metadata": {}
    },
    {
      "outputs": [],
      "cell_type": "code",
      "source": [
        "s20 = sol_ode(20.0)"
      ],
      "metadata": {},
      "execution_count": null
    },
    {
      "cell_type": "markdown",
      "source": [
        "These states are markedly different from Gaussian distributions, as the parameter set has combinations that lead to outbreaks (R₀>1) as well as to fade-out."
      ],
      "metadata": {}
    },
    {
      "outputs": [],
      "cell_type": "code",
      "source": [
        "l = @layout [a b c]\nbinwidth = 50\npl1 = histogram(s20[1],bins=0:binwidth:N, title=\"S(20)\", xlabel=\"S\", ylabel=\"Frequency\", color=:blue)\npl2 = histogram(s20[2],bins=0:binwidth:N, title=\"I(20)\", xlabel=\"I\", ylabel=\"Frequency\", color=:red)\npl3 = histogram(s20[3],bins=0:binwidth:N, title=\"R(20)\", xlabel=\"R\", ylabel=\"Frequency\", color=:green)\nplot(pl1,pl2,pl3,layout=l,legend=false)"
      ],
      "metadata": {},
      "execution_count": null
    },
    {
      "cell_type": "markdown",
      "source": [
        "Further processing of the output can be performed after converting to `Array`s, e.g. Kendalls rank correlation of β, c, γ, and I₀ against `S(20)`, `I(20)`, and `R(20)`."
      ],
      "metadata": {}
    },
    {
      "outputs": [],
      "cell_type": "code",
      "source": [
        "corkendall(hcat(Array(p),Array(I₀)),Array(s20))"
      ],
      "metadata": {},
      "execution_count": null
    }
  ],
  "nbformat_minor": 2,
  "metadata": {
    "language_info": {
      "file_extension": ".jl",
      "mimetype": "application/julia",
      "name": "julia",
      "version": "1.6.2"
    },
    "kernelspec": {
      "name": "julia-1.6",
      "display_name": "Julia 1.6.2",
      "language": "julia"
    }
  },
  "nbformat": 4
}
