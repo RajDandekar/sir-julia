{
  "cells": [
    {
      "cell_type": "markdown",
      "source": [
        "# Delayed stochastic jump process\nSean L. Wu (@slwu89), 2021-12-30\n\n## Introduction\n\nWe demonstrate how to formulate stochastic models with delay. Here, the infection process\nfires at the points of a Poisson process with the same rate as the standard continuous time stochastic\nSIR model. However the recovery process occurs after a deterministic delay, given by the\npoints of the infection process plus $\\tau$, the duration of the infectious period. This example makes use of the [integrator interface](https://diffeq.sciml.ai/stable/basics/integrator/) to add in the recovery times directly into the system via a callback, while infection events are scheduled according to a rate.\n\n## Libraries"
      ],
      "metadata": {}
    },
    {
      "outputs": [],
      "cell_type": "code",
      "source": [
        "using DifferentialEquations\nusing Plots\nusing Random\nusing BenchmarkTools"
      ],
      "metadata": {},
      "execution_count": null
    },
    {
      "cell_type": "markdown",
      "source": [
        "## Transitions\n\nThe infection transition is defined normally, except that it adds a time to the\n`tstops` field of the integrator $\\tau$ units of time from now, when the newly infected person will recover."
      ],
      "metadata": {}
    },
    {
      "outputs": [],
      "cell_type": "code",
      "source": [
        "function infection_rate(u,p,t)\n    (S,I,R) = u\n    (β,c,τ) = p\n    N = S+I+R\n    β*c*I/N*S\nend\n\nfunction infection!(integrator)\n    (β,c,τ) = integrator.p\n    integrator.u[1] -= 1\n    integrator.u[2] += 1\n\n    # queue recovery callback\n    add_tstop!(integrator, integrator.t + τ)\nend\n\ninfection_jump = ConstantRateJump(infection_rate,infection!);"
      ],
      "metadata": {},
      "execution_count": null
    },
    {
      "cell_type": "markdown",
      "source": [
        "## Callbacks\n\nThe recovery process is a callback that fires according to the queued\ntimes in `tstops`. When it fires we need to delete that element of `tstops` and\ndecrement `tstops_idx`. The check in the `affect!` function is because DifferentialEquations.jl\nalso uses `tstops` to store the final time point in the time span of the solution, so\nwe only allow a person to be moved from the I to R compartment if there are persons in I.\n\nWe use `reset_aggregated_jumps!` because the callback modifies the rate of the\ninfection jump process, so it must be recalculated after the callback fires."
      ],
      "metadata": {}
    },
    {
      "outputs": [],
      "cell_type": "code",
      "source": [
        "function recovery_condition(u,t,integrator)\n    t == integrator.tstops[1]\nend\n\nfunction recovery!(integrator)\n    if integrator.u[2] > 0\n        integrator.u[2] -= 1\n        integrator.u[3] += 1\n    \n        reset_aggregated_jumps!(integrator)\n        popfirst!(integrator.tstops)\n        integrator.tstops_idx -= 1\n    end\nend\n\nrecovery_callback = DiscreteCallback(recovery_condition, recovery!, save_positions = (false, false))"
      ],
      "metadata": {},
      "execution_count": null
    },
    {
      "cell_type": "markdown",
      "source": [
        "We must also code a callback that will fire when the initial 10 infectives recover. Because the infectious\nperiod is deterministic, we use a `DiscreteCallback` that fires at time $\\tau$."
      ],
      "metadata": {}
    },
    {
      "outputs": [],
      "cell_type": "code",
      "source": [
        "function affect_initial_recovery!(integrator)\n    integrator.u[2] -= u0[2]\n    integrator.u[3] += u0[2]\n\n    reset_aggregated_jumps!(integrator)\nend\n\ncb_initial_recovery = DiscreteCallback((u,t,integrator) -> t == p[3], affect_initial_recovery!)"
      ],
      "metadata": {},
      "execution_count": null
    },
    {
      "cell_type": "markdown",
      "source": [
        "## Time domain"
      ],
      "metadata": {}
    },
    {
      "outputs": [],
      "cell_type": "code",
      "source": [
        "tmax = 40.0\ntspan = (0.0,tmax);"
      ],
      "metadata": {},
      "execution_count": null
    },
    {
      "cell_type": "markdown",
      "source": [
        "For plotting, we can also define a separate time series."
      ],
      "metadata": {}
    },
    {
      "outputs": [],
      "cell_type": "code",
      "source": [
        "δt = 0.1\nt = 0:δt:tmax;"
      ],
      "metadata": {},
      "execution_count": null
    },
    {
      "cell_type": "markdown",
      "source": [
        "## Initial conditions"
      ],
      "metadata": {}
    },
    {
      "outputs": [],
      "cell_type": "code",
      "source": [
        "u0 = [990,10,0]; # S,I,R"
      ],
      "metadata": {},
      "execution_count": null
    },
    {
      "cell_type": "markdown",
      "source": [
        "Later, we will need to set the recovery times of these infected individuals, but this cannot be done until we have fully defined the `JumpProblem`.\n\n## Parameter values\n\nTo keep the simulations broadly comparable, the fixed infectious period `τ` is `1/γ` from the other tutorials."
      ],
      "metadata": {}
    },
    {
      "outputs": [],
      "cell_type": "code",
      "source": [
        "p = [0.05,10.0,4.0]; # β,c,τ"
      ],
      "metadata": {},
      "execution_count": null
    },
    {
      "cell_type": "markdown",
      "source": [
        "## Random number seed\n\nWe set a random number seed for reproducibility."
      ],
      "metadata": {}
    },
    {
      "outputs": [],
      "cell_type": "code",
      "source": [
        "Random.seed!(1234);"
      ],
      "metadata": {},
      "execution_count": null
    },
    {
      "cell_type": "markdown",
      "source": [
        "## Running the model\n\nRunning this model involves:\n\n- Setting up the problem as a `DiscreteProblem`;\n- Adding the jumps and setting the algorithm using `JumpProblem`; and\n- Running the model, specifying `SSAStepper()`"
      ],
      "metadata": {}
    },
    {
      "outputs": [],
      "cell_type": "code",
      "source": [
        "prob = DiscreteProblem(u0,tspan,p);"
      ],
      "metadata": {},
      "execution_count": null
    },
    {
      "outputs": [],
      "cell_type": "code",
      "source": [
        "prob_jump = JumpProblem(prob, Direct(), infection_jump);"
      ],
      "metadata": {},
      "execution_count": null
    },
    {
      "cell_type": "markdown",
      "source": [
        "The recovery events for the initial infected individuals aren't queued yet, so we add them here using the integrator interface (`init` and `solve!` rather than just passing a `Problem` to `solve`). For consistency with the DDE formulation, we assume that all initial infected individuals became infected at `t=0` and so they all recover at `t=τ=p[3]`."
      ],
      "metadata": {}
    },
    {
      "outputs": [],
      "cell_type": "code",
      "source": [
        "integrator = init(prob_jump,SSAStepper(), callback = recovery_callback);\nfor i in 1:10\n\tadd_tstop!(integrator, integrator.t + p[3])\nend"
      ],
      "metadata": {},
      "execution_count": null
    },
    {
      "outputs": [],
      "cell_type": "code",
      "source": [
        "solve!(integrator)"
      ],
      "metadata": {},
      "execution_count": null
    },
    {
      "outputs": [],
      "cell_type": "code",
      "source": [
        "sol_jump = solve(prob_jump, SSAStepper(), callback = CallbackSet(cb_initial_recovery, recovery_callback), tstops = [p[3]]);"
      ],
      "metadata": {},
      "execution_count": null
    },
    {
      "cell_type": "markdown",
      "source": [
        "## Post-processing\n\nIn order to get output comparable across implementations, we output the model at a fixed set of times."
      ],
      "metadata": {}
    },
    {
      "outputs": [],
      "cell_type": "code",
      "source": [
        "out_jump = sol_jump(t);"
      ],
      "metadata": {},
      "execution_count": null
    },
    {
      "cell_type": "markdown",
      "source": [
        "## Plotting\n\nWe can now plot the results."
      ],
      "metadata": {}
    },
    {
      "outputs": [],
      "cell_type": "code",
      "source": [
        "plot(\n    out_jump,\n    label=[\"S\" \"I\" \"R\"],\n    xlabel=\"Time\",\n    ylabel=\"Number\"\n)"
      ],
      "metadata": {},
      "execution_count": null
    },
    {
      "cell_type": "markdown",
      "source": [
        "## Benchmarking"
      ],
      "metadata": {}
    },
    {
      "outputs": [],
      "cell_type": "code",
      "source": [
        "@benchmark solve(prob_jump, SSAStepper(), callback = CallbackSet(cb_initial_recovery, recovery_callback), tstops = [p[3]]);"
      ],
      "metadata": {},
      "execution_count": null
    }
  ],
  "nbformat_minor": 2,
  "metadata": {
    "language_info": {
      "file_extension": ".jl",
      "mimetype": "application/julia",
      "name": "julia",
      "version": "1.7.1"
    },
    "kernelspec": {
      "name": "julia-1.7",
      "display_name": "Julia 1.7.1",
      "language": "julia"
    }
  },
  "nbformat": 4
}
