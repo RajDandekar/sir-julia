{
  "cells": [
    {
      "cell_type": "markdown",
      "source": [
        "# Ordinary differential equation model with inference using ABC\nSimon Frost (@sdwfrost), 2020-05-27\n\n## Introduction\n\nIn this notebook, we try to infer the parameter values from a simulated dataset using Approximate Bayesian Computation (ABC).\n\n## Libraries"
      ],
      "metadata": {}
    },
    {
      "outputs": [],
      "cell_type": "code",
      "source": [
        "using DifferentialEquations\nusing SimpleDiffEq\nusing Random\nusing Distributions\nusing GpABC\nusing Distances\nusing ApproxBayes\nusing Plots"
      ],
      "metadata": {},
      "execution_count": null
    },
    {
      "cell_type": "markdown",
      "source": [
        "## Model\n\nA variable is included for the number of infections, $Y$."
      ],
      "metadata": {}
    },
    {
      "outputs": [],
      "cell_type": "code",
      "source": [
        "function sir_ode!(du,u,p,t)\n    (S,I,R,C) = u\n    (β,c,γ) = p\n    N = S+I+R\n    infection = β*c*I/N*S\n    recovery = γ*I\n    @inbounds begin\n        du[1] = -infection\n        du[2] = infection - recovery\n        du[3] = recovery\n        du[4] = infection\n    end\n    nothing\nend;"
      ],
      "metadata": {},
      "execution_count": null
    },
    {
      "outputs": [],
      "cell_type": "code",
      "source": [
        "tmax = 40.0\nδt = 1.0\ntspan = (0.0,tmax)\nobstimes = 1.0:δt:tmax;\nu0 = [990.0,10.0,0.0,0.0]; # S,I.R,C\np = [0.05,10.0,0.25]; # β,c,γ"
      ],
      "metadata": {},
      "execution_count": null
    },
    {
      "outputs": [],
      "cell_type": "code",
      "source": [
        "prob_ode = ODEProblem(sir_ode!,u0,tspan,p)\nsol_ode = solve(prob_ode,saveat=δt)\nout_ode = Array(sol_ode)\nC = out_ode[4,:]\nX = C[2:end] .- C[1:(end-1)];"
      ],
      "metadata": {},
      "execution_count": null
    },
    {
      "outputs": [],
      "cell_type": "code",
      "source": [
        "Random.seed!(1234)\nY = rand.(Poisson.(X));"
      ],
      "metadata": {},
      "execution_count": null
    },
    {
      "outputs": [],
      "cell_type": "code",
      "source": [
        "bar(obstimes,Y)\nplot!(obstimes,X)"
      ],
      "metadata": {},
      "execution_count": null
    },
    {
      "cell_type": "markdown",
      "source": [
        "## GpABC\n\nThe `GpABC` package requires a function that takes parameter values (as an array) and returns data as an array with variables as rows and timepoints as columns.\n\nIn this example, two parameters will be estimated; the proportion of the population that are initially infected and the infection probability β."
      ],
      "metadata": {}
    },
    {
      "outputs": [],
      "cell_type": "code",
      "source": [
        "function simdata(x)\n    (i0,β) = x\n    I = i0*1000.0\n    prob = remake(prob_ode,u0=[1000-I,I,0.0,0.0],p=[β,10.0,0.25])\n    sol = solve(prob,Tsit5(),saveat=δt)\n    out = Array(sol)\n    C = out[4,:]\n    X = C[2:end] .- C[1:(end-1)]\n    transpose(X)\nend;"
      ],
      "metadata": {},
      "execution_count": null
    },
    {
      "cell_type": "markdown",
      "source": [
        "The priors are given as an array of `Distributions`. For this example, I'm using informative priors, which greatly speeds things up."
      ],
      "metadata": {}
    },
    {
      "outputs": [],
      "cell_type": "code",
      "source": [
        "priors = [Uniform(0.0,0.1),Uniform(0.0,0.1)];"
      ],
      "metadata": {},
      "execution_count": null
    },
    {
      "cell_type": "markdown",
      "source": [
        "To compare the simulations with the real data, we convert the (integer) number of new cases to floating point, and reshape."
      ],
      "metadata": {}
    },
    {
      "outputs": [],
      "cell_type": "code",
      "source": [
        "Yt = transpose(float.(Y));"
      ],
      "metadata": {},
      "execution_count": null
    },
    {
      "cell_type": "markdown",
      "source": [
        "### Simulation and rejection\n\nA simple but brute force approach is to simulate multiple draws from the prior and accept those within a certain `threshold` distance. These are known as particles; in `GpABC`, this process continues until a given number of particles have been accepted. Here, the threshold is set at 80 (i.e. a distance of two per observation). This appears to run on all available cores by default."
      ],
      "metadata": {}
    },
    {
      "outputs": [],
      "cell_type": "code",
      "source": [
        "n_particles = 2000\nthreshold = 80.0\nsim_rej_result = SimulatedABCRejection(\n    Yt, # data\n    simdata, # simulator\n    priors, # priors\n    threshold, # threshold distance\n    n_particles; # particles required\n    max_iter=convert(Int, 1e7),\n    distance_function = Distances.euclidean,\n    write_progress=false);"
      ],
      "metadata": {},
      "execution_count": null
    },
    {
      "outputs": [],
      "cell_type": "code",
      "source": [
        "plot(sim_rej_result)"
      ],
      "metadata": {},
      "execution_count": null
    },
    {
      "cell_type": "markdown",
      "source": [
        "### Emulation and rejection\n\nThe following code chunk runs emulation rather than simulation with rejection. Emulation is mostly advantageous with expensive models (unlike this one), but is included here for completeness."
      ],
      "metadata": {}
    },
    {
      "outputs": [],
      "cell_type": "code",
      "source": [
        "n_design_points = 500\nemu_rej_result = EmulatedABCRejection(Yt,\n    simdata,\n    priors,\n    threshold,\n    n_particles,\n    n_design_points;\n    max_iter=convert(Int, 1e7),\n    distance_function = Distances.euclidean,\n    write_progress=false);"
      ],
      "metadata": {},
      "execution_count": null
    },
    {
      "outputs": [],
      "cell_type": "code",
      "source": [
        "plot(emu_rej_result)"
      ],
      "metadata": {},
      "execution_count": null
    },
    {
      "cell_type": "markdown",
      "source": [
        "### ABC-SMC\n\nRunning ABC with sequential Monte Carlo requires a sequence of thresholds. As the distance is floating point, this sequence also has to be floating point."
      ],
      "metadata": {}
    },
    {
      "outputs": [],
      "cell_type": "code",
      "source": [
        "threshold_schedule = [110.0,100.0,90.0,80.0];"
      ],
      "metadata": {},
      "execution_count": null
    },
    {
      "outputs": [],
      "cell_type": "code",
      "source": [
        "sim_smc_result = SimulatedABCSMC(Yt,\n    simdata,\n    priors,\n    threshold_schedule,\n    n_particles;\n    max_iter=convert(Int, 1e7),\n    distance_function = Distances.euclidean,\n    write_progress=false);"
      ],
      "metadata": {},
      "execution_count": null
    },
    {
      "outputs": [],
      "cell_type": "code",
      "source": [
        "population_colors=[\"#FF2F4E\", \"#D0001F\", \"#A20018\", \"#990017\"]\nplot(sim_smc_result, population_colors=population_colors)"
      ],
      "metadata": {},
      "execution_count": null
    },
    {
      "cell_type": "markdown",
      "source": [
        "### Emulation and SMC\n\nWhen using emulation with SMC, it is possible to reuse simulations for retraining the emulator."
      ],
      "metadata": {}
    },
    {
      "outputs": [],
      "cell_type": "code",
      "source": [
        "emu_smc_result = EmulatedABCSMC(Yt,\n    simdata,\n    priors,\n    threshold_schedule,\n    n_particles,\n    n_design_points;\n    distance_metric = Distances.euclidean,\n    batch_size=1000,\n    write_progress=false,\n    emulator_retraining = PreviousPopulationThresholdRetraining(n_design_points, 100, 10),\n    emulated_particle_selection = MeanVarEmulatedParticleSelection());"
      ],
      "metadata": {},
      "execution_count": null
    },
    {
      "outputs": [],
      "cell_type": "code",
      "source": [
        "plot(emu_smc_result, population_colors=population_colors)"
      ],
      "metadata": {},
      "execution_count": null
    },
    {
      "cell_type": "markdown",
      "source": [
        "## ApproxBayes\n\nThe `ApproxBayes` library requires that the simulated data are in a different format than for `GpABC`. The distance function returns the distance *and* an additional result that can be used for e.g. returning the simulated data; here, a placeholder is returned."
      ],
      "metadata": {}
    },
    {
      "outputs": [],
      "cell_type": "code",
      "source": [
        "function simdist(x, constants, y)\n  s = transpose(simdata(x))\n  Distances.euclidean(s, y), 1\nend;"
      ],
      "metadata": {},
      "execution_count": null
    },
    {
      "cell_type": "markdown",
      "source": [
        "### Rejection"
      ],
      "metadata": {}
    },
    {
      "outputs": [],
      "cell_type": "code",
      "source": [
        "ab_rej_setup = ABCRejection(simdist, #simulation function\n  2, # number of parameters\n  threshold, #target ϵ\n  Prior(priors); # Prior for each of the parameters\n  maxiterations = 10^7, #Maximum number of iterations before the algorithm terminates\n  nparticles = n_particles\n  );"
      ],
      "metadata": {},
      "execution_count": null
    },
    {
      "outputs": [],
      "cell_type": "code",
      "source": [
        "ab_rej = runabc(ab_rej_setup,\n            Y,\n            verbose = true,\n            progress = true,\n            parallel = true);"
      ],
      "metadata": {},
      "execution_count": null
    },
    {
      "outputs": [],
      "cell_type": "code",
      "source": [
        "plot(ab_rej)"
      ],
      "metadata": {},
      "execution_count": null
    },
    {
      "cell_type": "markdown",
      "source": [
        "### SMC"
      ],
      "metadata": {}
    },
    {
      "outputs": [],
      "cell_type": "code",
      "source": [
        "ab_smc_setup = ABCSMC(simdist, #simulation function\n  2, # number of parameters\n  threshold, #target ϵ\n  Prior(priors), #Prior for each of the parameters\n  maxiterations=convert(Int,1e7),\n  nparticles=n_particles,\n  α = 0.3,\n  convergence = 0.05,\n  kernel = uniformkernel\n  );"
      ],
      "metadata": {},
      "execution_count": null
    },
    {
      "outputs": [],
      "cell_type": "code",
      "source": [
        "ab_smc = runabc(ab_smc_setup,\n            Y,\n            verbose = true,\n            progress = true,\n            parallel = true);"
      ],
      "metadata": {},
      "execution_count": null
    },
    {
      "outputs": [],
      "cell_type": "code",
      "source": [
        "plot(ab_smc)"
      ],
      "metadata": {},
      "execution_count": null
    }
  ],
  "nbformat_minor": 2,
  "metadata": {
    "language_info": {
      "file_extension": ".jl",
      "mimetype": "application/julia",
      "name": "julia",
      "version": "1.5.4"
    },
    "kernelspec": {
      "name": "julia-1.5",
      "display_name": "Julia 1.5.4",
      "language": "julia"
    }
  },
  "nbformat": 4
}
