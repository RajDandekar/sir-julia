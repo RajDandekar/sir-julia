{
  "cells": [
    {
      "cell_type": "markdown",
      "source": [
        "# Agent-based model using DifferentialEquations\nSimon Frost (@sdwfrost), 2020-05-03\n\n## Introduction\n\nThe agent-based model approach is:\n\n- Stochastic\n- Discrete in time\n- Discrete in state\n\nThere are multiple ways in which the model state can be updated. In this implementation, there is the initial state, `u`, and the next state, `u`, and updates occur by looping through all the agents (in this case, just a vector of states), and determining whether a transition occurs each state. This approach is relatively simple as there is a chain of states that an individual passes through (i.e. only one transition type per state). After all states have been updated in `du`, they are then assigned to the current state, `u`.\n\n## Libraries"
      ],
      "metadata": {}
    },
    {
      "outputs": [],
      "cell_type": "code",
      "source": [
        "using DifferentialEquations\nusing DiffEqCallbacks\nusing Distributions\nusing StatsBase\nusing Random\nusing DataFrames\nusing StatsPlots\nusing BenchmarkTools"
      ],
      "metadata": {},
      "execution_count": null
    },
    {
      "cell_type": "markdown",
      "source": [
        "## Utility functions"
      ],
      "metadata": {}
    },
    {
      "outputs": [],
      "cell_type": "code",
      "source": [
        "function rate_to_proportion(r::Float64,t::Float64)\n    1-exp(-r*t)\nend;"
      ],
      "metadata": {},
      "execution_count": null
    },
    {
      "cell_type": "markdown",
      "source": [
        "## Transitions\n\nAs this is a simple model, the global state of the system is a vector of infection states, defined using an `@enum`."
      ],
      "metadata": {}
    },
    {
      "outputs": [],
      "cell_type": "code",
      "source": [
        "@enum InfectionStatus Susceptible Infected Recovered"
      ],
      "metadata": {},
      "execution_count": null
    },
    {
      "cell_type": "markdown",
      "source": [
        "The following is a fix to allow the model to be compiled, though we don't use any of the symbolic features of `DifferentialEquations.jl`."
      ],
      "metadata": {}
    },
    {
      "outputs": [],
      "cell_type": "code",
      "source": [
        "Base.zero(::Type{InfectionStatus}) = Infected"
      ],
      "metadata": {},
      "execution_count": null
    },
    {
      "outputs": [],
      "cell_type": "code",
      "source": [
        "function sir_abm!(du,u,p,t)\n    (β,c,γ,δt) = p\n    N = length(u)\n    # Initialize du to u\n    for i in 1:N\n        du[i] = u[i]\n    end\n    for i in 1:N # loop through agents\n        # If recovered\n        if u[i]==Recovered\n            continue\n        # If susceptible\n        elseif u[i]==Susceptible\n            ncontacts = rand(Poisson(c*δt))\n            while ncontacts > 0\n                j = sample(1:N)\n                if j==i\n                    continue\n                end\n                a = u[j]\n                if a==Infected && rand() < β\n                    du[i] = Infected\n                    break\n                end\n                ncontacts -= 1\n            end\n        # If infected\n        else u[i]==Infected\n            if rand() < γ\n                du[i] = Recovered\n            end\n        end\n    end\n    nothing\nend;"
      ],
      "metadata": {},
      "execution_count": null
    },
    {
      "cell_type": "markdown",
      "source": [
        "## Time domain"
      ],
      "metadata": {}
    },
    {
      "outputs": [],
      "cell_type": "code",
      "source": [
        "δt = 0.1\ntf = 40.0\ntspan = (0.0,tf);"
      ],
      "metadata": {},
      "execution_count": null
    },
    {
      "cell_type": "markdown",
      "source": [
        "## Parameter values"
      ],
      "metadata": {}
    },
    {
      "outputs": [],
      "cell_type": "code",
      "source": [
        "β = 0.05\nc = 10.0\nγ = rate_to_proportion(0.25,δt)\np = [β,c,γ,δt];"
      ],
      "metadata": {},
      "execution_count": null
    },
    {
      "cell_type": "markdown",
      "source": [
        "## Initial conditions"
      ],
      "metadata": {}
    },
    {
      "outputs": [],
      "cell_type": "code",
      "source": [
        "N = 1000\nI0 = 10\nu0 = Array{InfectionStatus}(undef,N)\nfor i in 1:N\n    if i <= I0\n        s = Infected\n    else\n        s = Susceptible\n    end\n    u0[i] = s\nend"
      ],
      "metadata": {},
      "execution_count": null
    },
    {
      "cell_type": "markdown",
      "source": [
        "## Random number seed"
      ],
      "metadata": {}
    },
    {
      "outputs": [],
      "cell_type": "code",
      "source": [
        "Random.seed!(1234);"
      ],
      "metadata": {},
      "execution_count": null
    },
    {
      "cell_type": "markdown",
      "source": [
        "## Running the model\n\nWe need some reporting functions."
      ],
      "metadata": {}
    },
    {
      "outputs": [],
      "cell_type": "code",
      "source": [
        "susceptible(u) = count(i == Susceptible for i in u)\ninfected(u) = count(i == Infected for i in u)\nrecovered(u) = count(i == Recovered for i in u);"
      ],
      "metadata": {},
      "execution_count": null
    },
    {
      "outputs": [],
      "cell_type": "code",
      "source": [
        "saved_values = SavedValues(Float64, Tuple{Int64,Int64,Int64})\ncb = SavingCallback((u,t,integrator)->(susceptible(u),infected(u),recovered(u)),\n    saved_values,\n    saveat=0:δt:tf);"
      ],
      "metadata": {},
      "execution_count": null
    },
    {
      "outputs": [],
      "cell_type": "code",
      "source": [
        "prob_abm = DiscreteProblem(sir_abm!,u0,tspan,p);"
      ],
      "metadata": {},
      "execution_count": null
    },
    {
      "outputs": [],
      "cell_type": "code",
      "source": [
        "sol_abm = solve(prob_abm,\n    solver = FunctionMap(),\n    dt = δt,\n    callback = cb,\n    dense = false,\n    save_on = false);"
      ],
      "metadata": {},
      "execution_count": null
    },
    {
      "cell_type": "markdown",
      "source": [
        "## Post-processing\n\nWe can convert the output to a dataframe for convenience."
      ],
      "metadata": {}
    },
    {
      "outputs": [],
      "cell_type": "code",
      "source": [
        "df_abm = DataFrame(saved_values.saveval)\nrename!(df_abm,[:S,:I,:R])\ndf_abm[!,:t] = saved_values.t;"
      ],
      "metadata": {},
      "execution_count": null
    },
    {
      "cell_type": "markdown",
      "source": [
        "## Plotting"
      ],
      "metadata": {}
    },
    {
      "outputs": [],
      "cell_type": "code",
      "source": [
        "@df df_abm plot(:t,\n    [:S :I :R],\n    label=[\"S\" \"I\" \"R\"],\n    xlabel=\"Time\",\n    ylabel=\"Number\")"
      ],
      "metadata": {},
      "execution_count": null
    },
    {
      "cell_type": "markdown",
      "source": [
        "## Benchmarking"
      ],
      "metadata": {}
    },
    {
      "outputs": [],
      "cell_type": "code",
      "source": [
        "@benchmark solve(prob_abm,\n    solver=FunctionMap,\n    dt=δt,\n    callback=cb,\n    dense=false,\n    save_on=false)"
      ],
      "metadata": {},
      "execution_count": null
    }
  ],
  "nbformat_minor": 2,
  "metadata": {
    "language_info": {
      "file_extension": ".jl",
      "mimetype": "application/julia",
      "name": "julia",
      "version": "1.5.4"
    },
    "kernelspec": {
      "name": "julia-1.5",
      "display_name": "Julia 1.5.4",
      "language": "julia"
    }
  },
  "nbformat": 4
}
