{
  "cells": [
    {
      "cell_type": "markdown",
      "source": [
        "# Moment closure of an SIR reaction network model using MomentClosure.jl\nSimon Frost (@sdwfrost), 2021-03-10\n\n## Introduction\n\nThis tutorial demonstrates how we can take a stochastic process defined as a reaction network, and generate ordinary differential equations describing the mean, variances and covariances, and higher moments. For non-linear systems such as the SIR model, ODEs for one moment are in terms of higher moments. Hence, in order to limit the size of the system, it needs to be 'closed' i.e. an approximation is made for the higher moments. `MomentClosure.jl` has a number of strategies for doing this. In the following, I take a simplified (but equivalent) version of the SIR model considered in this repository and compare moment closure approximations with stochastic simulations.\n\n## Libraries"
      ],
      "metadata": {}
    },
    {
      "outputs": [],
      "cell_type": "code",
      "source": [
        "using DifferentialEquations\nusing OrdinaryDiffEq\nusing MomentClosure\nusing ModelingToolkit\nusing DiffEqJump\nusing DataFrames\nusing Statistics\nusing Plots\nusing StatsPlots\nusing BenchmarkTools"
      ],
      "metadata": {},
      "execution_count": null
    },
    {
      "cell_type": "markdown",
      "source": [
        "## Transitions\n\nSome moment closure methods (e.g. log-normal) assume that the states of the system are positive. Hence, when describing the system, I omit recovered individuals, `R`. As the population size is constant, this does not affect the dynamics of `S` or `I`. In addition, I write the transmission rate as `βc` rather than `βc/N`; while this does not affect the dynamics of the populations (after changing the value of `β`), it makes generation of the moment equations more straightforward as the rate terms are polynomial.\n\nI first define the parameters, variables, and reactions using ModelingToolkit.jl syntax."
      ],
      "metadata": {}
    },
    {
      "outputs": [],
      "cell_type": "code",
      "source": [
        "@parameters t β c γ\n@variables S(t) I(t);"
      ],
      "metadata": {},
      "execution_count": null
    },
    {
      "outputs": [],
      "cell_type": "code",
      "source": [
        "rxs = [Reaction(β*c, [S,I], [I], [1,1], [2])\n       Reaction(γ, [I], nothing)]\nrs  = ReactionSystem(rxs, t, [S,I], [β,c,γ]);"
      ],
      "metadata": {},
      "execution_count": null
    },
    {
      "cell_type": "markdown",
      "source": [
        "## Time domain\n\nWe set the timespan for simulations."
      ],
      "metadata": {}
    },
    {
      "outputs": [],
      "cell_type": "code",
      "source": [
        "δt = 0.1\ntmax = 40.0\ntspan = (0.0,tmax)\nts = 0:δt:tmax;"
      ],
      "metadata": {},
      "execution_count": null
    },
    {
      "cell_type": "markdown",
      "source": [
        "## Initial conditions\n\nIn `ModelingToolkit`, the initial values are defined by an vector of `Pair`s."
      ],
      "metadata": {}
    },
    {
      "outputs": [],
      "cell_type": "code",
      "source": [
        "u0 = [S => 990.0, I => 10.0];"
      ],
      "metadata": {},
      "execution_count": null
    },
    {
      "cell_type": "markdown",
      "source": [
        "We will also need this as a vector of type `Real` for `MomentClosure.jl`."
      ],
      "metadata": {}
    },
    {
      "outputs": [],
      "cell_type": "code",
      "source": [
        "u0v = [x[2] for x in u0];"
      ],
      "metadata": {},
      "execution_count": null
    },
    {
      "cell_type": "markdown",
      "source": [
        "## Parameter values\n\nSimilarly, the parameter values are defined by a dictionary."
      ],
      "metadata": {}
    },
    {
      "outputs": [],
      "cell_type": "code",
      "source": [
        "p = [β=>0.00005, c=>10.0, γ=>0.25];"
      ],
      "metadata": {},
      "execution_count": null
    },
    {
      "cell_type": "markdown",
      "source": [
        "## Generating central moment equations\n\nWe often deal with central moments (mean, variances, etc.) in epidemiological models. For polynomial rates (e.g. λ=βSI), we only need to specify the order of the moments we would like to consider. For demonstration purposes, we'll set the order, `m` to be 4; even though we may just be interested in means and (co)variances, a higher order will give better approximations."
      ],
      "metadata": {}
    },
    {
      "outputs": [],
      "cell_type": "code",
      "source": [
        "central_eqs = generate_central_moment_eqs(rs, 4, combinatoric_ratelaw=false);"
      ],
      "metadata": {},
      "execution_count": null
    },
    {
      "cell_type": "markdown",
      "source": [
        "## Moment closure\n\n`MomentClosure.jl` provides many ways to close the system. For each system, we also need to generate a set of corresponding initial conditions. I'll take a selection of these methods."
      ],
      "metadata": {}
    },
    {
      "outputs": [],
      "cell_type": "code",
      "source": [
        "closure_methods = [\"zero\",\"normal\",\"log-normal\",\"gamma\",\"derivative matching\"];"
      ],
      "metadata": {},
      "execution_count": null
    },
    {
      "cell_type": "markdown",
      "source": [
        "I generate a dictionary with the closed equations for each method."
      ],
      "metadata": {}
    },
    {
      "outputs": [],
      "cell_type": "code",
      "source": [
        "closed_central_eqs = Dict(cm=>moment_closure(central_eqs,cm) for cm in closure_methods);"
      ],
      "metadata": {},
      "execution_count": null
    },
    {
      "cell_type": "markdown",
      "source": [
        "Next, I have to generate the corresponding initial condition, which is assumed to be determistic, for each method."
      ],
      "metadata": {}
    },
    {
      "outputs": [],
      "cell_type": "code",
      "source": [
        "u0map = Dict(cm=> deterministic_IC(u0v,closed_central_eqs[cm]) for cm in closure_methods);"
      ],
      "metadata": {},
      "execution_count": null
    },
    {
      "cell_type": "markdown",
      "source": [
        "## Defining and solving the closed equations\n\nThe problem can now be defined and solved. Here, I cycle through the closure methods."
      ],
      "metadata": {}
    },
    {
      "outputs": [],
      "cell_type": "code",
      "source": [
        "closed_central_eqs_df = Dict{String,DataFrame}()\nfor cm in closure_methods\n    prob = ODEProblem(closed_central_eqs[cm], u0map[cm], tspan, p)\n    sol = solve(prob)\n    df = DataFrame(sol(ts)',[replace(string(x[1]),\"(t)\" => \"\") for x in u0map[cm]])\n    df[!,:t] = ts\n    closed_central_eqs_df[cm] = df\nend;"
      ],
      "metadata": {},
      "execution_count": null
    },
    {
      "cell_type": "markdown",
      "source": [
        "## Compare with stochastic simulations\n\nTo evaluate the performance of the different moment closure methods, we take multiple stochastic simulations generated using Gillespie's SSA method, and compute the means and covariances."
      ],
      "metadata": {}
    },
    {
      "outputs": [],
      "cell_type": "code",
      "source": [
        "jumpsys = convert(JumpSystem, rs)\nu0i = [S => 990, I => 10]\ndprob = DiscreteProblem(jumpsys, u0i, tspan, p)\njprob = JumpProblem(jumpsys, dprob, Direct());"
      ],
      "metadata": {},
      "execution_count": null
    },
    {
      "outputs": [],
      "cell_type": "code",
      "source": [
        "ensemble_jprob = EnsembleProblem(jprob)\nensemble_jsol = solve(ensemble_jprob,SSAStepper(),trajectories=20000)\nensemble_summary = EnsembleSummary(ensemble_jsol,ts);"
      ],
      "metadata": {},
      "execution_count": null
    },
    {
      "cell_type": "markdown",
      "source": [
        "For plotting purposes, I extract the output into a `DataFrame`."
      ],
      "metadata": {}
    },
    {
      "outputs": [],
      "cell_type": "code",
      "source": [
        "ensemble_u = DataFrame(ensemble_summary.u',[\"μ₁₀\",\"μ₀₁\"])\nensemble_v = DataFrame(ensemble_summary.v',[\"M₂₀\",\"M₀₂\"])\nensemble_uv = hcat(ensemble_u,ensemble_v)\nensemble_uv[!,:t] = ts;"
      ],
      "metadata": {},
      "execution_count": null
    },
    {
      "cell_type": "markdown",
      "source": [
        "To compare visually, I plot the mean ± 2 standard deviations for `S` and `I` based on the jump process samples."
      ],
      "metadata": {}
    },
    {
      "outputs": [],
      "cell_type": "code",
      "source": [
        "jplot = @df ensemble_uv plot(:t,[:μ₁₀,:μ₀₁],\n     ribbon=[2*sqrt.(:M₂₀),\n             2*sqrt.(:M₀₂)],\n     label=[\"S\" \"I\"],\n     xlabel=\"Time\",\n     ylabel=\"Number\",\n     title=\"Jump process\")"
      ],
      "metadata": {},
      "execution_count": null
    },
    {
      "cell_type": "markdown",
      "source": [
        "I then cycle through the different moment closure methods and generate the corresponding plots."
      ],
      "metadata": {}
    },
    {
      "outputs": [],
      "cell_type": "code",
      "source": [
        "pltlist = []\nfor cm in closure_methods\n     plt = @df closed_central_eqs_df[cm] plot(:t,[:μ₁₀,:μ₀₁],\n          ribbon=[2*sqrt.(:M₂₀),\n                  2*sqrt.(:M₀₂)],\n          label=[\"S\" \"I\"],\n          xlabel=\"Time\",\n          ylabel=\"Number\",\n          title=cm)\n    push!(pltlist,plt)\nend;"
      ],
      "metadata": {},
      "execution_count": null
    },
    {
      "cell_type": "markdown",
      "source": [
        "Plotting the different techniques out shows the broad agreement between the methods."
      ],
      "metadata": {}
    },
    {
      "outputs": [],
      "cell_type": "code",
      "source": [
        "l = @layout [a b c; d e f]\nplot(vcat(jplot,pltlist)...,layout=l)"
      ],
      "metadata": {},
      "execution_count": null
    },
    {
      "cell_type": "markdown",
      "source": [
        "I then calculate the L1 norm (i.e. the sum of the absolute differences) for the means and variances, and normalized by the number of timepoints (smaller=better)."
      ],
      "metadata": {}
    },
    {
      "outputs": [],
      "cell_type": "code",
      "source": [
        "m = []\nc = []\nv = []\nfor moment in [:μ₁₀,:μ₀₁,:M₂₀,:M₀₂]\n    for cm in closure_methods\n        push!(m,moment)\n        push!(c,cm)\n        push!(v,mean(abs.(closed_central_eqs_df[cm][!,moment] - ensemble_uv[!,moment])))\n    end\nend\nprint(DataFrame([\"Moment\" => m,\"Method\" => c,\"Normalized L1\" => v]));"
      ],
      "metadata": {},
      "execution_count": null
    },
    {
      "cell_type": "markdown",
      "source": [
        "For this particular example, the normal closure does the best in terms of describing the mean and variances.\n\n## Benchmarks\n\nLet's compare the speed of the simulations versus the moment closure system (\"normal\" method)."
      ],
      "metadata": {}
    },
    {
      "outputs": [],
      "cell_type": "code",
      "source": [
        "@benchmark solve(ensemble_jprob,SSAStepper(),trajectories=20000)"
      ],
      "metadata": {},
      "execution_count": null
    },
    {
      "outputs": [],
      "cell_type": "code",
      "source": [
        "prob = ODEProblem(closed_central_eqs[\"normal\"], u0map[\"normal\"], tspan, p)\n@benchmark sol = solve(prob)"
      ],
      "metadata": {},
      "execution_count": null
    },
    {
      "cell_type": "markdown",
      "source": [
        "As can be seen above, if only the first few moments are of interest, the moment closure approach is much faster."
      ],
      "metadata": {}
    }
  ],
  "nbformat_minor": 2,
  "metadata": {
    "language_info": {
      "file_extension": ".jl",
      "mimetype": "application/julia",
      "name": "julia",
      "version": "1.5.4"
    },
    "kernelspec": {
      "name": "julia-1.5",
      "display_name": "Julia 1.5.4",
      "language": "julia"
    }
  },
  "nbformat": 4
}
