{
  "cells": [
    {
      "cell_type": "markdown",
      "source": [
        "# Linear noise approximation\nSimon Frost (@sdwfrost), 2020-06-11\n\n## Introduction\n\nA flexible way to specify models is in terms of the individual processes, in terms of their rates and the effect that these processes have on the states of the system. This approach, taken to write Gillespie-type jump processes, can be used to generate a linear noise approximation to the underlying stochastic system. See [Approximation  and  inference  methods  for stochastic  biochemical  kinetics - a  tutorial  review](https://arxiv.org/abs/1608.06582) and the code in [GpABC.jl](https://tanhevg.github.io/GpABC.jl/latest/overview-lna/) for further details.\n\nThe code here is adapted from the examples in `GpABC.jl` in order to be more consistent with the other tutorials in the repository, and to show the inner workings of the linear noise approximation.\n\n## Libraries"
      ],
      "metadata": {}
    },
    {
      "outputs": [],
      "cell_type": "code",
      "source": [
        "using OrdinaryDiffEq\nusing ForwardDiff\nusing DataFrames\nusing LinearAlgebra\nusing StatsPlots"
      ],
      "metadata": {},
      "execution_count": null
    },
    {
      "cell_type": "markdown",
      "source": [
        "## Transitions\n\nThe following code expects a single function that returns a vector of all the rates."
      ],
      "metadata": {}
    },
    {
      "outputs": [],
      "cell_type": "code",
      "source": [
        "function sir_rates(u,p)\n  (S,I,R) = u\n  (β,c,γ) = p\n  N = S+I+R\n  infection = β*c*I/N*S\n  recovery = γ*I\n  [infection,recovery]\nend;"
      ],
      "metadata": {},
      "execution_count": null
    },
    {
      "cell_type": "markdown",
      "source": [
        "The transitions are defined as an array with the number of rows being the number of rates and the number of columns the number of states, the convention used in `Gillespie.jl`, with the exception that the states are continuous. This convention is also used [here](https://arxiv.org/abs/2001.05099)."
      ],
      "metadata": {}
    },
    {
      "outputs": [],
      "cell_type": "code",
      "source": [
        "sir_transitions = float.([[-1  1  0];\n                          [ 0 -1  1]])"
      ],
      "metadata": {},
      "execution_count": null
    },
    {
      "cell_type": "markdown",
      "source": [
        "This means that the first rate results in the first variable going down by one, and the second variable going up by one, with the third variable remaining unchanged, etc..\n\n## Time domain\n\nWe set the timespan for simulations, `tspan`, initial conditions, `u0`, and parameter values, `p` (which are unpacked above as `[β,γ]`)."
      ],
      "metadata": {}
    },
    {
      "outputs": [],
      "cell_type": "code",
      "source": [
        "δt = 0.1\ntmax = 40.0\ntspan = (0.0,tmax)\nt = 0.0:δt:tmax;"
      ],
      "metadata": {},
      "execution_count": null
    },
    {
      "cell_type": "markdown",
      "source": [
        "## Initial conditions\n\nFor the linear noise approximation, we need the initial conditions for the mean vector as well as the covariance matrix. The implementation below stacks a diaglonal matrix with the mean on top of the covariance matrix."
      ],
      "metadata": {}
    },
    {
      "outputs": [],
      "cell_type": "code",
      "source": [
        "u0 = [990.0,10.0,0.0]; # S,I.R\nc0 = zeros(3,3) # covariance matrix\nuc0 = vcat(diagm(0=>u0), c0)"
      ],
      "metadata": {},
      "execution_count": null
    },
    {
      "cell_type": "markdown",
      "source": [
        "## Parameter values"
      ],
      "metadata": {}
    },
    {
      "outputs": [],
      "cell_type": "code",
      "source": [
        "p = [0.05,10.0,0.25]; # β,c,γ"
      ],
      "metadata": {},
      "execution_count": null
    },
    {
      "cell_type": "markdown",
      "source": [
        "## Initialize functions\n\nIn order to make the following code more reusable, while keeping the code simple, we define the rate function and the transition stoichiometry matrix using more generic names."
      ],
      "metadata": {}
    },
    {
      "outputs": [],
      "cell_type": "code",
      "source": [
        "rates = sir_rates\ntransitions = sir_transitions\nnrates, nstates = size(transitions);"
      ],
      "metadata": {},
      "execution_count": null
    },
    {
      "cell_type": "markdown",
      "source": [
        "## Ordinary differential equation from rates and transitions\n\nThe rates and transitions can easily be used to define an ODE system."
      ],
      "metadata": {}
    },
    {
      "outputs": [],
      "cell_type": "code",
      "source": [
        "function ode(du, u, p, t)\n    du[1:3] = transitions' * rates(u, p)\nend;"
      ],
      "metadata": {},
      "execution_count": null
    },
    {
      "outputs": [],
      "cell_type": "code",
      "source": [
        "prob_ode = ODEProblem(ode, u0 ,tspan, p);"
      ],
      "metadata": {},
      "execution_count": null
    },
    {
      "outputs": [],
      "cell_type": "code",
      "source": [
        "sol_ode = solve(prob_ode, Tsit5(), saveat=t);"
      ],
      "metadata": {},
      "execution_count": null
    },
    {
      "outputs": [],
      "cell_type": "code",
      "source": [
        "df_ode = DataFrame(sol_ode(t)')\ndf_ode[!,:t] = t;"
      ],
      "metadata": {},
      "execution_count": null
    },
    {
      "outputs": [],
      "cell_type": "code",
      "source": [
        "@df df_ode plot(:t,\n    [:x1 :x2 :x3],\n    label=[\"S\" \"I\" \"R\"],\n    xlabel=\"Time\",\n    ylabel=\"Number\",\n    c=[:blue :red :green])"
      ],
      "metadata": {},
      "execution_count": null
    },
    {
      "cell_type": "markdown",
      "source": [
        "## Linear noise approximation from rates and transitions\n\nThe rate and transition formulation also lends itself to deriving the linear noise approximation, which uses `ForwardDiff.jl` to calculate the required jacobian of the system.\n\nThe state `u` is two matrices concatenated on top of each other: a diagonal matrix with the means on the diagonal follwed by the covariance matrix; this implementation was developed in `GpABC.jl`."
      ],
      "metadata": {}
    },
    {
      "outputs": [],
      "cell_type": "code",
      "source": [
        "function lna(du, u, p, t)\n        mean_vec = diag(u)\n        covar_mx = u[nstates+1:nstates*2,:]\n        reaction_rates = rates(mean_vec, p)\n        reaction_rates_jac = ForwardDiff.jacobian(\n            y -> rates(y, p),\n            mean_vec)\n        A = transitions' * reaction_rates_jac\n        du[1:nstates, :] .= diagm(0 => transitions'*reaction_rates)\n        du[nstates + 1:end, :] .= A*covar_mx + covar_mx*A' + transitions' * diagm(0 => reaction_rates) * transitions\nend;"
      ],
      "metadata": {},
      "execution_count": null
    },
    {
      "cell_type": "markdown",
      "source": [
        "## Running the model"
      ],
      "metadata": {}
    },
    {
      "outputs": [],
      "cell_type": "code",
      "source": [
        "prob_lna = ODEProblem(lna, uc0, tspan, p);"
      ],
      "metadata": {},
      "execution_count": null
    },
    {
      "outputs": [],
      "cell_type": "code",
      "source": [
        "sol_lna = solve(prob_lna, Tsit5(),saveat=t);"
      ],
      "metadata": {},
      "execution_count": null
    },
    {
      "cell_type": "markdown",
      "source": [
        "## Post-processing\n\nThe following code extracts the mean and standard deviation of the trajectories."
      ],
      "metadata": {}
    },
    {
      "outputs": [],
      "cell_type": "code",
      "source": [
        "mean_traj = Array{Float64,2}(undef, nstates, length(t))\ncovar_traj = Array{Array{Float64,2},1}(undef, length(t))\nfor j in 1:length(t)\n    mean_traj[:,j] = diag(sol_lna[j][1:nstates,1:nstates])\n    covar_traj[j] = sol_lna[j][nstates+1:end, 1:nstates]\nend;"
      ],
      "metadata": {},
      "execution_count": null
    },
    {
      "outputs": [],
      "cell_type": "code",
      "source": [
        "var_traj = zeros(nstates, length(t))\nfor (idx, elt) in enumerate(covar_traj)\n    var_traj[:, idx] = diag(elt)\nend\nsd_traj = 1.96 .* sqrt.(var_traj);"
      ],
      "metadata": {},
      "execution_count": null
    },
    {
      "cell_type": "markdown",
      "source": [
        "## Plotting"
      ],
      "metadata": {}
    },
    {
      "outputs": [],
      "cell_type": "code",
      "source": [
        "plot(t, mean_traj',\n     ribbon=sd_traj',\n     label = [\"S\" \"I\" \"R\"],\n     xlabel = \"Time\",\n     ylabel = \"Number\")"
      ],
      "metadata": {},
      "execution_count": null
    },
    {
      "cell_type": "markdown",
      "source": [
        "Note that the implementation here does not lend itself well to either generating individual trajectories or to fitting data."
      ],
      "metadata": {}
    }
  ],
  "nbformat_minor": 2,
  "metadata": {
    "language_info": {
      "file_extension": ".jl",
      "mimetype": "application/julia",
      "name": "julia",
      "version": "1.5.4"
    },
    "kernelspec": {
      "name": "julia-1.5",
      "display_name": "Julia 1.5.4",
      "language": "julia"
    }
  },
  "nbformat": 4
}
