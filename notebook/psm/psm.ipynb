{
  "cells": [
    {
      "cell_type": "markdown",
      "source": [
        "# Partially specified ordinary differential equation model\nSimon Frost (@sdwfrost), 2022-04-20\n\n## Introduction\n\nA partially specified model ([Wood 2001](https://doi.org/10.2307/3100042)) is a model where part of the structure is represented by flexible functions. Wood (2001) specifically considers using basis functions to capture terms in an ordinary differential equation. Here, we use such an approach to fit an SIR type model with a modified force of infection to the number of new cases per day i.e. not only is the model partially specified, but the system is partially observed. This example shares much in common with the [universal differential equation (UDE) example](https://github.com/epirecipes/sir-julia/blob/master/markdown/ude/ude.md), except we use a basis function approach rather than a neural network to parameterize the force of infection.\n\n## Libraries"
      ],
      "metadata": {}
    },
    {
      "outputs": [],
      "cell_type": "code",
      "source": [
        "using OrdinaryDiffEq\nusing DiffEqCallbacks\nusing DataInterpolations\nusing Distributions\nusing DiffEqFlux, Flux\nusing Random\nusing Plots;"
      ],
      "metadata": {},
      "execution_count": null
    },
    {
      "outputs": [],
      "cell_type": "code",
      "source": [
        "Random.seed!(123);"
      ],
      "metadata": {},
      "execution_count": null
    },
    {
      "cell_type": "markdown",
      "source": [
        "## Transitions\n\n[McCallum et al. (2001)](https://doi.org/10.1016/s0169-5347(01)02144-9) consider multiple ways in which transmission can be modelled. Here, we consider a power relationship in which the infection rate scales as the number of infected individuals raised to a power α, where 0<α<1."
      ],
      "metadata": {}
    },
    {
      "outputs": [],
      "cell_type": "code",
      "source": [
        "function sira_ode(u,p,t)\n    (S,I,C) = u\n    (β,γ,α) = p\n    dS = -β*S*(I^α)\n    dI = β*S*(I^α) - γ*I\n    dC = β*S*(I^α)\n    [dS,dI,dC]\nend;"
      ],
      "metadata": {},
      "execution_count": null
    },
    {
      "cell_type": "markdown",
      "source": [
        "## Settings"
      ],
      "metadata": {}
    },
    {
      "outputs": [],
      "cell_type": "code",
      "source": [
        "solver = ROS34PW3();"
      ],
      "metadata": {},
      "execution_count": null
    },
    {
      "cell_type": "markdown",
      "source": [
        "We define the total population size, `N`, so we can generate random data of the number of new cases per day. The parameter α results in a tailing off of infection rate as the number of infected individuals increases."
      ],
      "metadata": {}
    },
    {
      "outputs": [],
      "cell_type": "code",
      "source": [
        "N = 1000.0\np = [0.5, 0.25, 0.9]\nu0 = [0.99, 0.01, 0.0]\ntspan = (0., 40.)\nδt = 1;"
      ],
      "metadata": {},
      "execution_count": null
    },
    {
      "cell_type": "markdown",
      "source": [
        "## Solving the true model"
      ],
      "metadata": {}
    },
    {
      "outputs": [],
      "cell_type": "code",
      "source": [
        "sira_prob = ODEProblem(sira_ode, u0, tspan, p)\nsira_sol = solve(sira_prob, solver, saveat = δt);"
      ],
      "metadata": {},
      "execution_count": null
    },
    {
      "cell_type": "markdown",
      "source": [
        "We define the time over which the training data are generated, and generate noisy data corresponding to the number of new cases per day."
      ],
      "metadata": {}
    },
    {
      "outputs": [],
      "cell_type": "code",
      "source": [
        "train_time = 30.0\ntsdata = Array(sira_sol(0:δt:train_time))\ncdata = diff(tsdata[3,:])\nnoisy_data = rand.(Poisson.(N .* cdata));"
      ],
      "metadata": {},
      "execution_count": null
    },
    {
      "cell_type": "markdown",
      "source": [
        "Compared to the 'standard' SIR model (α=1), the modified model has an earlier peak of infected individuals, and the dynamics over time are more skewed."
      ],
      "metadata": {}
    },
    {
      "outputs": [],
      "cell_type": "code",
      "source": [
        "tt = 0:δt:train_time\nplot(tt[2:end],\n     N .* cdata,\n     xlabel = \"Time\",\n     ylabel = \"Number of new infected\",\n     label = \"Model\")\nscatter!(tt,\n         noisy_data,\n         label = \"Simulated data\")"
      ],
      "metadata": {},
      "execution_count": null
    },
    {
      "cell_type": "markdown",
      "source": [
        "## Partially specified model\n\nWe reuse the universal differential equation model."
      ],
      "metadata": {}
    },
    {
      "outputs": [],
      "cell_type": "code",
      "source": [
        "function sir_ude(u,p_,t,foi)\n    S,I,C = u\n    β,γ,α = p\n    λ = foi([I],p_)[1]\n    dS = -λ*S\n    dI = λ*S - γ*I\n    dC = λ*S\n    [dS, dI, dC]\nend;"
      ],
      "metadata": {},
      "execution_count": null
    },
    {
      "cell_type": "markdown",
      "source": [
        "To model the force of infection, we consider an evenly space grid of points of the proportion of infected individuals, using linear interpolation between the points, and an exponential transform to ensure that the force of infection is positive for all parameter values."
      ],
      "metadata": {}
    },
    {
      "outputs": [],
      "cell_type": "code",
      "source": [
        "function foi(ivec,p)\n    t = 0:0.1:1\n    f = LinearInterpolation([0.0;exp.(p)],t)\n    return [f(ivec[1])]\nend\np_ = log.(0.6 .* collect(0.1:0.1:1));"
      ],
      "metadata": {},
      "execution_count": null
    },
    {
      "cell_type": "markdown",
      "source": [
        "We can now define our partially specified model."
      ],
      "metadata": {}
    },
    {
      "outputs": [],
      "cell_type": "code",
      "source": [
        "sir_psm = (u,p_,t) -> sir_ude(u,p_,t,foi)\nprob_psm = ODEProblem(sir_psm,\n                      u0,\n                      (0.0, train_time),\n                      p_);"
      ],
      "metadata": {},
      "execution_count": null
    },
    {
      "cell_type": "markdown",
      "source": [
        "Functions for prediction and for the loss function are the same as the UDE example."
      ],
      "metadata": {}
    },
    {
      "outputs": [],
      "cell_type": "code",
      "source": [
        "function predict(θ, prob)\n    Array(solve(prob,\n                solver;\n                u0 = u0,\n                p = θ,\n                saveat = δt,\n                sensealg = InterpolatingAdjoint(autojacvec=ReverseDiffVJP())))\nend;"
      ],
      "metadata": {},
      "execution_count": null
    },
    {
      "cell_type": "markdown",
      "source": [
        "The use of a `Flux.poisson_loss` term reflects that the data are in the form of counts."
      ],
      "metadata": {}
    },
    {
      "outputs": [],
      "cell_type": "code",
      "source": [
        "function loss(θ, prob)\n    pred = predict(θ, prob)\n    cpred = abs.(N*diff(pred[3,:]))\n    Flux.poisson_loss(cpred, float.(noisy_data)), cpred\nend;"
      ],
      "metadata": {},
      "execution_count": null
    },
    {
      "outputs": [],
      "cell_type": "code",
      "source": [
        "const losses = []\ncallback = function (p, l, pred)\n    push!(losses, l)\n    numloss = length(losses)\n    if numloss % 20 == 0\n        display(\"Epoch: \" * string(numloss) * \" Loss: \" * string(l))\n    end\n    return false\nend;"
      ],
      "metadata": {},
      "execution_count": null
    },
    {
      "cell_type": "markdown",
      "source": [
        "We use `sciml_train` to fit the model to the simulated data."
      ],
      "metadata": {}
    },
    {
      "outputs": [],
      "cell_type": "code",
      "source": [
        "res_psm = DiffEqFlux.sciml_train((θ)->loss(θ,prob_psm),\n                                  p_,\n                                  cb = callback);"
      ],
      "metadata": {},
      "execution_count": null
    },
    {
      "cell_type": "markdown",
      "source": [
        "The fitted model gives a good fit both to the training data (up to time `t=30`), as well as a good forecast until `t=40`."
      ],
      "metadata": {}
    },
    {
      "outputs": [],
      "cell_type": "code",
      "source": [
        "prob_psm_fit = ODEProblem(sir_psm, u0, tspan, res_psm.minimizer)\nsol_psm_fit = solve(prob_psm_fit, solver, saveat = δt)\nscatter(sira_sol, label=[\"True Susceptible\" \"True Infected\" \"True Recovered\"],title=\"Fitted partially specified model\")\nplot!(sol_psm_fit, label=[\"Estimated Susceptible\" \"Estimated Infected\" \"Estimated Recovered\"])\nPlots.vline!([train_time],label=\"Training time\")"
      ],
      "metadata": {},
      "execution_count": null
    },
    {
      "cell_type": "markdown",
      "source": [
        "This is the inferred functional relationship between the proportion of infected individuals and the force of infection. Although this does not provide a good fit over the entire domain (`0<I<1`), it does show a downward trend in the slope, at least for low values of `I`."
      ],
      "metadata": {}
    },
    {
      "outputs": [],
      "cell_type": "code",
      "source": [
        "Imax = maximum(tsdata[2,:])\nIgrid = 0:0.01:1.0 # create a fine grid\nβ,γ,α = p\nλ_true = β .* Igrid.^α\nλ = [foi([I], res_psm.minimizer)[1] for I in Igrid]\nscatter(Igrid,\n        λ,\n        xlabel=\"Proportion of population infected, I\",\n        ylab=\"Force of infection, λ\",\n        label=\"Model prediction\")\nPlots.vline!([Imax], color=:orange, label=\"Upper bound of training data\")\nplot!(Igrid, λ_true, color=:red, label=\"True function\")"
      ],
      "metadata": {},
      "execution_count": null
    },
    {
      "cell_type": "markdown",
      "source": [
        "## Discussion\n\nThe proposal of partially specified models predates that of 'universal differential equations', and in part due to computational considerations at the time, implementations of PSMs use a basis function approach. For the example above, this has a number of advantages, including a smaller number of parameters, resulting in faster and more robust fitting, and easier interpretation.\n\nThere are a number of potential improvements to this example. Firstly, there is no penalty term for the 'wiggliness' of the functional response between the proportion of infected individuals and the force of infection. For more complex systems, incorporating such a term may be desirable. Secondly, additional constraints could also be placed on the functional form e.g. ensuring that the force of infection is monotonic."
      ],
      "metadata": {}
    }
  ],
  "nbformat_minor": 2,
  "metadata": {
    "language_info": {
      "file_extension": ".jl",
      "mimetype": "application/julia",
      "name": "julia",
      "version": "1.6.2"
    },
    "kernelspec": {
      "name": "julia-1.6",
      "display_name": "Julia 1.6.2",
      "language": "julia"
    }
  },
  "nbformat": 4
}
