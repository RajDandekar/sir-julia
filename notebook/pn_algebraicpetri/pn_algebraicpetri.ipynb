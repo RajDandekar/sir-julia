{
  "cells": [
    {
      "cell_type": "markdown",
      "source": [
        "# Petri net model using AlgebraicPetri.jl\nMicah Halter (@mehalter), 2021-03-26\n\n## Introduction\n\nOne representation of the SIR model is to think of it as the combination of\ntwo interactions, transmission and recovery.\n[AlgebraicPetri.jl](https://github.com/AlgebraicJulia/AlgebraicPetri.jl)\nallows you to define compositional elements of your models, and then provides\na DSL for defining models as open dynamical systems. This implementation\ndefines the SIR model as the composition of two interactions defined at\ndomain-level semantics, transmission and recovery, and then generates an\nappropriate ODE solver.\n\n## Libraries"
      ],
      "metadata": {}
    },
    {
      "outputs": [],
      "cell_type": "code",
      "source": [
        "using AlgebraicPetri\nusing AlgebraicPetri.Epidemiology\n\nusing Catlab\nusing Catlab.Graphics\nusing Catlab.WiringDiagrams\nusing Catlab.CategoricalAlgebra\nusing Catlab.Programs.RelationalPrograms\n\nusing LabelledArrays\nusing OrdinaryDiffEq\nusing Random\nusing Plots\n\n# helper function to visualize categorical representation\ndisplay_uwd(ex) = to_graphviz(ex, box_labels=:name, junction_labels=:variable, edge_attrs=Dict(:len=>\".75\"));"
      ],
      "metadata": {},
      "execution_count": null
    },
    {
      "cell_type": "markdown",
      "source": [
        "## Define the Building Blocks\n\nAlgebraicPetri comes packaged with an `Epidemiology` module with a set of\nbasic, predefined pieces of epidemiology models. The source starts by\ndefining a couple helper functions to define two types of interactions: a\nspontaneous change in population such as recovery or falling ill after\nexposure and an exposure interaction where one population causes a change in\nanother such as infection. These two helper functions allow us to easily\ndefine the different interactions we find in basic epidemological models such\nas infection, exposure, illness, recovery, and death. The resulting objects\nare multi-cospan objects where each state in the building block is a leg in the cospan.\nThis allows us to compose along any of these states individually."
      ],
      "metadata": {}
    },
    {
      "outputs": [],
      "cell_type": "code",
      "source": [
        "# population x spontaneously moves to population y\nspontaneous_petri(x::Symbol, y::Symbol, transition::Symbol) =\n    Open(LabelledPetriNet(unique([x,y]), transition=>(x, y)))\n# population y causes population x to move to population z\nexposure_petri(x::Symbol, y::Symbol, z::Symbol, transition::Symbol) =\n    Open(LabelledPetriNet(unique([x,y,z]), transition=>((x,y)=>(z,y))))\n\ninfection = exposure_petri(:S, :I, :I, :inf)\nexposure = exposure_petri(:S, :I, :E, :exp)\nillness = spontaneous_petri(:E,:I,:ill)\nrecovery = spontaneous_petri(:I,:R,:rec)\ndeath = spontaneous_petri(:I,:D,:death)"
      ],
      "metadata": {},
      "execution_count": null
    },
    {
      "cell_type": "markdown",
      "source": [
        "Lastly, to integrate with the relational programs syntax provided by\n[Catlab.jl](https://github.com/AlgebraicJulia/Catlab.jl) we simply need to\nprovided a dictionary to connect our new building blocks to labels of their\ndomain specific semantics."
      ],
      "metadata": {}
    },
    {
      "outputs": [],
      "cell_type": "code",
      "source": [
        "epi_dict = Dict(:infection=>infection,\n                :exposure=>exposure,\n                :illness=>illness,\n                :recovery=>recovery,\n                :death=>death)\n\noapply_epi(ex, args...) = oapply(ex, epi_dict, args...)"
      ],
      "metadata": {},
      "execution_count": null
    },
    {
      "cell_type": "markdown",
      "source": [
        "## Transitions\n\nUsing the categorical framework provided by the AlgebraicJulia environment,\nwe can think of building models as defining relations between known building\nblocks operating on the system. For example we know that in a simple SIR\nmodel there are two interactions both infection and recovery, and they are\nrelated by sharing a common infected population.\n\nTransmission:"
      ],
      "metadata": {}
    },
    {
      "outputs": [],
      "cell_type": "code",
      "source": [
        "Graph(infection)"
      ],
      "metadata": {},
      "execution_count": null
    },
    {
      "cell_type": "markdown",
      "source": [
        "Recovery:"
      ],
      "metadata": {}
    },
    {
      "outputs": [],
      "cell_type": "code",
      "source": [
        "Graph(recovery)"
      ],
      "metadata": {},
      "execution_count": null
    },
    {
      "cell_type": "markdown",
      "source": [
        "With these two building block Petri nets defined, we can use the `@relation`\nmacro to define an undirected wiring diagram that describes our system.\nThis step plays the role of describing how we want to compose our building blocks."
      ],
      "metadata": {}
    },
    {
      "outputs": [],
      "cell_type": "code",
      "source": [
        "sir_wiring_diagram = @relation (s, i, r) begin\n    infection(s, i)\n    recovery(i, r)\nend\ndisplay_uwd(sir_wiring_diagram)"
      ],
      "metadata": {},
      "execution_count": null
    },
    {
      "cell_type": "markdown",
      "source": [
        "using the function `oapply_epi` provided by `AlgebraicPetri.Epidemiology`, we\ncan convert this categorical definition of SIR to the Petri net\nrepresentation and visualize the newly created model."
      ],
      "metadata": {}
    },
    {
      "outputs": [],
      "cell_type": "code",
      "source": [
        "sir_model = apex(oapply_epi(sir_wiring_diagram));\nGraph(sir_model)"
      ],
      "metadata": {},
      "execution_count": null
    },
    {
      "cell_type": "markdown",
      "source": [
        "## Time domain"
      ],
      "metadata": {}
    },
    {
      "outputs": [],
      "cell_type": "code",
      "source": [
        "tmax = 40.0\ntspan = (0.0,tmax);"
      ],
      "metadata": {},
      "execution_count": null
    },
    {
      "cell_type": "markdown",
      "source": [
        "## Initial conditions"
      ],
      "metadata": {}
    },
    {
      "outputs": [],
      "cell_type": "code",
      "source": [
        "u0 = LVector(S=990.0, I=10.0, R=0.0)"
      ],
      "metadata": {},
      "execution_count": null
    },
    {
      "cell_type": "markdown",
      "source": [
        "## Parameter values"
      ],
      "metadata": {}
    },
    {
      "outputs": [],
      "cell_type": "code",
      "source": [
        "p = LVector(inf=0.05*10.0/sum(u0), rec=0.25); # β*c/N,γ"
      ],
      "metadata": {},
      "execution_count": null
    },
    {
      "cell_type": "markdown",
      "source": [
        "## Random number seed\n\nWe set a random number seed for reproducibility."
      ],
      "metadata": {}
    },
    {
      "outputs": [],
      "cell_type": "code",
      "source": [
        "Random.seed!(1234);"
      ],
      "metadata": {},
      "execution_count": null
    },
    {
      "cell_type": "markdown",
      "source": [
        "## Generating and running models\n\n### As ODEs"
      ],
      "metadata": {}
    },
    {
      "outputs": [],
      "cell_type": "code",
      "source": [
        "prob_ode = ODEProblem(vectorfield(sir_model),u0,tspan,p)\nsol_ode = solve(prob_ode, Tsit5());\nplot(sol_ode)"
      ],
      "metadata": {},
      "execution_count": null
    }
  ],
  "nbformat_minor": 2,
  "metadata": {
    "language_info": {
      "file_extension": ".jl",
      "mimetype": "application/julia",
      "name": "julia",
      "version": "1.6.0"
    },
    "kernelspec": {
      "name": "julia-1.6",
      "display_name": "Julia 1.6.0",
      "language": "julia"
    }
  },
  "nbformat": 4
}
