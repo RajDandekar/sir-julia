{
  "cells": [
    {
      "cell_type": "markdown",
      "source": [
        "# Data-driven differential equations\nSimon Frost (@sdwfrost), 2022-03-31\n\n## Introduction\n\nIn a data-driven approach, we try to infer the structure of the system from knowledge of the states of the system. Domain-specific knowledge can be brought in through the use of [basis functions](https://en.wikipedia.org/wiki/Basis_function). This tutorial demonstrates the use of two approaches that make use of basis functions; Extended Dynamic Mode Decomposition and Sparse Identification of Nonlinear Dynamics (SINDy). While we rarely have access to all of the states in an epidemiological model, this tutorial serves as a good introduction to the successful application of this approach.\n\n## Libraries"
      ],
      "metadata": {}
    },
    {
      "outputs": [],
      "cell_type": "code",
      "source": [
        "using OrdinaryDiffEq\nusing DataDrivenDiffEq\nusing ModelingToolkit\nusing Distributions\nusing Random\nusing Plots"
      ],
      "metadata": {},
      "execution_count": null
    },
    {
      "outputs": [],
      "cell_type": "code",
      "source": [
        "Random.seed!(123);"
      ],
      "metadata": {},
      "execution_count": null
    },
    {
      "cell_type": "markdown",
      "source": [
        "## Transitions of ODE system\n\nTo assist in numerical stability, we consider the proportion of individuals in the population (`s,i,r`) rather than the number of individuals (`S,I,R`)."
      ],
      "metadata": {}
    },
    {
      "outputs": [],
      "cell_type": "code",
      "source": [
        "function sir_ode(u,p,t)\n    (s,i,r) = u\n    (β,γ) = p\n    ds = -β*s*i\n    di = β*s*i - γ*i\n    dr = γ*i\n    [ds,di,dr]\nend;"
      ],
      "metadata": {},
      "execution_count": null
    },
    {
      "cell_type": "markdown",
      "source": [
        "## Parameters, initial conditions, etc."
      ],
      "metadata": {}
    },
    {
      "outputs": [],
      "cell_type": "code",
      "source": [
        "p = [0.5,0.25]\nu0 = [0.99, 0.01, 0.0]\ntspan = (0.0, 40.0)\nδt = 1;"
      ],
      "metadata": {},
      "execution_count": null
    },
    {
      "cell_type": "markdown",
      "source": [
        "## Solving the true model\n\nTo derive trajectories for training, we first solve the true model. We choose a relatively fast solver here for computational expediency."
      ],
      "metadata": {}
    },
    {
      "outputs": [],
      "cell_type": "code",
      "source": [
        "solver = ExplicitRK();"
      ],
      "metadata": {},
      "execution_count": null
    },
    {
      "outputs": [],
      "cell_type": "code",
      "source": [
        "sir_prob = ODEProblem(sir_ode, u0, tspan, p)\nsir_sol = solve(sir_prob, solver, saveat = δt);"
      ],
      "metadata": {},
      "execution_count": null
    },
    {
      "cell_type": "markdown",
      "source": [
        "## Data-driven differential equations\n\nWe can use the solution from the ordinary differential equation as input for a `ContinuousDataDrivenProblem`."
      ],
      "metadata": {}
    },
    {
      "outputs": [],
      "cell_type": "code",
      "source": [
        "dd_prob = ContinuousDataDrivenProblem(sir_sol);"
      ],
      "metadata": {},
      "execution_count": null
    },
    {
      "cell_type": "markdown",
      "source": [
        "Using `ModelingToolkit.jl` syntax, we define a basis in terms of the state variables (`u[1:3] = s,i,r`) and the product of `s` and `i` (`u[1]*u2`), encoding knowledge about the interaction between susceptibles and infected individuals in driving rates."
      ],
      "metadata": {}
    },
    {
      "outputs": [],
      "cell_type": "code",
      "source": [
        "@parameters t\n@variables u[1:3](t)\nΨ = Basis([u; u[1]*u[2]], u, independent_variable = t)"
      ],
      "metadata": {},
      "execution_count": null
    },
    {
      "cell_type": "markdown",
      "source": [
        "### Koopman inference\n\nThe following uses Extended Dynamic Mode Decomposition (via the `DMDPINV` solver) to recover the governing equations and rates. We set the digits to report to 3."
      ],
      "metadata": {}
    },
    {
      "outputs": [],
      "cell_type": "code",
      "source": [
        "res_koopman = solve(dd_prob, Ψ, DMDPINV())\nsys_koopman = result(res_koopman);"
      ],
      "metadata": {},
      "execution_count": null
    },
    {
      "outputs": [],
      "cell_type": "code",
      "source": [
        "equations(sys_koopman)"
      ],
      "metadata": {},
      "execution_count": null
    },
    {
      "outputs": [],
      "cell_type": "code",
      "source": [
        "parameter_map(res_koopman)"
      ],
      "metadata": {},
      "execution_count": null
    },
    {
      "cell_type": "markdown",
      "source": [
        "While the algorithm does not recognize (automatically) that the system can be simplified from 4 parameters to 2, it does correctly identify both the structure and the parameter values.\n\n### Sparse Identification of Nonlinear Dynamics (SINDy)\n\nTo use SINDy for the same problem, we just switch out the solver to e.g. `STLSQ`."
      ],
      "metadata": {}
    },
    {
      "outputs": [],
      "cell_type": "code",
      "source": [
        "res_sindy = solve(dd_prob, Ψ, STLSQ(),digits=1)\nsys_sindy = result(res_sindy);"
      ],
      "metadata": {},
      "execution_count": null
    },
    {
      "outputs": [],
      "cell_type": "code",
      "source": [
        "equations(sys_sindy)"
      ],
      "metadata": {},
      "execution_count": null
    },
    {
      "outputs": [],
      "cell_type": "code",
      "source": [
        "parameter_map(res_sindy)"
      ],
      "metadata": {},
      "execution_count": null
    },
    {
      "cell_type": "markdown",
      "source": [
        "For the system where there is no noise in the data, both SINDy and EDMD correctly identify the system.\n\n## Inference from a noisy system\n\nTo determine how well these approaches work when the state variables are corrupted by noise, we generate a noisy dataset by drawing from a Dirichlet distribution. Firstly, we convert the solution of the ODE to an array."
      ],
      "metadata": {}
    },
    {
      "outputs": [],
      "cell_type": "code",
      "source": [
        "sir_data = Array(sir_sol);"
      ],
      "metadata": {},
      "execution_count": null
    },
    {
      "outputs": [],
      "cell_type": "code",
      "source": [
        "A = 500.0 # Smaller values of A = noisier data\nnoisy_data = sir_data\n# Note that we can't draw from u0 as R(0)=0\nfor i in 2:size(sir_data)[2]\n    noisy_data[1:3,i] = rand(Dirichlet(A*sir_data[1:3,i]))\nend;"
      ],
      "metadata": {},
      "execution_count": null
    },
    {
      "outputs": [],
      "cell_type": "code",
      "source": [
        "scatter(sir_sol.t,noisy_data',title=\"Noisy data\",xlabel=\"Time\",ylabel=\"Proportion\",labels=[\"S+noise\" \"I+noise\" \"R+noise\"])\nplot!(sir_sol,labels=[\"S\" \"I\" \"R\"],legend=:left)"
      ],
      "metadata": {},
      "execution_count": null
    },
    {
      "cell_type": "markdown",
      "source": [
        "We define a `ContinuousDataDrivenProblem` as before, but this time, we have to provide the data as well as the times of the data and a method to calculate the derivatives from the data."
      ],
      "metadata": {}
    },
    {
      "outputs": [],
      "cell_type": "code",
      "source": [
        "noisy_dd_prob = ContinuousDataDrivenProblem(noisy_data,sir_sol.t,GaussianKernel());"
      ],
      "metadata": {},
      "execution_count": null
    },
    {
      "cell_type": "markdown",
      "source": [
        "We rerun EDMD and SINDy with the new data-driven problem."
      ],
      "metadata": {}
    },
    {
      "outputs": [],
      "cell_type": "code",
      "source": [
        "noisy_res_koopman = solve(noisy_dd_prob, Ψ, DMDPINV())\nnoisy_sys_koopman = result(noisy_res_koopman)\nequations(noisy_sys_koopman), parameter_map(noisy_res_koopman)"
      ],
      "metadata": {},
      "execution_count": null
    },
    {
      "outputs": [],
      "cell_type": "code",
      "source": [
        "noisy_res_sindy = solve(noisy_dd_prob, Ψ, STLSQ())\nnoisy_sys_sindy = result(noisy_res_sindy)\nequations(noisy_sys_sindy), parameter_map(noisy_res_sindy)"
      ],
      "metadata": {},
      "execution_count": null
    },
    {
      "cell_type": "markdown",
      "source": [
        "When the data are corrupted by noise, SINDy does a much better job in finding a simpler (sparser) solution which is closer to the true system.\n\nHowever, larger amounts of noise can break SINDy too."
      ],
      "metadata": {}
    },
    {
      "outputs": [],
      "cell_type": "code",
      "source": [
        "A = 50.0 # Smaller values of A = noisier data\nv_noisy_data = sir_data\n# Note that we can't draw from u0 as R(0)=0\nfor i in 2:size(sir_data)[2]\n    v_noisy_data[1:3,i] = rand(Dirichlet(A*sir_data[1:3,i]))\nend;"
      ],
      "metadata": {},
      "execution_count": null
    },
    {
      "outputs": [],
      "cell_type": "code",
      "source": [
        "scatter(sir_sol.t,v_noisy_data',title=\"Very noisy data\",xlabel=\"Time\",ylabel=\"Proportion\",labels=[\"S+noise\" \"I+noise\" \"R+noise\"])\nplot!(sir_sol,labels=[\"S\" \"I\" \"R\"],legend=:left)"
      ],
      "metadata": {},
      "execution_count": null
    },
    {
      "outputs": [],
      "cell_type": "code",
      "source": [
        "v_noisy_dd_prob = ContinuousDataDrivenProblem(v_noisy_data,sir_sol.t,GaussianKernel())\nv_noisy_res_sindy = solve(v_noisy_dd_prob, Ψ, STLSQ())\nv_noisy_sys_sindy = result(v_noisy_res_sindy)\nequations(v_noisy_sys_sindy), parameter_map(v_noisy_res_sindy)"
      ],
      "metadata": {},
      "execution_count": null
    },
    {
      "cell_type": "markdown",
      "source": [
        "## Discussion\n\nIn this simple example, SINDy proved to be more robust to noise in identifying the true dynamics of the system. In general, SINDy is also sensitive to large amounts of noise, and in such cases, approaches such as [modified SINDy](https://arxiv.org/abs/2009.08810) may be useful."
      ],
      "metadata": {}
    }
  ],
  "nbformat_minor": 2,
  "metadata": {
    "language_info": {
      "file_extension": ".jl",
      "mimetype": "application/julia",
      "name": "julia",
      "version": "1.6.2"
    },
    "kernelspec": {
      "name": "julia-1.6",
      "display_name": "Julia 1.6.2",
      "language": "julia"
    }
  },
  "nbformat": 4
}
