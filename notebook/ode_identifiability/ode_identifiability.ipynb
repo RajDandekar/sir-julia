{
  "cells": [
    {
      "cell_type": "markdown",
      "source": [
        "# Identifiability analysis applied to ordinary differential equation models\nSimon Frost (@sdwfrost), 2022-03-02\n\n## Introduction\n\nThis tutorial uses tools from the `StructuralIdentifiability.jl` package to determine identifiability of model parameters in a series of SIR models of increasing (albeit still limited) complexity.\n\n## Libraries"
      ],
      "metadata": {}
    },
    {
      "outputs": [],
      "cell_type": "code",
      "source": [
        "using StructuralIdentifiability\nusing ModelingToolkit"
      ],
      "metadata": {},
      "execution_count": null
    },
    {
      "cell_type": "markdown",
      "source": [
        "## Parameter values\n\nParameters and variables are the same as that in the [ModelingToolkit.jl tutorial](https://github.com/epirecipes/sir-julia/blob/master/markdown/ode_mtk/ode_mtk.md), with the exception that `StructuralIdentifiability.jl` does not take unicode characters (`β`,`γ`), so these are replaced by `b` and `g` respectively."
      ],
      "metadata": {}
    },
    {
      "outputs": [],
      "cell_type": "code",
      "source": [
        "@parameters b c g\n@variables t S(t) I(t) R(t) N(t)\nN = S + I + R\nD = Differential(t);"
      ],
      "metadata": {},
      "execution_count": null
    },
    {
      "cell_type": "markdown",
      "source": [
        "## Transitions\n\n### Model 1\n\nWe first consider a simple system with just two parameters and ['mass action' transmission](https://www.sciencedirect.com/science/article/pii/S0169534701021449), `βSI`."
      ],
      "metadata": {}
    },
    {
      "outputs": [],
      "cell_type": "code",
      "source": [
        "sir_eqs1 = [\n  D(S) ~ -b*S*I,\n  D(I) ~ b*S*I-g*I,\n  D(R) ~ g*I\n]\nsir_ode1 = ODESystem(sir_eqs1, t, name=:SIR1)"
      ],
      "metadata": {},
      "execution_count": null
    },
    {
      "cell_type": "markdown",
      "source": [
        "### Model 2\n\nOften, we consider models that are overparameterized, as these parameters may have easier biological interpretations, e.g. `β` as the *probability* of transmission and `c` as the contact rate, rather than a single 'infectivity' parameter."
      ],
      "metadata": {}
    },
    {
      "outputs": [],
      "cell_type": "code",
      "source": [
        "sir_eqs2 = [\n  D(S) ~ -b*c*S*I,\n  D(I) ~ b*c*S*I-g*I,\n  D(R) ~ g*I\n]\nsir_ode2 = ODESystem(sir_eqs2, t, name=:SIR2)"
      ],
      "metadata": {},
      "execution_count": null
    },
    {
      "cell_type": "markdown",
      "source": [
        "### Model 3\n\nIn addition, the model below considers [frequency dependent transmission](https://www.sciencedirect.com/science/article/pii/S0169534701021449), `βSI/N`."
      ],
      "metadata": {}
    },
    {
      "outputs": [],
      "cell_type": "code",
      "source": [
        "sir_eqs3 = [\n  D(S) ~ -b*c*S*I/N,\n  D(I) ~ b*c*S*I/N-g*I,\n  D(R) ~ g*I\n]\nsir_ode3 = ODESystem(sir_eqs3, t, name=:SIR3)"
      ],
      "metadata": {},
      "execution_count": null
    },
    {
      "cell_type": "markdown",
      "source": [
        "## Assessing identifiability\n\n### Model 1\n\nIn order to assess identifiability, we need to specify what the measured quantities are. Let us assume that we only have access to the infection rate and define a single observable, `y`."
      ],
      "metadata": {}
    },
    {
      "outputs": [],
      "cell_type": "code",
      "source": [
        "@variables y(t)\nmeasured_quantities1 = [y ~ b*S*I];"
      ],
      "metadata": {},
      "execution_count": null
    },
    {
      "cell_type": "markdown",
      "source": [
        "We can now specify parameters (or combination of parameters) to check for identifiability."
      ],
      "metadata": {}
    },
    {
      "outputs": [],
      "cell_type": "code",
      "source": [
        "funcs_to_check1 = [b,g,b/g]\nident1 = assess_identifiability(sir_ode1; measured_quantities= measured_quantities1, funcs_to_check = funcs_to_check1)"
      ],
      "metadata": {},
      "execution_count": null
    },
    {
      "cell_type": "markdown",
      "source": [
        "For this model, all parameters are identifiable (at least in theory).\n\n### Model 2\n\nFor the second model, it is clear that `b` and `c` are nonidentifiable from inspecting the equations, and this is also shown in the output of `assess_identifiability`."
      ],
      "metadata": {}
    },
    {
      "outputs": [],
      "cell_type": "code",
      "source": [
        "funcs_to_check2 = [b,c,g,b*c]\nmeasured_quantities2 = [y ~ b*c*S*I]\nident2 = assess_identifiability(sir_ode2; measured_quantities= measured_quantities2, funcs_to_check = funcs_to_check2)"
      ],
      "metadata": {},
      "execution_count": null
    },
    {
      "cell_type": "markdown",
      "source": [
        "### Model 3\n\nRunning this model, which has frequency dependent transmission, through `assess_identifiability` shows that `b*c` is non-identifiable."
      ],
      "metadata": {}
    },
    {
      "outputs": [],
      "cell_type": "code",
      "source": [
        "funcs_to_check3 = [b,c,g,b*c]\nmeasured_quantities3 = [y ~ b*c*S*I/N]\nident3 = assess_identifiability(sir_ode3; measured_quantities= measured_quantities3, funcs_to_check = funcs_to_check3)"
      ],
      "metadata": {},
      "execution_count": null
    },
    {
      "cell_type": "markdown",
      "source": [
        "In this case, this can be fixed by adding in another observable, the total population size, `N`."
      ],
      "metadata": {}
    },
    {
      "outputs": [],
      "cell_type": "code",
      "source": [
        "@variables n(t)\nmeasured_quantities3a = [y ~ b*c*S*I/N, n ~ N]\nident3a = assess_identifiability(sir_ode3; measured_quantities= measured_quantities3a, funcs_to_check = funcs_to_check3)"
      ],
      "metadata": {},
      "execution_count": null
    },
    {
      "cell_type": "markdown",
      "source": [
        "## Discussion\n\nWhile analysis of identifiability is useful, especially when considering how to infer parameters from data, in practice, model parameters may not be identifiable even if the above analysis suggests that they are. For example, when an epidemic starts, there is exponential growth, and the parameters `b` and `g` are not identifiable - we need to have the peak and the decline in infected individuals in order to separate these two variables. This can be demonstrated if we remove the equation for `D(S)` (effectively treating it as a constant)."
      ],
      "metadata": {}
    },
    {
      "outputs": [],
      "cell_type": "code",
      "source": [
        "exp_eqs = [\n  D(I) ~ b*S*I-g*I,\n  D(R) ~ g*I\n]\nexp_ode = ODESystem(exp_eqs, t, name=:EXP)\nassess_identifiability(exp_ode;\n                       measured_quantities= [y ~ b*S*I],\n                       funcs_to_check = [b,g])"
      ],
      "metadata": {},
      "execution_count": null
    }
  ],
  "nbformat_minor": 2,
  "metadata": {
    "language_info": {
      "file_extension": ".jl",
      "mimetype": "application/julia",
      "name": "julia",
      "version": "1.6.2"
    },
    "kernelspec": {
      "name": "julia-1.6",
      "display_name": "Julia 1.6.2",
      "language": "julia"
    }
  },
  "nbformat": 4
}
