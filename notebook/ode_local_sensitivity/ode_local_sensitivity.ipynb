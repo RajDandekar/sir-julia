{
  "cells": [
    {
      "cell_type": "markdown",
      "source": [
        "# Local sensitivity analysis applied to ordinary differential equation model using Zygote.jl\nSimon Frost (@sdwfrost), 2022-03-02\n\n## Introduction\n\nThis tutorial uses differentiation functions from `Zygote.jl` and functions from `DiffEqSensitivity.jl` package to explore local sensitivity of the output i.e. the gradient of the solution with respect to the parameters and initial conditions. This is useful if we have a set of 'best' parameters, but want to see how the solution changes as we perturb these parameters. Although this is only relevant close to a single solution, we do not have to specify e.g. ranges of parameters.\n\n## Libraries"
      ],
      "metadata": {}
    },
    {
      "outputs": [],
      "cell_type": "code",
      "source": [
        "using OrdinaryDiffEq\nusing DiffEqSensitivity\nusing Zygote\nusing Plots"
      ],
      "metadata": {},
      "execution_count": null
    },
    {
      "cell_type": "markdown",
      "source": [
        "## Transitions"
      ],
      "metadata": {}
    },
    {
      "outputs": [],
      "cell_type": "code",
      "source": [
        "function sir_ode!(du,u,p,t)\n    (S,I,R) = u\n    (β,c,γ) = p\n    N = S+I+R\n    @inbounds begin\n        du[1] = -β*c*I/N*S\n        du[2] = β*c*I/N*S - γ*I\n        du[3] = γ*I\n    end\n    nothing\nend;"
      ],
      "metadata": {},
      "execution_count": null
    },
    {
      "cell_type": "markdown",
      "source": [
        "## Time domain\n\nWe set the timespan for simulations, `tspan`, initial conditions, `u0`, and parameter values, `p`."
      ],
      "metadata": {}
    },
    {
      "outputs": [],
      "cell_type": "code",
      "source": [
        "δt = 1.0\ntmax = 40.0\ntspan = (0.0,tmax)\nt = 0.0:δt:tmax\nnum_timepoints = length(t);"
      ],
      "metadata": {},
      "execution_count": null
    },
    {
      "cell_type": "markdown",
      "source": [
        "## Initial conditions"
      ],
      "metadata": {}
    },
    {
      "outputs": [],
      "cell_type": "code",
      "source": [
        "u0 = [990.0,10.0,0.0] # S,I,R\nnum_states = length(u0);"
      ],
      "metadata": {},
      "execution_count": null
    },
    {
      "cell_type": "markdown",
      "source": [
        "## Parameter values"
      ],
      "metadata": {}
    },
    {
      "outputs": [],
      "cell_type": "code",
      "source": [
        "p = [0.05,10.0,0.25]; # β,c,γ\nnum_params = length(p);"
      ],
      "metadata": {},
      "execution_count": null
    },
    {
      "cell_type": "markdown",
      "source": [
        "## Running the model"
      ],
      "metadata": {}
    },
    {
      "outputs": [],
      "cell_type": "code",
      "source": [
        "prob_ode = ODEProblem(sir_ode!,u0,tspan,p);"
      ],
      "metadata": {},
      "execution_count": null
    },
    {
      "cell_type": "markdown",
      "source": [
        "To enable calculation of the Jacobian for specific parameters/initial conditions, we first write a wrapper function."
      ],
      "metadata": {}
    },
    {
      "outputs": [],
      "cell_type": "code",
      "source": [
        "sim_ode = (u0,p)-> solve(prob_ode,Tsit5(),u0=u0,p=p,saveat=t,sensealg=QuadratureAdjoint());"
      ],
      "metadata": {},
      "execution_count": null
    },
    {
      "cell_type": "markdown",
      "source": [
        "The solution can be obtained by calling this function."
      ],
      "metadata": {}
    },
    {
      "outputs": [],
      "cell_type": "code",
      "source": [
        "sol_ode = sim_ode(u0,p);"
      ],
      "metadata": {},
      "execution_count": null
    },
    {
      "cell_type": "markdown",
      "source": [
        "To compute the gradient, we use `Zygote.jacobian`, passing the anove function that wraps `solve` and the input variables we want to compute the gradients for. The below will return the Jacobian for the initial conditions, `u0`, and for the parameter vector, `p`."
      ],
      "metadata": {}
    },
    {
      "outputs": [],
      "cell_type": "code",
      "source": [
        "du0,dp = Zygote.jacobian(sim_ode,u0,p);"
      ],
      "metadata": {},
      "execution_count": null
    },
    {
      "cell_type": "markdown",
      "source": [
        "## Post-processing\n\nThe results are in the form of a stacked set of Jacobians for each timepoint (dimension `num_states*num_timepoints` by `num_params`). We can pull out the gradients for specific parameters and initial conditions using the following syntax."
      ],
      "metadata": {}
    },
    {
      "outputs": [],
      "cell_type": "code",
      "source": [
        "dβ = reshape(dp[:,1],(num_states,:))' # as β is the first parameter\ndc = reshape(dp[:,2],(num_states,:))' # c is 2nd parameter\ndγ = reshape(dp[:,3],(num_states,:))' # γ is 3rd parameter\ndI₀ = reshape(du0[:,2],(num_states,:))'; # I₀ is the 2nd initial condition"
      ],
      "metadata": {},
      "execution_count": null
    },
    {
      "cell_type": "markdown",
      "source": [
        "## Plotting"
      ],
      "metadata": {}
    },
    {
      "outputs": [],
      "cell_type": "code",
      "source": [
        "plot(sol_ode.t,\n     Array(sol_ode(t))',\n     labels = [\"S\" \"I\" \"R\"],\n     xlabel = \"Time\",\n     ylabel = \"Number\")"
      ],
      "metadata": {},
      "execution_count": null
    },
    {
      "outputs": [],
      "cell_type": "code",
      "source": [
        "l = @layout [a b; c d]\npl1 = plot(t,dβ,xlabel=\"Time\",ylabel=\"dp\",label=[\"S\" \"I\" \"R\"],title=\"Sensitivity to β\")\npl2 = plot(t,dc,xlabel=\"Time\",ylabel=\"dp\",label=[\"S\" \"I\" \"R\"],title=\"Sensitivity to c\")\npl3 = plot(t,dγ,xlabel=\"Time\",ylabel=\"dp\",label=[\"S\" \"I\" \"R\"],title=\"Sensitivity to γ\")\npl4 = plot(t,dI₀,xlabel=\"Time\",ylabel=\"dp\",label=[\"S\" \"I\"  \"R\"],title=\"Sensitivity to I₀\")\nplot(pl1,pl2,pl3,pl4,layout=l)"
      ],
      "metadata": {},
      "execution_count": null
    },
    {
      "cell_type": "markdown",
      "source": [
        "The above shows that (apart from scale), the sensitivity patterns are the same for `β` and `c` (not surprising as it is only their product that affects the solution), that differences in the initial number of infected individuals have a similar pattern to the infectivity parameters, and that the pattern of sensitivity to `γ` is approximately a mirror image of that of `β`."
      ],
      "metadata": {}
    }
  ],
  "nbformat_minor": 2,
  "metadata": {
    "language_info": {
      "file_extension": ".jl",
      "mimetype": "application/julia",
      "name": "julia",
      "version": "1.6.2"
    },
    "kernelspec": {
      "name": "julia-1.6",
      "display_name": "Julia 1.6.2",
      "language": "julia"
    }
  },
  "nbformat": 4
}
