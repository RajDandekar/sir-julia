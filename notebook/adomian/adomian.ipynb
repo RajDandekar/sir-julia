{
  "cells": [
    {
      "cell_type": "markdown",
      "source": [
        "# Integral equation model using Adomian decomposition\nSimon Frost (@sdwfrost), 2022-01-28\n\n## Introduction\n\nThe classical ODE version of the SIR model is:\n\n- Deterministic\n- Continuous in time\n- Continuous in state\n\nWe can rewrite the ODE model as a set of Volterra integral equations of the second kind, which can be solved by Adomian decomposition, in which the states of the system over time are approximated by polynomials in `t`. We consider a reduced system of `S(t)` and `I(t)` to keep things simple.\n\nS(t) = S(0) -  ∫ βS(t)I(t) dt\n\nI(t) = I(0) + ∫ βS(t)I(t) dt - ∫ γI(t) dt\n\nFurther details of this approach can be found in [Biazar (2006)](https://www.sciencedirect.com/science/article/abs/pii/S0096300305004145), and we initially use the parameter values and initial conditions used in this paper. While this approach is suboptimal for this simple system, the overall approach is straightforward to extend to more complex systems, including stochastic differential equations ([Adomian (1976)](https://www.researchgate.net/profile/Randolph-Rach/publication/216225028_Nonlinear_Stochastic_Differential_Equations/links/5e78655f4585157b9a546b00/Nonlinear-Stochastic-Differential-Equations.pdf)) and delay differential equations ([Adomian and Rach (1983)](https://www.sciencedirect.com/science/article/pii/0022247X8390094X), [Blanco-Cocom et al. (2012)](https://doi.org/10.1016/j.amc.2011.11.082)).\n\n## Libraries\n\nWe load `DifferentialEquations` and `SimpleDiffEq` as a comparison with the polynomial approximation approach."
      ],
      "metadata": {}
    },
    {
      "outputs": [],
      "cell_type": "code",
      "source": [
        "using DifferentialEquations\nusing SimpleDiffEq\nusing Polynomials\nusing ModelingToolkit\nusing Symbolics\nusing Plots"
      ],
      "metadata": {},
      "execution_count": null
    },
    {
      "cell_type": "markdown",
      "source": [
        "## Define Adomian polynomials\n\nIn the Adomian decomposition method, we approximate `S` and `I` by polynomials. We set the number of stages in the polynomial to truncate the approximation, `n`, the number of variables in the nonlinear function , `m` (`S` and `I`, so 2) and the nonlinear function, `f`."
      ],
      "metadata": {}
    },
    {
      "outputs": [],
      "cell_type": "code",
      "source": [
        "M = 2\nN = 10\nf(s,i) = s*i;"
      ],
      "metadata": {},
      "execution_count": null
    },
    {
      "cell_type": "markdown",
      "source": [
        "To calculate the Adomian polynomials for the nonlinear `SI` term, we set up a `M` by `N` symbolic matrix, where the rows represent the variables `S` and `I` and the columns the terms in the polynomial."
      ],
      "metadata": {}
    },
    {
      "outputs": [],
      "cell_type": "code",
      "source": [
        "@variables a[1:M,1:N];"
      ],
      "metadata": {},
      "execution_count": null
    },
    {
      "cell_type": "markdown",
      "source": [
        "We populate the matrix with the terms in the Adomian polynomials with the help of `Symbolics.derivative`. This uses a recursive approach described by Theorem 2 in [Duan (2011)](https://doi.org/10.1016/j.amc.2011.01.007)."
      ],
      "metadata": {}
    },
    {
      "outputs": [],
      "cell_type": "code",
      "source": [
        "An = [] # Empty array of Adomian\nA₀ = f(a[1,1],a[2,1]) # s₀*i₀\npush!(An,A₀)\nfor n = 1:(N-1)\n  A = 0\n  for i = 1:M\n    for k = 1:n\n      A += k*a[i,k+1]*Symbolics.derivative(An[end],a[i,k])\n    end\n  end\n  A /= n\n  push!(An,A)\nend;"
      ],
      "metadata": {},
      "execution_count": null
    },
    {
      "cell_type": "markdown",
      "source": [
        "## Time domain"
      ],
      "metadata": {}
    },
    {
      "outputs": [],
      "cell_type": "code",
      "source": [
        "tspan = (0.0,8.0)\ntrange = 0:0.1:8;"
      ],
      "metadata": {},
      "execution_count": null
    },
    {
      "cell_type": "markdown",
      "source": [
        "## Initial conditions"
      ],
      "metadata": {}
    },
    {
      "outputs": [],
      "cell_type": "code",
      "source": [
        "u0 = [20.0 15.0]'; # S, I"
      ],
      "metadata": {},
      "execution_count": null
    },
    {
      "cell_type": "markdown",
      "source": [
        "## Parameter values"
      ],
      "metadata": {}
    },
    {
      "outputs": [],
      "cell_type": "code",
      "source": [
        "p = [0.01, 0.02]; # β, γ"
      ],
      "metadata": {},
      "execution_count": null
    },
    {
      "cell_type": "markdown",
      "source": [
        "## Building the model\n\nWe build the model one term at a time."
      ],
      "metadata": {}
    },
    {
      "outputs": [],
      "cell_type": "code",
      "source": [
        "(S,I) = u0'\nv = u0\nβ, γ = p'\nIi = integrate(Polynomial([I],:t))\nF = eval(build_function(An[1],a))\nSIi = integrate(Polynomial([F(v)],:t))\nfor i in 1:(N-1)\n  vv = [Polynomial(ones(N),:t) Polynomial(ones(N),:t)]'\n  vv[1,1] = -β*SIi\n  vv[2,1] =  β*SIi - γ*Ii\n  global v = hcat(v,vv)\n  # Now update\n  global I = v[2,i+1]\n  global Ii = integrate(I)\n  global F = eval(build_function(An[i+1],a))\n  global SIi = integrate(F(v))\nend"
      ],
      "metadata": {},
      "execution_count": null
    },
    {
      "cell_type": "markdown",
      "source": [
        "## Running the model\n\nTo run the model, we sum all the terms in the polynomial to generate approximations for `S(t)` and `I(t)`."
      ],
      "metadata": {}
    },
    {
      "outputs": [],
      "cell_type": "code",
      "source": [
        "S = sum(v[1,1:end])"
      ],
      "metadata": {},
      "execution_count": null
    },
    {
      "outputs": [],
      "cell_type": "code",
      "source": [
        "I = sum(v[2,1:end])"
      ],
      "metadata": {},
      "execution_count": null
    },
    {
      "cell_type": "markdown",
      "source": [
        "We can then evaluate these at specified timepoints."
      ],
      "metadata": {}
    },
    {
      "outputs": [],
      "cell_type": "code",
      "source": [
        "Sa = [S(t) for t in trange]\nIa = [I(t) for t in trange];"
      ],
      "metadata": {},
      "execution_count": null
    },
    {
      "outputs": [],
      "cell_type": "code",
      "source": [
        "plot(trange,Sa,label=\"S\")\nplot!(trange,Ia,label=\"I\")"
      ],
      "metadata": {},
      "execution_count": null
    },
    {
      "cell_type": "markdown",
      "source": [
        "If we run the ODE version of the model, we see that the output is comparable."
      ],
      "metadata": {}
    },
    {
      "outputs": [],
      "cell_type": "code",
      "source": [
        "function sir_ode!(du,u,p,t)\n    (S,I) = u\n    (β,γ) = p\n    @inbounds begin\n        du[1] = -β*S*I\n        du[2] = β*S*I - γ*I\n    end\n    nothing\nend\nprob_ode = ODEProblem(sir_ode!,u0,tspan,p)\nsol_ode = solve(prob_ode)\nplot(sol_ode,\n     label=[\"S\" \"I\"],\n     xlabel=\"Time\",\n     ylabel=\"Number\")"
      ],
      "metadata": {},
      "execution_count": null
    },
    {
      "cell_type": "markdown",
      "source": [
        "## Breakdown of the approximation\n\nIf we use instead the initial conditions and parameter values used in other examples in this repository, the approximation breaks down. This is not surprising - the approximation is around the initial condition and the system is stiff. To demonstrate this problem, we rewrite the above code into a single function for ease of use. Firstly, we build functions to evaluate the Adomian polynomials."
      ],
      "metadata": {}
    },
    {
      "outputs": [],
      "cell_type": "code",
      "source": [
        "Fv = [eval(build_function(An[i],a)) for i in 1:N];"
      ],
      "metadata": {},
      "execution_count": null
    },
    {
      "outputs": [],
      "cell_type": "code",
      "source": [
        "function SIR(u0,p,trange,Fv)\n  (S,I) = u0'\n  v = u0\n  β, γ = p'\n  Ii = integrate(Polynomial([I],:t))\n  SIi = integrate(Polynomial([Fv[1](v)],:t))\n  for i in 1:(N-1)\n    vv = [Polynomial(ones(N),:t) Polynomial(ones(N),:t)]'\n    vv[1,1] = -β*SIi\n    vv[2,1] =  β*SIi - γ*Ii\n    v = hcat(v,vv)\n    # Now update\n    I = v[2,i+1]\n    Ii = integrate(I)\n    SIi = integrate(Fv[i+1](v))\n  end\n  S = sum(v[1,1:end])\n  I = sum(v[2,1:end])\n  Sa = [S(t) for t in trange]\n  Ia = [I(t) for t in trange]\n  return [trange Sa Ia]\nend;"
      ],
      "metadata": {},
      "execution_count": null
    },
    {
      "outputs": [],
      "cell_type": "code",
      "source": [
        "u0 = [990.0 10.0]'\np = [0.0005 0.25]\ntrange = 0:0.1:40\nsol1 = SIR(u0,p,trange,Fv)\nplot(sol1[1:end,1],sol1[1:end,2:3],\n     label=[\"S\" \"I\"],\n     xlabel=\"Time\",\n     ylabel=\"Number\")"
      ],
      "metadata": {},
      "execution_count": null
    },
    {
      "cell_type": "markdown",
      "source": [
        "One solution to this problem is to adopt a ['multistage' approach](https://doi.org/10.1016/j.amc.2003.08.049), in which we generate a series of polynomial approximations for windows of time."
      ],
      "metadata": {}
    },
    {
      "outputs": [],
      "cell_type": "code",
      "source": [
        "u = u0\nt = 0.0\nsol = [[0.0 u']]\nfor i in 1:40\n  s = SIR(u,p,0.0:0.1:1.0,Fv)\n  s[1:end,1] .+= t\n  global t += 1.0\n  push!(sol,s[2:end,:])\n  global u = s[end,2:3]\nend\nsol = vcat(sol...);"
      ],
      "metadata": {},
      "execution_count": null
    },
    {
      "outputs": [],
      "cell_type": "code",
      "source": [
        "plot(sol[1:end,1],sol[1:end,2:3],\n     label=[\"S\" \"I\"],\n     xlabel=\"Time\",\n     ylabel=\"Number\")"
      ],
      "metadata": {},
      "execution_count": null
    },
    {
      "cell_type": "markdown",
      "source": [
        "This approximation now compares favourably with the ODE solver."
      ],
      "metadata": {}
    },
    {
      "outputs": [],
      "cell_type": "code",
      "source": [
        "prob_ode2 = ODEProblem(sir_ode!,u0,(0,40.0),p)\nsol_ode2 = solve(prob_ode2)\nplot(sol_ode2,\n     label=[\"S\" \"I\"],\n     xlabel=\"Time\",\n     ylabel=\"Number\")"
      ],
      "metadata": {},
      "execution_count": null
    }
  ],
  "nbformat_minor": 2,
  "metadata": {
    "language_info": {
      "file_extension": ".jl",
      "mimetype": "application/julia",
      "name": "julia",
      "version": "1.6.2"
    },
    "kernelspec": {
      "name": "julia-1.6",
      "display_name": "Julia 1.6.2",
      "language": "julia"
    }
  },
  "nbformat": 4
}
