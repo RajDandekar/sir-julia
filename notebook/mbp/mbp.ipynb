{
  "cells": [
    {
      "cell_type": "markdown",
      "source": [
        "# Multivariate birth process reparameterisation of the SDE model\nSimon Frost (@sdwfrost), 2020-06-12\n\n## Introduction\n\n[Fintzi et al.](https://arxiv.org/abs/2001.05099) reparameterise a stochastic epidemiological model in two ways:\n- they consider the dynamics of time-integrated rates (infection and recovery in the SIR model); and\n- they use a log-transformed scale, to model stochastic perturbations due to stochasticity on a multiplicative scale.\n\nThere are lots of advantages to this parameterisation, not the least that the states in this model more closely match the kind of data that are usually collected.\n\nIn the following, the dynamics of the cumulative numbers of infections, `C` and the number of recoveries, `R`, are explicitly modeled as `Ctilde=log(C+1)` and `Rtilde=log(R+1)`, with the dynamics of `S` and `I` determined using the initial conditions and the time-integrated rates. Although the code can be made more generic, for this tutorial, the code is kept to be specific for the SIR model for readability.\n\n## Libraries"
      ],
      "metadata": {}
    },
    {
      "outputs": [],
      "cell_type": "code",
      "source": [
        "using DifferentialEquations\nusing StochasticDiffEq\nusing DiffEqCallbacks\nusing Random\nusing SparseArrays\nusing DataFrames\nusing StatsPlots\nusing BenchmarkTools"
      ],
      "metadata": {},
      "execution_count": null
    },
    {
      "cell_type": "markdown",
      "source": [
        "## Transitions"
      ],
      "metadata": {}
    },
    {
      "outputs": [],
      "cell_type": "code",
      "source": [
        "function sir_mbp!(du,u,p,t)\n    (Ctilde,Rtilde) = u\n    (β,c,γ,S₀,I₀,N) = p\n    C = exp(Ctilde)-1.0\n    R = exp(Rtilde)-1.0\n    S = S₀-C\n    I = I₀+C-R\n    @inbounds begin\n        du[1] = (exp(-Ctilde)-0.5*exp(-2.0*Ctilde))*(β*c*I/N*S)\n        du[2] = (exp(-Rtilde)-0.5*exp(-2.0*Rtilde))*(γ*I)\n    end\n    nothing\nend;"
      ],
      "metadata": {},
      "execution_count": null
    },
    {
      "cell_type": "markdown",
      "source": [
        "The pattern of noise for this parameterisation is a diagonal matrix."
      ],
      "metadata": {}
    },
    {
      "outputs": [],
      "cell_type": "code",
      "source": [
        "# Define a sparse matrix by making a dense matrix and setting some values as not zero\nA = zeros(2,2)\nA[1,1] = 1\nA[2,2] = 1\nA = SparseArrays.sparse(A);"
      ],
      "metadata": {},
      "execution_count": null
    },
    {
      "outputs": [],
      "cell_type": "code",
      "source": [
        "# Make `g` write the sparse matrix values\nfunction sir_noise!(du,u,p,t)\n    (Ctilde,Rtilde) = u\n    (β,c,γ,S₀,I₀,N) = p\n    C = exp(Ctilde)-1.0\n    R = exp(Rtilde)-1.0\n    S = S₀-C\n    I = I₀+C-R\n    du[1,1] = exp(-Ctilde)*sqrt(β*c*I/N*S)\n    du[2,2] = exp(-Rtilde)*sqrt(γ*I)\nend;"
      ],
      "metadata": {},
      "execution_count": null
    },
    {
      "cell_type": "markdown",
      "source": [
        "## Time domain\n\nWe set the timespan for simulations, `tspan`, initial conditions, `u0`, and parameter values, `p`, which contains both the rates of the model and the initial conditions of `S` and `I`."
      ],
      "metadata": {}
    },
    {
      "outputs": [],
      "cell_type": "code",
      "source": [
        "δt = 0.1\ntmax = 40.0\ntspan = (0.0,tmax)\nt = 0.0:δt:tmax;"
      ],
      "metadata": {},
      "execution_count": null
    },
    {
      "cell_type": "markdown",
      "source": [
        "## Initial conditions"
      ],
      "metadata": {}
    },
    {
      "outputs": [],
      "cell_type": "code",
      "source": [
        "u0 = [0.0,0.0]; # C,R"
      ],
      "metadata": {},
      "execution_count": null
    },
    {
      "cell_type": "markdown",
      "source": [
        "## Parameter values"
      ],
      "metadata": {}
    },
    {
      "outputs": [],
      "cell_type": "code",
      "source": [
        "p = [0.05,10.0,0.25,990.0,10.0,1000.0]; # β,c,γ,S₀,I₀,N"
      ],
      "metadata": {},
      "execution_count": null
    },
    {
      "cell_type": "markdown",
      "source": [
        "## Random number seed"
      ],
      "metadata": {}
    },
    {
      "outputs": [],
      "cell_type": "code",
      "source": [
        "Random.seed!(1234);"
      ],
      "metadata": {},
      "execution_count": null
    },
    {
      "cell_type": "markdown",
      "source": [
        "## Defining a callback\n\nIt is possible for the number of infected individuals to become negative. Here, a simple approach is taken where the integration is stopped if the number of infected individuals becomes negative. This is implemented using a `ContinuousCallback` from the `DiffEqCallbacks` library."
      ],
      "metadata": {}
    },
    {
      "outputs": [],
      "cell_type": "code",
      "source": [
        "function condition(u,t,integrator,p) # Event when event_f(u,t) == 0\n    (Ctilde,Rtilde) = u\n    (β,c,γ,S₀,I₀,N) = p\n    C = exp(Ctilde)-1.0\n    R = exp(Rtilde)-1.0\n    S = S₀-C\n    I = I₀+C-R\n    I\nend;"
      ],
      "metadata": {},
      "execution_count": null
    },
    {
      "outputs": [],
      "cell_type": "code",
      "source": [
        "function affect!(integrator)\n    terminate!(integrator)\nend;"
      ],
      "metadata": {},
      "execution_count": null
    },
    {
      "outputs": [],
      "cell_type": "code",
      "source": [
        "cb = ContinuousCallback(\n        (u,t,integrator)->condition(u,t,integrator,p),\n        affect!);"
      ],
      "metadata": {},
      "execution_count": null
    },
    {
      "cell_type": "markdown",
      "source": [
        "## Running the model"
      ],
      "metadata": {}
    },
    {
      "outputs": [],
      "cell_type": "code",
      "source": [
        "prob_mbp = SDEProblem(sir_mbp!,sir_noise!,u0,tspan,p,noise_rate_prototype=A);"
      ],
      "metadata": {},
      "execution_count": null
    },
    {
      "outputs": [],
      "cell_type": "code",
      "source": [
        "sol_mbp = solve(prob_mbp,\n            SRA1(),\n            callback=cb,\n            saveat=δt);"
      ],
      "metadata": {},
      "execution_count": null
    },
    {
      "cell_type": "markdown",
      "source": [
        "## Post-processing\n\nWe can convert the output to a dataframe for convenience."
      ],
      "metadata": {}
    },
    {
      "outputs": [],
      "cell_type": "code",
      "source": [
        "df_mbp = DataFrame(sol_mbp(sol_mbp.t)')\ndf_mbp[!,:C] = exp.(df_mbp[!,:x1]) .- 1.0\ndf_mbp[!,:R] = exp.(df_mbp[!,:x2]) .- 1.0\ndf_mbp[!,:S] = p[4] .- df_mbp[!,:C]\ndf_mbp[!,:I] = p[5] .+ df_mbp[!,:C] .- df_mbp[!,:R]\ndf_mbp[!,:t] = sol_mbp.t;"
      ],
      "metadata": {},
      "execution_count": null
    },
    {
      "cell_type": "markdown",
      "source": [
        "## Plotting\n\nWe can now plot the results."
      ],
      "metadata": {}
    },
    {
      "outputs": [],
      "cell_type": "code",
      "source": [
        "@df df_mbp plot(:t,\n    [:S :I :R],\n    label=[\"S\" \"I\" \"R\"],\n    xlabel=\"Time\",\n    ylabel=\"Number\")"
      ],
      "metadata": {},
      "execution_count": null
    },
    {
      "cell_type": "markdown",
      "source": [
        "## Benchmarking"
      ],
      "metadata": {}
    },
    {
      "outputs": [],
      "cell_type": "code",
      "source": [
        "@benchmark solve(prob_mbp,SRA1(),callback=cb)"
      ],
      "metadata": {},
      "execution_count": null
    }
  ],
  "nbformat_minor": 2,
  "metadata": {
    "language_info": {
      "file_extension": ".jl",
      "mimetype": "application/julia",
      "name": "julia",
      "version": "1.5.4"
    },
    "kernelspec": {
      "name": "julia-1.5",
      "display_name": "Julia 1.5.4",
      "language": "julia"
    }
  },
  "nbformat": 4
}
