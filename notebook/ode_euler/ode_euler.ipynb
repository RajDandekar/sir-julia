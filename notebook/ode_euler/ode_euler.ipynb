{
  "cells": [
    {
      "cell_type": "markdown",
      "source": [
        "# Ordinary differential equation model using the Euler method\nSimon Frost (@sdwfrost), 2022-05-05\n\n## Introduction\n\nThe classical ODE version of the SIR model is:\n\n- Deterministic\n- Continuous in time\n- Continuous in state\n\nPerhaps the simplest approach to solve an ODE is [the Euler method](https://en.wikipedia.org/wiki/Euler_method), where the state `u` at some time `t+δ` in the future is `u+δ*u'`. While this is neither robust nor efficient, it is commonly used in the literature due to its ease of implementation.\n\n## Libraries"
      ],
      "metadata": {}
    },
    {
      "outputs": [],
      "cell_type": "code",
      "source": [
        "using Tables\nusing DataFrames\nusing StatsPlots\nusing BenchmarkTools"
      ],
      "metadata": {},
      "execution_count": null
    },
    {
      "cell_type": "markdown",
      "source": [
        "## Transitions\n\nThe following function provides the derivatives of the model, which it changes in-place. State variables and parameters are unpacked from `u` and `p`; this incurs a slight performance hit, but makes the equations much easier to read."
      ],
      "metadata": {}
    },
    {
      "outputs": [],
      "cell_type": "code",
      "source": [
        "function sir_ode!(du,u,p,t)\n    (S,I,R) = u\n    (β,c,γ) = p\n    N = S+I+R\n    @inbounds begin\n        du[1] = -β*c*I/N*S\n        du[2] = β*c*I/N*S - γ*I\n        du[3] = γ*I\n    end\n    nothing\nend;"
      ],
      "metadata": {},
      "execution_count": null
    },
    {
      "cell_type": "markdown",
      "source": [
        "## Model inputs\n\nWe set the time step, `δt`, the maximum time for simulations, `tmax`, initial conditions, `u0`, and parameter values, `p` (which are unpacked above as `[β,c,γ]`)."
      ],
      "metadata": {}
    },
    {
      "outputs": [],
      "cell_type": "code",
      "source": [
        "t0 = 0.0\nδt = 0.1\ntmax = 40.0\nu0 = [990.0,10.0,0.0] # S,I,R\np = [0.05,10.0,0.25]; # β,c,γ"
      ],
      "metadata": {},
      "execution_count": null
    },
    {
      "cell_type": "markdown",
      "source": [
        "## Running the model\n\nThe following function takes an inplace function such as `sir_ode!` above, the initial conditions, the parameter values, the time step and the initial and maximum times. It returns the times at which the solution was generated, and the solution itself."
      ],
      "metadata": {}
    },
    {
      "outputs": [],
      "cell_type": "code",
      "source": [
        "function euler(f, u0, p, δt, t0, tmax)\n    t = t0 # Initialize time\n    u = copy(u0) # Initialize struct parametric inherited\n    du = zeros(length(u0)) # Initialize derivatives\n    f(du,u,p,t)\n    sol = [] # Store output\n    times = [] # Store times\n    push!(sol,copy(u))\n    push!(times,t)\n    # Main loop\n    while t < tmax\n        t = t + δt # Update time\n        u .= u .+ du.*δt # Update state\n        sir_ode!(du,u,p,t) # Update derivative\n        push!(sol,copy(u)) # Store output\n        push!(times,t) # Store time\n    end\n    sol = hcat(sol...) # Convert to matrix\n    return times, sol\nend;"
      ],
      "metadata": {},
      "execution_count": null
    },
    {
      "outputs": [],
      "cell_type": "code",
      "source": [
        "times, sol = euler(sir_ode!, u0, p, δt, t0, tmax);"
      ],
      "metadata": {},
      "execution_count": null
    },
    {
      "cell_type": "markdown",
      "source": [
        "## Post-processing\n\nWe can convert the output to a dataframe for convenience."
      ],
      "metadata": {}
    },
    {
      "outputs": [],
      "cell_type": "code",
      "source": [
        "df = DataFrame(Tables.table(sol'))\nrename!(df,[\"S\",\"I\",\"R\"])\ndf[!,:t] = times;"
      ],
      "metadata": {},
      "execution_count": null
    },
    {
      "cell_type": "markdown",
      "source": [
        "## Plotting\n\nWe can now plot the results."
      ],
      "metadata": {}
    },
    {
      "outputs": [],
      "cell_type": "code",
      "source": [
        "@df df plot(:t,\n    [:S :I :R],\n    label=[\"S\" \"I\" \"R\"],\n    xlabel=\"Time\",\n    ylabel=\"Number\")"
      ],
      "metadata": {},
      "execution_count": null
    },
    {
      "cell_type": "markdown",
      "source": [
        "## Benchmarking"
      ],
      "metadata": {}
    },
    {
      "outputs": [],
      "cell_type": "code",
      "source": [
        "@benchmark euler(sir_ode!, u0, p, δt, t0, tmax)"
      ],
      "metadata": {},
      "execution_count": null
    }
  ],
  "nbformat_minor": 2,
  "metadata": {
    "language_info": {
      "file_extension": ".jl",
      "mimetype": "application/julia",
      "name": "julia",
      "version": "1.6.3"
    },
    "kernelspec": {
      "name": "julia-1.6",
      "display_name": "Julia 1.6.3",
      "language": "julia"
    }
  },
  "nbformat": 4
}
