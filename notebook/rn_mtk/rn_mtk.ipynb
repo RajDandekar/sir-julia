{
  "cells": [
    {
      "cell_type": "markdown",
      "source": [
        "# Reaction network model using ModelingToolkit\nSimon Frost (@sdwfrost), 2020-05-20\n\n## Introduction\n\nOne high-level representation of the SIR model is as a reaction network, borrowed from systems biology. [ModelingToolkit](https://mtk.sciml.ai/) allows us to convert this representation to ODEs, SDEs, and jump processes. This example is a slightly tweaked version of [one in the ModelingToolkit documentation](https://mtk.sciml.ai/dev/systems/ReactionSystem/), using the population size as a derived variable in the rates for the transitions.\n\n## Libraries"
      ],
      "metadata": {}
    },
    {
      "outputs": [],
      "cell_type": "code",
      "source": [
        "using DifferentialEquations\nusing ModelingToolkit\nusing OrdinaryDiffEq\nusing StochasticDiffEq\nusing DiffEqJump\nusing Random\nusing Plots"
      ],
      "metadata": {},
      "execution_count": null
    },
    {
      "cell_type": "markdown",
      "source": [
        "## Transitions"
      ],
      "metadata": {}
    },
    {
      "outputs": [],
      "cell_type": "code",
      "source": [
        "@parameters t β c γ\n@variables S(t) I(t) R(t)\n\nN=S+I+R # This is recognized as a derived variable\nrxs = [Reaction((β*c)/N, [S,I], [I], [1,1], [2])\n       Reaction(γ, [I], [R])]"
      ],
      "metadata": {},
      "execution_count": null
    },
    {
      "outputs": [],
      "cell_type": "code",
      "source": [
        "rs  = ReactionSystem(rxs, t, [S,I,R], [β,c,γ])"
      ],
      "metadata": {},
      "execution_count": null
    },
    {
      "cell_type": "markdown",
      "source": [
        "## Time domain\n\nWe set the timespan for simulations, `tspan`, initial conditions, `u0`, and parameter values, `p` (which are unpacked above as `[β,γ]`)."
      ],
      "metadata": {}
    },
    {
      "outputs": [],
      "cell_type": "code",
      "source": [
        "tmax = 40.0\ntspan = (0.0,tmax);"
      ],
      "metadata": {},
      "execution_count": null
    },
    {
      "cell_type": "markdown",
      "source": [
        "## Initial conditions\n\nIn `ModelingToolkit`, the initial values are defined by a dictionary."
      ],
      "metadata": {}
    },
    {
      "outputs": [],
      "cell_type": "code",
      "source": [
        "u0 = [S => 990.0,\n      I => 10.0,\n      R => 0.0];"
      ],
      "metadata": {},
      "execution_count": null
    },
    {
      "cell_type": "markdown",
      "source": [
        "## Parameter values\n\nSimilarly, the parameter values are defined by a dictionary."
      ],
      "metadata": {}
    },
    {
      "outputs": [],
      "cell_type": "code",
      "source": [
        "p = [β=>0.05,\n     c=>10.0,\n     γ=>0.25];"
      ],
      "metadata": {},
      "execution_count": null
    },
    {
      "cell_type": "markdown",
      "source": [
        "## Random number seed"
      ],
      "metadata": {}
    },
    {
      "outputs": [],
      "cell_type": "code",
      "source": [
        "Random.seed!(1234);"
      ],
      "metadata": {},
      "execution_count": null
    },
    {
      "cell_type": "markdown",
      "source": [
        "## Generating and running models\n\n### As ODEs"
      ],
      "metadata": {}
    },
    {
      "outputs": [],
      "cell_type": "code",
      "source": [
        "odesys = convert(ODESystem, rs)\noprob = ODEProblem(odesys, u0, tspan, p)\nosol = solve(oprob, Tsit5())\nplot(osol)"
      ],
      "metadata": {},
      "execution_count": null
    },
    {
      "cell_type": "markdown",
      "source": [
        "### As SDEs"
      ],
      "metadata": {}
    },
    {
      "outputs": [],
      "cell_type": "code",
      "source": [
        "sdesys = convert(SDESystem, rs)\nsprob = SDEProblem(sdesys, u0, tspan, p)\nssol = solve(sprob, LambaEM())\nplot(ssol)"
      ],
      "metadata": {},
      "execution_count": null
    },
    {
      "cell_type": "markdown",
      "source": [
        "### As jump process\n\nTo convert to a jump process, we need to set the initial conditions to `Int` rather than `Float`."
      ],
      "metadata": {}
    },
    {
      "outputs": [],
      "cell_type": "code",
      "source": [
        "jumpsys = convert(JumpSystem, rs)\nu0i = [S => 990, I => 10, R => 0]\ndprob = DiscreteProblem(jumpsys, u0i, tspan, p)\njprob = JumpProblem(jumpsys, dprob, Direct())\njsol = solve(jprob, SSAStepper())\nplot(jsol)"
      ],
      "metadata": {},
      "execution_count": null
    }
  ],
  "nbformat_minor": 2,
  "metadata": {
    "language_info": {
      "file_extension": ".jl",
      "mimetype": "application/julia",
      "name": "julia",
      "version": "1.5.4"
    },
    "kernelspec": {
      "name": "julia-1.5",
      "display_name": "Julia 1.5.4",
      "language": "julia"
    }
  },
  "nbformat": 4
}
