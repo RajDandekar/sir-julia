{
  "cells": [
    {
      "cell_type": "markdown",
      "source": [
        "# Ordinary differential equation model with inference using nested sampling\nSimon Frost (@sdwfrost) 2020-07-14\n\n## Introduction\n\nThe classical ODE version of the SIR model is:\n\n- Deterministic\n- Continuous in time\n- Continuous in state\n\nIn this notebook, we try to infer the parameter values from a simulated dataset using [nested sampling](https://en.wikipedia.org/wiki/Nested_sampling_algorithm), which provides both the posterior distribution of the parameters but also the marginal likelihood (also known as the evidence) of the model, which allows one to perform Bayesian model comparison when models are fitted to the same data.\n\n## Libraries"
      ],
      "metadata": {}
    },
    {
      "outputs": [],
      "cell_type": "code",
      "source": [
        "using DifferentialEquations\nusing SimpleDiffEq\nusing DiffEqSensitivity\nusing Random\nusing Distributions\nusing NestedSamplers\nusing StatsBase: sample, Weights\nusing MCMCChains: Chains, describe\nusing StatsPlots"
      ],
      "metadata": {},
      "execution_count": null
    },
    {
      "cell_type": "markdown",
      "source": [
        "## Transitions\n\nThe following function provides the derivatives of the model, which it changes in-place. A variable is included for the cumulative number of infections, $C$, which will be used for inference."
      ],
      "metadata": {}
    },
    {
      "outputs": [],
      "cell_type": "code",
      "source": [
        "function sir_ode!(du,u,p,t)\n    (S,I,R,C) = u\n    (β,c,γ) = p\n    N = S+I+R\n    infection = β*c*I/N*S\n    recovery = γ*I\n    @inbounds begin\n        du[1] = -infection\n        du[2] = infection - recovery\n        du[3] = recovery\n        du[4] = infection\n    end\n    nothing\nend;"
      ],
      "metadata": {},
      "execution_count": null
    },
    {
      "cell_type": "markdown",
      "source": [
        "## Time domain\n\nWe set the timespan for simulations, `tspan`, as well as the times of observations for which we will simulate data, `obstimes`."
      ],
      "metadata": {}
    },
    {
      "outputs": [],
      "cell_type": "code",
      "source": [
        "δt = 1.0\ntmax = 40.0\ntspan = (0.0,tmax)\nobstimes = 1.0:1.0:tmax;"
      ],
      "metadata": {},
      "execution_count": null
    },
    {
      "cell_type": "markdown",
      "source": [
        "## Initial conditions"
      ],
      "metadata": {}
    },
    {
      "outputs": [],
      "cell_type": "code",
      "source": [
        "u0 = [990.0,10.0,0.0,0.0]; # S,I.R,Y"
      ],
      "metadata": {},
      "execution_count": null
    },
    {
      "cell_type": "markdown",
      "source": [
        "## Parameter values"
      ],
      "metadata": {}
    },
    {
      "outputs": [],
      "cell_type": "code",
      "source": [
        "p = [0.05,10.0,0.25]; # β,c,γ"
      ],
      "metadata": {},
      "execution_count": null
    },
    {
      "cell_type": "markdown",
      "source": [
        "## Running the model"
      ],
      "metadata": {}
    },
    {
      "outputs": [],
      "cell_type": "code",
      "source": [
        "prob_ode = ODEProblem(sir_ode!,u0,tspan,p)\nsol_ode = solve(prob_ode,Tsit5(),saveat=δt);"
      ],
      "metadata": {},
      "execution_count": null
    },
    {
      "cell_type": "markdown",
      "source": [
        "## Generating data\n\nThe cumulative counts are extracted."
      ],
      "metadata": {}
    },
    {
      "outputs": [],
      "cell_type": "code",
      "source": [
        "out = Array(sol_ode)\nC = out[4,:];"
      ],
      "metadata": {},
      "execution_count": null
    },
    {
      "cell_type": "markdown",
      "source": [
        "The new cases per day are calculated from the cumulative counts."
      ],
      "metadata": {}
    },
    {
      "outputs": [],
      "cell_type": "code",
      "source": [
        "X = C[2:end] .- C[1:(end-1)];"
      ],
      "metadata": {},
      "execution_count": null
    },
    {
      "cell_type": "markdown",
      "source": [
        "Although the ODE system is deterministic, we can add measurement error to the counts of new cases. Here, a Poisson distribution is used, although a negative binomial could also be used (which would introduce an additional parameter for the variance)."
      ],
      "metadata": {}
    },
    {
      "outputs": [],
      "cell_type": "code",
      "source": [
        "Random.seed!(1234);"
      ],
      "metadata": {},
      "execution_count": null
    },
    {
      "outputs": [],
      "cell_type": "code",
      "source": [
        "Y = rand.(Poisson.(X));"
      ],
      "metadata": {},
      "execution_count": null
    },
    {
      "cell_type": "markdown",
      "source": [
        "## Inference using nested sampling\n\nThe algorithms in `NestedSamplers,jl` require a function that takes the parameters and returns the the log-likelihood. The parameters to be estimated are `i0`, the fraction of the population initially infected, and `\\beta`, the infection probability. The contact rate, `c` and the recovery rate, `γ` are set at their true values."
      ],
      "metadata": {}
    },
    {
      "outputs": [],
      "cell_type": "code",
      "source": [
        "function ll(x)\n    (i0,β) = x\n    I = i0*1000.0\n    prob = remake(prob_ode,u0=[1000.0-I,I,0.0,0.0],p=[β,10.0,0.25])\n    sol = solve(prob,Tsit5(),saveat=δt)\n    out = Array(sol)\n    C = out[4,:]\n    X = C[2:end] .- C[1:(end-1)]\n    nonpos = sum(X .<= 0)\n    if nonpos > 0\n        return Inf\n    end\n    sum(logpdf.(Poisson.(X),Y))\nend;"
      ],
      "metadata": {},
      "execution_count": null
    },
    {
      "cell_type": "markdown",
      "source": [
        "The priors are defined using an array of `Distributions`. For computational expediency for this example, fairly informative priors are used."
      ],
      "metadata": {}
    },
    {
      "outputs": [],
      "cell_type": "code",
      "source": [
        "priors = [\n    Uniform(0, 0.1),\n    Uniform(0, 0.1)\n];"
      ],
      "metadata": {},
      "execution_count": null
    },
    {
      "cell_type": "markdown",
      "source": [
        "A `NestedModel` is created from the log likelihood and the priors."
      ],
      "metadata": {}
    },
    {
      "outputs": [],
      "cell_type": "code",
      "source": [
        "model = NestedModel(ll, priors);"
      ],
      "metadata": {},
      "execution_count": null
    },
    {
      "cell_type": "markdown",
      "source": [
        "A `Nested` sampler is defined, with 2 parameters and 10000 active points using multi-ellipsoid bounds."
      ],
      "metadata": {}
    },
    {
      "outputs": [],
      "cell_type": "code",
      "source": [
        "spl = Nested(2, 10000, bounds=Bounds.MultiEllipsoid);"
      ],
      "metadata": {},
      "execution_count": null
    },
    {
      "cell_type": "markdown",
      "source": [
        "Now we can run the sampler."
      ],
      "metadata": {}
    },
    {
      "outputs": [],
      "cell_type": "code",
      "source": [
        "chain = sample(model, spl;\n               param_names=[\"i0\", \"β\"],\n               chain_type=Chains);"
      ],
      "metadata": {},
      "execution_count": null
    },
    {
      "outputs": [],
      "cell_type": "code",
      "source": [
        "describe(chain)"
      ],
      "metadata": {},
      "execution_count": null
    },
    {
      "cell_type": "markdown",
      "source": [
        "The plots show nicely how the sampler converges over iterations."
      ],
      "metadata": {}
    },
    {
      "outputs": [],
      "cell_type": "code",
      "source": [
        "plot(chain)"
      ],
      "metadata": {},
      "execution_count": null
    }
  ],
  "nbformat_minor": 2,
  "metadata": {
    "language_info": {
      "file_extension": ".jl",
      "mimetype": "application/julia",
      "name": "julia",
      "version": "1.5.4"
    },
    "kernelspec": {
      "name": "julia-1.5",
      "display_name": "Julia 1.5.4",
      "language": "julia"
    }
  },
  "nbformat": 4
}
