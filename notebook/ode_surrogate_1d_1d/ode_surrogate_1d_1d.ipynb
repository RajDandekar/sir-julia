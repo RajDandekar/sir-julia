{
  "cells": [
    {
      "cell_type": "markdown",
      "source": [
        "# Surrogate models of an ordinary differential equation model\nSimon Frost (@sdwfrost), 2022-03-12\n\n## Introduction\n\nIn this notebook, we use `Surrogates.jl` to make a surrogate model or *emulator* of the SIR model (deterministic, using an ODE) with a single input (infectivity). We train surrogate models on three different targets: the final size, the peak number of infected individuals, and the timing of the peak.\n\n## Libraries"
      ],
      "metadata": {}
    },
    {
      "outputs": [],
      "cell_type": "code",
      "source": [
        "using OrdinaryDiffEq\nusing DiffEqCallbacks\nusing Surrogates\nusing Random\nusing Optim\nusing Plots\nusing BenchmarkTools"
      ],
      "metadata": {},
      "execution_count": null
    },
    {
      "cell_type": "markdown",
      "source": [
        "## Transitions"
      ],
      "metadata": {}
    },
    {
      "outputs": [],
      "cell_type": "code",
      "source": [
        "function sir_ode!(du,u,p,t)\n    (S,I,R) = u\n    (β,γ) = p\n    @inbounds begin\n        du[1] = -β*S*I\n        du[2] = β*S*I - γ*I\n        du[3] = γ*I\n    end\n    nothing\nend;"
      ],
      "metadata": {},
      "execution_count": null
    },
    {
      "cell_type": "markdown",
      "source": [
        "## Time domain\n\nWe set the timespan to be high, as we will be using a callback in order to stop the integration early."
      ],
      "metadata": {}
    },
    {
      "outputs": [],
      "cell_type": "code",
      "source": [
        "tmax = 10000.0\ntspan = (0.0,tmax);"
      ],
      "metadata": {},
      "execution_count": null
    },
    {
      "cell_type": "markdown",
      "source": [
        "## Callbacks\n\nThis callback allows the model to be run until steady state is reached."
      ],
      "metadata": {}
    },
    {
      "outputs": [],
      "cell_type": "code",
      "source": [
        "cb_ss = TerminateSteadyState();"
      ],
      "metadata": {},
      "execution_count": null
    },
    {
      "cell_type": "markdown",
      "source": [
        "## Initial conditions\n\nWe need to run the model for lots of initial conditions and parameter values."
      ],
      "metadata": {}
    },
    {
      "outputs": [],
      "cell_type": "code",
      "source": [
        "n_train = 25 # Number of samples\nn_test = 1000; # Number of samples"
      ],
      "metadata": {},
      "execution_count": null
    },
    {
      "cell_type": "markdown",
      "source": [
        "We specify lower (`lb`) and upper (`ub`) bounds for each parameter."
      ],
      "metadata": {}
    },
    {
      "outputs": [],
      "cell_type": "code",
      "source": [
        "# Parameters are β\nlb = 0.00005\nub = 0.001;"
      ],
      "metadata": {},
      "execution_count": null
    },
    {
      "cell_type": "markdown",
      "source": [
        "## Running the model"
      ],
      "metadata": {}
    },
    {
      "outputs": [],
      "cell_type": "code",
      "source": [
        "N = 1000.0\nu0 = [990.0,10.0,0.0]\np = [0.0005,0.25]\nprob_ode = ODEProblem(sir_ode!,u0,tspan,p);"
      ],
      "metadata": {},
      "execution_count": null
    },
    {
      "cell_type": "markdown",
      "source": [
        "## Creating surrogate models\n\nWe will create three separate surrogate models, in increasing order of difficulty for the emulators.\n\n### Final size\n\nWe start by sampling values of β between the lower and upper bounds using Latin hypercube sampling, which will give more uniform coverage than a uniform sample given the low number of initial points."
      ],
      "metadata": {}
    },
    {
      "outputs": [],
      "cell_type": "code",
      "source": [
        "Random.seed!(123)\nsampler = LatinHypercubeSample();"
      ],
      "metadata": {},
      "execution_count": null
    },
    {
      "cell_type": "markdown",
      "source": [
        "β will be changed in-place, so we make a copy of the initial sample."
      ],
      "metadata": {}
    },
    {
      "outputs": [],
      "cell_type": "code",
      "source": [
        "β = Surrogates.sample(n_train,lb,ub,sampler)\nβ₀ = copy(β);"
      ],
      "metadata": {},
      "execution_count": null
    },
    {
      "outputs": [],
      "cell_type": "code",
      "source": [
        "final_size = function(β)\n  p = prob_ode.p\n  p[1] = β\n  prob = remake(prob_ode;p=p)\n  sol = solve(prob, ROS34PW3(),callback=cb_ss)\n  fsp = sol[end][3]/N\n  fsp\nend;"
      ],
      "metadata": {},
      "execution_count": null
    },
    {
      "cell_type": "markdown",
      "source": [
        "We now compute the final size for our initial sample of β values."
      ],
      "metadata": {}
    },
    {
      "outputs": [],
      "cell_type": "code",
      "source": [
        "fs = final_size.(β);"
      ],
      "metadata": {},
      "execution_count": null
    },
    {
      "cell_type": "markdown",
      "source": [
        "This illustrates the initial sampling points."
      ],
      "metadata": {}
    },
    {
      "outputs": [],
      "cell_type": "code",
      "source": [
        "β_grid = lb:0.00001:ub\nplot(β_grid,final_size.(β_grid),label=\"True function\",xlab=\"Infectivity parameter, β\",ylab=\"Final size\")\nscatter!(β,fs,legend=:right,label=\"Sampled points\")"
      ],
      "metadata": {},
      "execution_count": null
    },
    {
      "cell_type": "markdown",
      "source": [
        "We use a `RadialBasis` as a surrogate model for `β`→`fs` between a lower bound, `lb`, and an upper bound, `ub`."
      ],
      "metadata": {}
    },
    {
      "outputs": [],
      "cell_type": "code",
      "source": [
        "fs_surrogate = RadialBasis(β, fs, lb, ub, rad=cubicRadial);"
      ],
      "metadata": {},
      "execution_count": null
    },
    {
      "outputs": [],
      "cell_type": "code",
      "source": [
        "scatter(fs,\n        fs_surrogate.(β),\n        legend=false,\n        xlabel=\"True final size\",\n        ylabel=\"Surrogate final size\")\nPlots.abline!(1.0,0.0)"
      ],
      "metadata": {},
      "execution_count": null
    },
    {
      "cell_type": "markdown",
      "source": [
        "Optimization of this surrogate uses a sequential radial basis function (`SRBF`) approach to search parameter space and generate new samples where needed."
      ],
      "metadata": {}
    },
    {
      "outputs": [],
      "cell_type": "code",
      "source": [
        "surrogate_optimize(final_size,\n                   SRBF(),\n                   lb,\n                   ub,\n                   fs_surrogate,\n                   sampler;\n                   maxiters=1000,\n                   num_new_samples=1000);"
      ],
      "metadata": {},
      "execution_count": null
    },
    {
      "cell_type": "markdown",
      "source": [
        "The above function changes β in-place; the below compares the length of the original number of samples with the optimized surrogate."
      ],
      "metadata": {}
    },
    {
      "outputs": [],
      "cell_type": "code",
      "source": [
        "β₁ = copy(β)\nlength(β₀),length(β)"
      ],
      "metadata": {},
      "execution_count": null
    },
    {
      "cell_type": "markdown",
      "source": [
        "The below shows that the surrogate is a good fit, at least for the original plus optimized sampled points."
      ],
      "metadata": {}
    },
    {
      "outputs": [],
      "cell_type": "code",
      "source": [
        "fs_opt = final_size.(β)\nscatter(fs_opt,fs_surrogate.(β), xlabel=\"Final size\", ylabel=\"Surrogate final size\",legend=false)\nPlots.abline!(1.0, 0.0)"
      ],
      "metadata": {},
      "execution_count": null
    },
    {
      "cell_type": "markdown",
      "source": [
        "We now apply our optimized sampler to a finer grid of β in order to assess how well the surrogate model performs for out-of-sample parameter values."
      ],
      "metadata": {}
    },
    {
      "outputs": [],
      "cell_type": "code",
      "source": [
        "β_test = sample(n_test,lb,ub,UniformSample())\nfs_test = final_size.(β_test)\nfs_test_pred = fs_surrogate.(β_test);"
      ],
      "metadata": {},
      "execution_count": null
    },
    {
      "outputs": [],
      "cell_type": "code",
      "source": [
        "l = @layout [a b]\npl1 = plot(β_grid,final_size.(β_grid),color=:red,label=\"Model\",xlabel=\"β\",ylabel=\"Final size\",legend=:right)\nscatter!(pl1, β_test,fs_test_pred,color=:blue,label=\"Surrogate\")\npl2 = scatter(fs_test,fs_test_pred,color=:blue,legend=false,xlabel=\"Final size\",ylabel=\"Surrogate final size\")\nPlots.abline!(pl2,1.0,0.0)\nplot(pl1,pl2,layout=l)"
      ],
      "metadata": {},
      "execution_count": null
    },
    {
      "cell_type": "markdown",
      "source": [
        "Although this is a toy example, where the model runs quickly, the emulator is orders of magnitude faster."
      ],
      "metadata": {}
    },
    {
      "outputs": [],
      "cell_type": "code",
      "source": [
        "@benchmark final_size(0.0005)"
      ],
      "metadata": {},
      "execution_count": null
    },
    {
      "outputs": [],
      "cell_type": "code",
      "source": [
        "@benchmark fs_surrogate(0.0005)"
      ],
      "metadata": {},
      "execution_count": null
    },
    {
      "cell_type": "markdown",
      "source": [
        "## Peak infected\n\nTo determine the peak number of infected individuals, we make use of the feature where solutions of DiffEq models can be interpolated, and so we can use the solution in a function to maximize `I`, the number of infected individuals (strictly speaking, minimize `-I`)."
      ],
      "metadata": {}
    },
    {
      "outputs": [],
      "cell_type": "code",
      "source": [
        "peak_infected = function(β)\n  p = prob_ode.p\n  p[1] = β\n  prob = remake(prob_ode;p=p)\n  sol = solve(prob, ROS34PW3(),callback=cb_ss)\n  tss = sol.t[end]\n  f = (t) -> -sol(t,idxs=2)\n  opt = Optim.optimize(f,0.0,tss)\n  pk = -opt.minimum\n  pk\nend"
      ],
      "metadata": {},
      "execution_count": null
    },
    {
      "cell_type": "markdown",
      "source": [
        "The peak infected is more difficult to emulate than the final size, due to the discontinuity; when the basic reproductive number, R₀,  is less than 1, the number of infected individuals decreases, and peak infected is I(0) regardless of β."
      ],
      "metadata": {}
    },
    {
      "outputs": [],
      "cell_type": "code",
      "source": [
        "plot(β_grid, peak_infected,xlabel=\"β\",ylabel=\"Peak infected\",legend=false)"
      ],
      "metadata": {},
      "execution_count": null
    },
    {
      "cell_type": "markdown",
      "source": [
        "The workflow we used to generate a surrogate for final size is repeated here."
      ],
      "metadata": {}
    },
    {
      "outputs": [],
      "cell_type": "code",
      "source": [
        "pk = peak_infected.(β)\npk_surrogate = RadialBasis(β,pk,lb,ub,rad = cubicRadial)\nsurrogate_optimize(peak_infected,\n                   SRBF(),\n                   lb,\n                   ub,\n                   pk_surrogate,\n                   sampler;\n                   maxiters=1000,\n                   num_new_samples=1000)\npk_test = peak_infected.(β_test)\npk_test_pred = pk_surrogate.(β_test);"
      ],
      "metadata": {},
      "execution_count": null
    },
    {
      "outputs": [],
      "cell_type": "code",
      "source": [
        "l = @layout [a b]\npl1 = plot(β_grid,peak_infected.(β_grid),color=:red,label=\"Model\",xlabel=\"β\",ylabel=\"Peak infected\",legend=:right)\nscatter!(pl1, β_test,pk_test_pred,color=:blue,label=\"Surrogate\")\npl2 = scatter(pk_test,pk_test_pred,color=:blue,legend=false,xlabel=\"Peak infected\",ylabel=\"Surrogate peak infected\")\nPlots.abline!(pl2,1.0,0.0)\nplot(pl1,pl2,layout=l)"
      ],
      "metadata": {},
      "execution_count": null
    },
    {
      "outputs": [],
      "cell_type": "code",
      "source": [
        "@benchmark peak_infected(0.0005)"
      ],
      "metadata": {},
      "execution_count": null
    },
    {
      "outputs": [],
      "cell_type": "code",
      "source": [
        "@benchmark pk_surrogate(0.0005)"
      ],
      "metadata": {},
      "execution_count": null
    },
    {
      "cell_type": "markdown",
      "source": [
        "## Peak time\n\nPeak time shows strong nonlinearity with β, and so is harder to emulate; we reuse the function for peak infected above, but return the minimizer rather than the minimum value."
      ],
      "metadata": {}
    },
    {
      "outputs": [],
      "cell_type": "code",
      "source": [
        "peak_time = function(β)\n  p = prob_ode.p\n  p[1] = β\n  prob = remake(prob_ode;p=p)\n  sol = solve(prob, ROS34PW3(),callback=cb_ss)\n  tss = sol.t[end]\n  f = (t) -> -sol(t,idxs=2)\n  opt = Optim.optimize(f,0.0,tss)\n  pt = opt.minimizer\n  pt\nend"
      ],
      "metadata": {},
      "execution_count": null
    },
    {
      "outputs": [],
      "cell_type": "code",
      "source": [
        "plot(β_grid,peak_time,xlabel=\"β\",ylabel=\"Peak time\",legend=false)"
      ],
      "metadata": {},
      "execution_count": null
    },
    {
      "outputs": [],
      "cell_type": "code",
      "source": [
        "pt = peak_time.(β)\npt_surrogate = RadialBasis(β,pt,lb,ub,rad = cubicRadial)\nsurrogate_optimize(peak_time,\n                   SRBF(),\n                   lb,\n                   ub,\n                   pt_surrogate,\n                   sampler;\n                   maxiters=1000,\n                   num_new_samples=1000)\npt_test = peak_time.(β_test)\npt_test_pred = pt_surrogate.(β_test);"
      ],
      "metadata": {},
      "execution_count": null
    },
    {
      "cell_type": "markdown",
      "source": [
        "Compared to the other quantities of interest, peak time is not as easily captured by the same (albeit simple) surrogate approach, with deviations at either end of the range."
      ],
      "metadata": {}
    },
    {
      "outputs": [],
      "cell_type": "code",
      "source": [
        "l = @layout [a b]\npl1 = plot(β_grid,peak_time.(β_grid),color=:red,label=\"Model\",xlabel=\"β\",ylabel=\"Peak time\",legend=:right)\nscatter!(pl1, β_test,pt_test_pred,color=:blue,label=\"Surrogate\")\npl2 = scatter(pt_test,pt_test_pred,color=:blue,legend=false,xlabel=\"Peak time\",ylabel=\"Surrogate peak time\")\nPlots.abline!(pl2,1.0,0.0)\nplot(pl1,pl2,layout=l)"
      ],
      "metadata": {},
      "execution_count": null
    },
    {
      "outputs": [],
      "cell_type": "code",
      "source": [
        "@benchmark peak_time(0.0005)"
      ],
      "metadata": {},
      "execution_count": null
    },
    {
      "outputs": [],
      "cell_type": "code",
      "source": [
        "@benchmark pt_surrogate(0.0005)"
      ],
      "metadata": {},
      "execution_count": null
    },
    {
      "cell_type": "markdown",
      "source": [
        "## Discussion\n\nWith a fairly small number of actual model simulations, the above code generates surrogate models for three separate outputs that work well across the range of parameter inputs and are several orders of magnitude faster than the original model. More complex functional responses e.g. the time to the peak may be harder to capture, and approaches that search new parameter candidates in the local vicinity of existing parameter values may be suboptimal in this case."
      ],
      "metadata": {}
    }
  ],
  "nbformat_minor": 2,
  "metadata": {
    "language_info": {
      "file_extension": ".jl",
      "mimetype": "application/julia",
      "name": "julia",
      "version": "1.6.2"
    },
    "kernelspec": {
      "name": "julia-1.6",
      "display_name": "Julia 1.6.2",
      "language": "julia"
    }
  },
  "nbformat": 4
}
