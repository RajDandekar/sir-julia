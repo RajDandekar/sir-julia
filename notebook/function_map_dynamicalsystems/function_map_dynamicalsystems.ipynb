{
  "cells": [
    {
      "cell_type": "markdown",
      "source": [
        "# Function map using DynamicalSystems.jl\nSimon Frost (@sdwfrost), 2020-04-27\n\n## Introduction\n\nThe function map approach taken here is:\n\n- Deterministic\n- Discrete in time\n- Continuous in state\n\nThis tutorial uses `DynamicalSystems.jl` to define a function map model.\n\n## Libraries"
      ],
      "metadata": {}
    },
    {
      "outputs": [],
      "cell_type": "code",
      "source": [
        "using DynamicalSystems\nusing DataFrames\nusing StatsPlots\nusing BenchmarkTools"
      ],
      "metadata": {},
      "execution_count": null
    },
    {
      "cell_type": "markdown",
      "source": [
        "## Utility functions\n\nTo assist in comparison with the continuous time models, we define a function that takes a constant rate, `r`, over a timespan, `t`, and converts it to a proportion."
      ],
      "metadata": {}
    },
    {
      "outputs": [],
      "cell_type": "code",
      "source": [
        "@inline function rate_to_proportion(r,t)\n    1-exp(-r*t)\nend;"
      ],
      "metadata": {},
      "execution_count": null
    },
    {
      "cell_type": "markdown",
      "source": [
        "## Transitions\n\nWe define a function that takes the 'old' state variables, `u`, and writes the 'new' state variables into `du`. Note that the timestep, `δt`, is passed as an explicit parameter."
      ],
      "metadata": {}
    },
    {
      "outputs": [],
      "cell_type": "code",
      "source": [
        "function sir_map!(du,u,p,t)\n    (S,I,R) = u\n    (β,c,γ,δt) = p\n    N = S+I+R\n    infection = rate_to_proportion(β*c*I/N,δt)*S\n    recovery = rate_to_proportion(γ,δt)*I\n    @inbounds begin\n        du[1] = S-infection\n        du[2] = I+infection-recovery\n        du[3] = R+recovery\n    end\n    nothing\nend;"
      ],
      "metadata": {},
      "execution_count": null
    },
    {
      "cell_type": "markdown",
      "source": [
        "## Time domain"
      ],
      "metadata": {}
    },
    {
      "outputs": [],
      "cell_type": "code",
      "source": [
        "δt = 0.1\nnsteps = 400\ntmax = nsteps*δt\nt = 0.0:δt:tmax;"
      ],
      "metadata": {},
      "execution_count": null
    },
    {
      "cell_type": "markdown",
      "source": [
        "## Initial conditions\n\nNote that we define the state variables as floating point."
      ],
      "metadata": {}
    },
    {
      "outputs": [],
      "cell_type": "code",
      "source": [
        "u0 = [990.0,10.0,0.0];"
      ],
      "metadata": {},
      "execution_count": null
    },
    {
      "cell_type": "markdown",
      "source": [
        "## Parameter values"
      ],
      "metadata": {}
    },
    {
      "outputs": [],
      "cell_type": "code",
      "source": [
        "p = [0.05,10.0,0.25,δt]; # β,c,γ,δt"
      ],
      "metadata": {},
      "execution_count": null
    },
    {
      "cell_type": "markdown",
      "source": [
        "## Running the model"
      ],
      "metadata": {}
    },
    {
      "outputs": [],
      "cell_type": "code",
      "source": [
        "ds = DiscreteDynamicalSystem(sir_map!, u0, p, t0 = 0)"
      ],
      "metadata": {},
      "execution_count": null
    },
    {
      "outputs": [],
      "cell_type": "code",
      "source": [
        "sol = trajectory(ds,nsteps)"
      ],
      "metadata": {},
      "execution_count": null
    },
    {
      "cell_type": "markdown",
      "source": [
        "## Post-processing\n\nWe can convert the output (a `DataSet`) to a dataframe for convenience."
      ],
      "metadata": {}
    },
    {
      "outputs": [],
      "cell_type": "code",
      "source": [
        "df = DataFrame(Matrix(sol))\ndf[!,:t] = t;"
      ],
      "metadata": {},
      "execution_count": null
    },
    {
      "cell_type": "markdown",
      "source": [
        "## Plotting\n\nWe can now plot the results."
      ],
      "metadata": {}
    },
    {
      "outputs": [],
      "cell_type": "code",
      "source": [
        "@df df plot(:t,\n    [:x1, :x2, :x3],\n    label=[\"S\" \"I\" \"R\"],\n    xlabel=\"Time\",\n    ylabel=\"Number\")"
      ],
      "metadata": {},
      "execution_count": null
    },
    {
      "cell_type": "markdown",
      "source": [
        "## Benchmarking"
      ],
      "metadata": {}
    },
    {
      "outputs": [],
      "cell_type": "code",
      "source": [
        "@benchmark trajectory(ds,nsteps)"
      ],
      "metadata": {},
      "execution_count": null
    }
  ],
  "nbformat_minor": 2,
  "metadata": {
    "language_info": {
      "file_extension": ".jl",
      "mimetype": "application/julia",
      "name": "julia",
      "version": "1.5.4"
    },
    "kernelspec": {
      "name": "julia-1.5",
      "display_name": "Julia 1.5.4",
      "language": "julia"
    }
  },
  "nbformat": 4
}
