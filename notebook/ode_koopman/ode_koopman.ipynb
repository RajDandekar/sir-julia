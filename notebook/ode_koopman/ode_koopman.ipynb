{
  "cells": [
    {
      "cell_type": "markdown",
      "source": [
        "# Uncertainty propagation applied to ordinary differential equation model using DiffEqUncertainty.jl\nSimon Frost (@sdwfrost), 2022-03-02\n\n## Introduction\n\nIf we are interested in investigating how uncertainty in parameters propagates to the mean, variance, etc. of the output, we can use the uncertainty propagation routines in `DiffEqUncertainty.jl`. As in the [`MonteCarloMeasurements.jl` example](https://github.com/epirecipes/sir-julia/blob/master/markdown/ode_montecarlomeasurements/ode_montecarlomeasurements.md), we can define uncertain initial conditions and parameter values using distributions, although these are assumed to be independent. Two algorithms are provided; a simple Monte Carlo method, and a [Koopman expectation method](https://arxiv.org/abs/2008.08737).\n\n## Libraries"
      ],
      "metadata": {}
    },
    {
      "outputs": [],
      "cell_type": "code",
      "source": [
        "using OrdinaryDiffEq\nusing Distributions\nusing DiffEqUncertainty\nusing Plots"
      ],
      "metadata": {},
      "execution_count": null
    },
    {
      "cell_type": "markdown",
      "source": [
        "## Helper functions\n\nThe `centralmoment` function in `DiffEqUncertainty.jl` currently only works for the `Koopman` method. The following fix taken from [this pull request](https://github.com/SciML/DiffEqUncertainty.jl/pull/29) is a workaround, at least for this example."
      ],
      "metadata": {}
    },
    {
      "outputs": [],
      "cell_type": "code",
      "source": [
        "function my_centralmoment(n::Int, g::Function, args...; kwargs...)\n    if n < 2 return Float64[] end\n    # Compute the expectations of g, g^2, ..., g^n\n    sol = expectation(x -> [g(x)^i for i in 1:n], args...; nout = n, kwargs...)\n    exp_set = sol[:]\n    mu_g = popfirst!(exp_set)\n    # Combine according to binomial expansion\n    const_term(n) = (-1)^(n-1) * (n-1) * mu_g^n\n    binom_term(n, k, mu, exp_gi) = binomial(n, k) * (-mu)^(n - k) * exp_gi\n    binom_sum = function (exp_vals)\n        m = length(exp_vals) + 1\n        sum([binom_term(m, k + 1, mu_g, v) for (k,v) in enumerate(exp_vals)]) + const_term(m)\n    end\n    return [zero(exp_set[1]), [binom_sum(exp_set[1:i]) for i in 1:length(exp_set)]...]\nend"
      ],
      "metadata": {},
      "execution_count": null
    },
    {
      "cell_type": "markdown",
      "source": [
        "## Transitions"
      ],
      "metadata": {}
    },
    {
      "outputs": [],
      "cell_type": "code",
      "source": [
        "function sir_ode!(du,u,p,t)\n    (S,I,R) = u\n    (β,c,γ) = p\n    N = S+I+R\n    @inbounds begin\n        du[1] = -β*c*I/N*S\n        du[2] = β*c*I/N*S - γ*I\n        du[3] = γ*I\n    end\n    nothing\nend;"
      ],
      "metadata": {},
      "execution_count": null
    },
    {
      "cell_type": "markdown",
      "source": [
        "## Time domain"
      ],
      "metadata": {}
    },
    {
      "outputs": [],
      "cell_type": "code",
      "source": [
        "δt = 1.0\ntmax = 40.0\ntspan = (0.0,tmax);\nt = 0:δt:tmax;"
      ],
      "metadata": {},
      "execution_count": null
    },
    {
      "cell_type": "markdown",
      "source": [
        "## Initial conditions and parameter values"
      ],
      "metadata": {}
    },
    {
      "outputs": [],
      "cell_type": "code",
      "source": [
        "u0 = [990.0,10.0,0.0]\np = [0.05,10,0.25]\nprob_ode = ODEProblem(sir_ode!,u0,tspan,p);"
      ],
      "metadata": {},
      "execution_count": null
    },
    {
      "cell_type": "markdown",
      "source": [
        "We will assume that the initial conditions are fixed, but that the parameter values, `β`, `c`, and `γ` are uncertain. We can use arbitrary distributions here, but for simplicity and for a closer comparison with methods that simply take a lower and an upper bound, we use `Uniform` distributions."
      ],
      "metadata": {}
    },
    {
      "outputs": [],
      "cell_type": "code",
      "source": [
        "p_dist = [Uniform(0.01,0.1),\n     Uniform(5,20.0),\n     Uniform(0.1,1.0)];"
      ],
      "metadata": {},
      "execution_count": null
    },
    {
      "cell_type": "markdown",
      "source": [
        "## Running the model\n\nWe need to define output functions that take the solution of an ODE as input; two are used, one that outputs the entire solution for the time points `t` defined above, the second that outputs the `i`th variable at time `x`."
      ],
      "metadata": {}
    },
    {
      "outputs": [],
      "cell_type": "code",
      "source": [
        "g(sol) = sol(t)\ng(sol,x,i) = sol(x)[i];"
      ],
      "metadata": {},
      "execution_count": null
    },
    {
      "cell_type": "markdown",
      "source": [
        "### Monte Carlo method"
      ],
      "metadata": {}
    },
    {
      "outputs": [],
      "cell_type": "code",
      "source": [
        "n_samples = 1000\nsol_ode_mean_mc = expectation(g, prob_ode, u0, p_dist, MonteCarlo(), Tsit5(); trajectories = n_samples)\nsol_ode_mean_mc = Array(sol_ode_mean_mc)'"
      ],
      "metadata": {},
      "execution_count": null
    },
    {
      "cell_type": "markdown",
      "source": [
        "`centralmoment` does not currently support vector results (see the issue [here](https://github.com/SciML/DiffEqUncertainty.jl/issues/22)), so as a workaround, we cycle through states and times in order to get the standard deviations of the state variables at each time point."
      ],
      "metadata": {}
    },
    {
      "outputs": [],
      "cell_type": "code",
      "source": [
        "sol_ode_std_mc = [[sqrt(my_centralmoment(2, (sol) -> g(sol,x,i), prob_ode, u0, p_dist, MonteCarlo(), Tsit5(); trajectories = n_samples)[2]) for x in t] for i in 1:3]\nsol_ode_std_mc = hcat(sol_ode_std_mc...)"
      ],
      "metadata": {},
      "execution_count": null
    },
    {
      "cell_type": "markdown",
      "source": [
        "### Koopman expectation method"
      ],
      "metadata": {}
    },
    {
      "outputs": [],
      "cell_type": "code",
      "source": [
        "sol_ode_mean_k = expectation(g, prob_ode, u0, p_dist, Koopman(), Tsit5())\nsol_ode_mean_k = Array(sol_ode_mean_k)'"
      ],
      "metadata": {},
      "execution_count": null
    },
    {
      "outputs": [],
      "cell_type": "code",
      "source": [
        "sol_ode_std_k = [[sqrt(my_centralmoment(2, (sol) -> g(sol,x,i), prob_ode, u0, p_dist, Koopman(), Tsit5())[2]) for x in t] for i in 1:3]\nsol_ode_std_k = hcat(sol_ode_std_k...)"
      ],
      "metadata": {},
      "execution_count": null
    },
    {
      "cell_type": "markdown",
      "source": [
        "## Plotting"
      ],
      "metadata": {}
    },
    {
      "outputs": [],
      "cell_type": "code",
      "source": [
        "l = @layout [a b]\npl1 = plot(t,\n     sol_ode_mean_mc,\n     ribbon=sol_ode_std_mc,\n     fillalpha=0.15,\n     label=[\"S\" \"I\" \"R\"],\n     xlabel=\"Time\",\n     ylabel=\"Number\",\n     title=\"Monte Carlo\")\npl2 = plot(t,\n     sol_ode_mean_k,\n     ribbon=sol_ode_std_k,\n     fillalpha=0.15,\n     label=[\"S\" \"I\" \"R\"],\n     xlabel=\"Time\",\n     ylabel=\"Number\",\n     title=\"Koopman\")\nplot(pl1,pl2,layout=l)"
      ],
      "metadata": {},
      "execution_count": null
    },
    {
      "cell_type": "markdown",
      "source": [
        "The results from `MonteCarlo()` and `Koopman()` are similar; however that the underlying distributions are far from normal, so the above ribbon plot is a bit misleading (for example, the ribbons go below 0 and above `N=1000`, the bounds of the population). In addition, it is difficult to accommodate correlation between the uncertain inputs; hence, the uncertainty in the initial condition used in the [`MonteCarloMeasurements.jl` example](https://github.com/epirecipes/sir-julia/blob/master/markdown/ode_montecarlomeasurements/ode_montecarlomeasurements.md) was not considered here."
      ],
      "metadata": {}
    }
  ],
  "nbformat_minor": 2,
  "metadata": {
    "language_info": {
      "file_extension": ".jl",
      "mimetype": "application/julia",
      "name": "julia",
      "version": "1.6.2"
    },
    "kernelspec": {
      "name": "julia-1.6",
      "display_name": "Julia 1.6.2",
      "language": "julia"
    }
  },
  "nbformat": 4
}
