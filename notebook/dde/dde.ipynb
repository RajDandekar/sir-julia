{
  "cells": [
    {
      "cell_type": "markdown",
      "source": [
        "# Delay differential equation model\nSimon Frost (@sdwfrost), 2021-04-06\n\n## Introduction\n\nThe classical ODE version of the SIR model assumes the distribution of infectious periods has an exponential distribution. If we wanted to model recovery a fixed time after infection, τ, then we can use a delay differential equation (DDE) instead. We have to be more careful initializing the system. In this example, initial infected individuals are assumed to become infected at time `t=0`, and hence will recover at time `t=τ`. Here, we show two ways to handle this. Firstly, while `t<τ`, there are no recoveries, and the system is effectively an ordinary differential equation. Hence, we can simulate an ODE system until `t=τ` and use this to define the initial conditions and history function for the DDE for `t≥τ`. Secondly, we can use a callback to force the initial infected individuals to recover at `t=τ`, and use a single DDE system.\n\n## Libraries"
      ],
      "metadata": {}
    },
    {
      "outputs": [],
      "cell_type": "code",
      "source": [
        "using DifferentialEquations\nusing DelayDiffEq\nusing DiffEqCallbacks\nusing Tables\nusing DataFrames\nusing StatsPlots\nusing BenchmarkTools"
      ],
      "metadata": {},
      "execution_count": null
    },
    {
      "cell_type": "markdown",
      "source": [
        "## Transitions\n\nThe following function provides the derivatives of the DDE model, which it changes in-place. Individuals who recover at time `t` were infected at time `t-τ`, so we need to keep track of the past state, which we do through the definition of a history variable (actually a function), `h`."
      ],
      "metadata": {}
    },
    {
      "outputs": [],
      "cell_type": "code",
      "source": [
        "function sir_dde!(du,u,h,p,t)\n    (S,I,R) = u\n    (β,c,τ) = p\n    N = S+I+R\n    infection = β*c*I/N*S\n    (Sd,Id,Rd) = h(p, t-τ) # Time delayed variables\n    Nd = Sd+Id+Rd\n    recovery = β*c*Id/Nd*Sd\n    @inbounds begin\n        du[1] = -infection\n        du[2] = infection - recovery\n        du[3] = recovery\n    end\n    nothing\nend;"
      ],
      "metadata": {},
      "execution_count": null
    },
    {
      "cell_type": "markdown",
      "source": [
        "## Time domain"
      ],
      "metadata": {}
    },
    {
      "outputs": [],
      "cell_type": "code",
      "source": [
        "δt = 0.1\ntmax = 40.0\ntspan = (0.0,tmax)\nt = 0.0:δt:tmax;"
      ],
      "metadata": {},
      "execution_count": null
    },
    {
      "cell_type": "markdown",
      "source": [
        "## Initial conditions"
      ],
      "metadata": {}
    },
    {
      "outputs": [],
      "cell_type": "code",
      "source": [
        "u0 = [990.0,10.0,0.0]; # S,I.R"
      ],
      "metadata": {},
      "execution_count": null
    },
    {
      "cell_type": "markdown",
      "source": [
        "## Parameter values\n\nTo keep the simulations broadly comparable, I define the (fixed) infectious period `τ` as `1/γ` from the other tutorials."
      ],
      "metadata": {}
    },
    {
      "outputs": [],
      "cell_type": "code",
      "source": [
        "p = [0.05,10.0,4.0]; # β,c,τ"
      ],
      "metadata": {},
      "execution_count": null
    },
    {
      "cell_type": "markdown",
      "source": [
        "## Running the model\n\nWhen defining a `DDEProblem`, we need to pass the history function that defines the state at `t<0.0`. Here, we assume that all individuals were susceptible at time `t<0`."
      ],
      "metadata": {}
    },
    {
      "outputs": [],
      "cell_type": "code",
      "source": [
        "function sir_history(p, t)\n    [1000.0, 0.0, 0.0]\nend;"
      ],
      "metadata": {},
      "execution_count": null
    },
    {
      "cell_type": "markdown",
      "source": [
        "Here is a callback that forces the initial infecteds to recover at a fixed time."
      ],
      "metadata": {}
    },
    {
      "outputs": [],
      "cell_type": "code",
      "source": [
        "function affect_initial_recovery!(integrator)\n    integrator.u[2] -= u0[2]\n    integrator.u[3] += u0[2]\n\n    reset_aggregated_jumps!(integrator)\nend\ncb_initial_recovery = DiscreteCallback((u,t,integrator) -> t == p[3], affect_initial_recovery!);"
      ],
      "metadata": {},
      "execution_count": null
    },
    {
      "cell_type": "markdown",
      "source": [
        "This model has a single, constant time lag, so this is also passed to the `DDEProblem` to assist the numerical solution of the model."
      ],
      "metadata": {}
    },
    {
      "outputs": [],
      "cell_type": "code",
      "source": [
        "prob_dde = DDEProblem(DDEFunction(sir_dde!),\n        u0,\n        sir_history,\n        tspan,\n        p;\n        constant_lags = [p[3]]);"
      ],
      "metadata": {},
      "execution_count": null
    },
    {
      "cell_type": "markdown",
      "source": [
        "The recommended method for DDE problems are the `MethodOfSteps` algorithms, which are constructed from an OrdinaryDiffEq.jl algorithm as follows."
      ],
      "metadata": {}
    },
    {
      "outputs": [],
      "cell_type": "code",
      "source": [
        "alg = MethodOfSteps(Tsit5());"
      ],
      "metadata": {},
      "execution_count": null
    },
    {
      "cell_type": "markdown",
      "source": [
        "We solve the DDE, remembering to add the callback to get the initial infecteds to recover."
      ],
      "metadata": {}
    },
    {
      "outputs": [],
      "cell_type": "code",
      "source": [
        "sol_dde = solve(prob_dde,alg, callback=cb_initial_recovery);"
      ],
      "metadata": {},
      "execution_count": null
    },
    {
      "cell_type": "markdown",
      "source": [
        "## Post-processing\n\nWe can convert the output to a dataframe for convenience."
      ],
      "metadata": {}
    },
    {
      "outputs": [],
      "cell_type": "code",
      "source": [
        "df_dde = DataFrame(Tables.table(sol_dde(t)'))\nrename!(df_dde,[\"S\",\"I\",\"R\"])\ndf_dde[!,:t] = t;"
      ],
      "metadata": {},
      "execution_count": null
    },
    {
      "cell_type": "markdown",
      "source": [
        "## Plotting\n\nWe can now plot the results."
      ],
      "metadata": {}
    },
    {
      "outputs": [],
      "cell_type": "code",
      "source": [
        "@df df_dde plot(:t,\n    [:S :I :R],\n    label=[\"S\" \"I\" \"R\"],\n    xlabel=\"Time\",\n    ylabel=\"Number\")"
      ],
      "metadata": {},
      "execution_count": null
    },
    {
      "cell_type": "markdown",
      "source": [
        "## An alternative approach\n\nWhile `t<τ`, the system is effectively an SI ODE model, and we can use this to set the initial conditions and history function for the DDE."
      ],
      "metadata": {}
    },
    {
      "outputs": [],
      "cell_type": "code",
      "source": [
        "function sir_ode_initial!(du,u,p,t)\n    (S,I,R) = u\n    (β,c,γ) = p\n    N = S+I+R\n    @inbounds begin\n        du[1] = -β*c*I/N*S\n        du[2] = β*c*I/N*S\n        du[3] = 0\n    end\n    nothing\nend;"
      ],
      "metadata": {},
      "execution_count": null
    },
    {
      "cell_type": "markdown",
      "source": [
        "We run the ODE until `t=τ` and store the final state as the initial condition for the DDE."
      ],
      "metadata": {}
    },
    {
      "outputs": [],
      "cell_type": "code",
      "source": [
        "prob_ode = ODEProblem(sir_ode_initial!,u0,(0,p[3]),p);\nsol_ode = solve(prob_ode);\nu1 = sol_ode[end]\nu1[2] -= u0[2]\nu1[3] += u0[2]"
      ],
      "metadata": {},
      "execution_count": null
    },
    {
      "cell_type": "markdown",
      "source": [
        "We use the trajectories during the initial period as the history function for the DDE."
      ],
      "metadata": {}
    },
    {
      "outputs": [],
      "cell_type": "code",
      "source": [
        "function ode_history(p, t, sol)\n    sol(t)\nend;\nsir_history1(p,t)=ode_history(p,t,sol_ode)"
      ],
      "metadata": {},
      "execution_count": null
    },
    {
      "outputs": [],
      "cell_type": "code",
      "source": [
        "prob_dde1 = DDEProblem(DDEFunction(sir_dde!),\n        u1,\n        sir_history1,\n        (p[3],tmax),\n        p;\n        constant_lags = [p[3]]);\nalg1 = MethodOfSteps(Tsit5());\nsol_dde1 = solve(prob_dde1,alg1);"
      ],
      "metadata": {},
      "execution_count": null
    },
    {
      "cell_type": "markdown",
      "source": [
        "## Benchmarking\n\nOn my machine, benchmarking shows that the DDE version of the model runs over 10 times slower than the corresponding ODE model."
      ],
      "metadata": {}
    },
    {
      "outputs": [],
      "cell_type": "code",
      "source": [
        "@benchmark solve(prob_dde, alg, callback=cb_initial_recovery)"
      ],
      "metadata": {},
      "execution_count": null
    }
  ],
  "nbformat_minor": 2,
  "metadata": {
    "language_info": {
      "file_extension": ".jl",
      "mimetype": "application/julia",
      "name": "julia",
      "version": "1.6.2"
    },
    "kernelspec": {
      "name": "julia-1.6",
      "display_name": "Julia 1.6.2",
      "language": "julia"
    }
  },
  "nbformat": 4
}
