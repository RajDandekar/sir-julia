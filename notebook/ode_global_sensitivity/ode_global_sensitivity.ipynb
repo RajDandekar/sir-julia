{
  "cells": [
    {
      "cell_type": "markdown",
      "source": [
        "# Global sensitivity analysis applied to ordinary differential equation model\nSimon Frost (@sdwfrost), 2022-03-01\n\n## Introduction\n\nThe classical ODE version of the SIR model is:\n\n- Deterministic\n- Continuous in time\n- Continuous in state\n\nThis tutorial uses tools from the `QuasiMonteCarlo.jl` package to explore sensitivity of the peak number of infected individuals, the timing of the peak and the final size of the epidemic to changes in parameter values. Specifically, we use [Latin hypercube sampling](https://en.wikipedia.org/wiki/Latin_hypercube_sampling) to sample parameters between upper and lower bounds, run models (either in serial or in parallel), and extract quantities of interest. This tutorial can easily be adapted to other types of model (SDEs, DDEs, jump processes, maps, Markov processes, etc.).\n\n## Libraries"
      ],
      "metadata": {}
    },
    {
      "outputs": [],
      "cell_type": "code",
      "source": [
        "using OrdinaryDiffEq\nusing DiffEqCallbacks\nusing QuasiMonteCarlo\nusing StatsBase\nusing Plots"
      ],
      "metadata": {},
      "execution_count": null
    },
    {
      "cell_type": "markdown",
      "source": [
        "## Transitions\n\nThe following function provides the derivatives of the model, which it changes in-place. State variables and parameters are unpacked from `u` and `p`."
      ],
      "metadata": {}
    },
    {
      "outputs": [],
      "cell_type": "code",
      "source": [
        "function sir_ode!(du,u,p,t)\n    (S,I,R) = u\n    (β,c,γ) = p\n    N = S+I+R\n    @inbounds begin\n        du[1] = -β*c*I/N*S\n        du[2] = β*c*I/N*S - γ*I\n        du[3] = γ*I\n    end\n    nothing\nend;"
      ],
      "metadata": {},
      "execution_count": null
    },
    {
      "cell_type": "markdown",
      "source": [
        "## Time domain\n\nWe set the timespan for simulations, `tspan`, initial conditions, `u0`, and parameter values, `p`. We will set the maximum time to be high, as we will be using a callback in order to stop the integration early."
      ],
      "metadata": {}
    },
    {
      "outputs": [],
      "cell_type": "code",
      "source": [
        "tmax = 10000.0\ntspan = (0.0,tmax)"
      ],
      "metadata": {},
      "execution_count": null
    },
    {
      "cell_type": "markdown",
      "source": [
        "## Callbacks\n\nIf we just wanted the final size, we could use a `SteadyStateProblem` with the `DynamicSS` solver. To get access to the entire solution, we can use a callback instead to stop the simulation when it reaches a steady state."
      ],
      "metadata": {}
    },
    {
      "outputs": [],
      "cell_type": "code",
      "source": [
        "cb_ss = TerminateSteadyState();"
      ],
      "metadata": {},
      "execution_count": null
    },
    {
      "cell_type": "markdown",
      "source": [
        "## Initial conditions and parameter values\n\nWe first set fixed parameters, in this case, the total population size, `N`. In addition, in order to define an `ODEProblem`, we also need a default set of initial conditions, `u`, and parameter values, `p`."
      ],
      "metadata": {}
    },
    {
      "outputs": [],
      "cell_type": "code",
      "source": [
        "N = 1000.0;\nu0 = [990.0,10.0,0.0];\np = [0.05,10.0,0.25]; # β,c,γ"
      ],
      "metadata": {},
      "execution_count": null
    },
    {
      "cell_type": "markdown",
      "source": [
        "We then generate a random sample of parameter values as well as the initial number of infected individuals. Rather than a full factorial design, we use `LatinHypercubeSample` from the `QuasiMonteCarlo.jl` package. We specify lower (`lb`) and upper (`ub`) bounds for each parameter."
      ],
      "metadata": {}
    },
    {
      "outputs": [],
      "cell_type": "code",
      "source": [
        "n_samples = 1000 # Number of samples\n# Parameters are β, c, γ, I₀\nlb = [0.01, 5.0, 0.1, 1.0]\nub = [0.1, 20.0, 1.0, 50.0];"
      ],
      "metadata": {},
      "execution_count": null
    },
    {
      "outputs": [],
      "cell_type": "code",
      "source": [
        "pu0 = QuasiMonteCarlo.sample(n_samples,lb,ub,LatinHypercubeSample());"
      ],
      "metadata": {},
      "execution_count": null
    },
    {
      "cell_type": "markdown",
      "source": [
        "## Running the model"
      ],
      "metadata": {}
    },
    {
      "outputs": [],
      "cell_type": "code",
      "source": [
        "prob_ode = ODEProblem(sir_ode!,u0,tspan,p);"
      ],
      "metadata": {},
      "execution_count": null
    },
    {
      "cell_type": "markdown",
      "source": [
        "We will consider three summary statistics of the simulation for sensitivity analysis:\n\n1. The peak number of infected individuals, `I`.\n2. The time at which the peak is reached.\n3. The final size of the epidemic (as `R(0)=0`, this will be `R(t_stop)` where `t_stop` is the time at which the steady state is reached).\n\n## Serial\n\nIn the serial implementation, we write a function that takes a `Vector` of parameters and initial conditions and returns a `Vector` of outputs."
      ],
      "metadata": {}
    },
    {
      "outputs": [],
      "cell_type": "code",
      "source": [
        "f1 = function(pu0)\n  p = pu0[1:3]\n  I0 = pu0[4]\n  u0 = [N-I0,I0,0.0]\n  prob = remake(prob_ode;p=p,u=u0)\n  sol = solve(prob, ROS34PW3(),callback=cb_ss)\n  [maximum(sol[2,:]), sol.t[argmax(sol[2,:])], sol[end][3]]\nend;"
      ],
      "metadata": {},
      "execution_count": null
    },
    {
      "cell_type": "markdown",
      "source": [
        "We can use a list comprehension to run in serial."
      ],
      "metadata": {}
    },
    {
      "outputs": [],
      "cell_type": "code",
      "source": [
        "m_serial = [f1(pu0[:,i]) for i in 1:n_samples]\nm_serial = hcat(m_serial...); # convert into matrix"
      ],
      "metadata": {},
      "execution_count": null
    },
    {
      "cell_type": "markdown",
      "source": [
        "## Running the model in parallel\n\nTo run in parallel, we pass a `Matrix` of parameter values and use `EnsembleProblem` internally in order to run different parameter sets in parallel, returning a `Matrix` of outputs."
      ],
      "metadata": {}
    },
    {
      "outputs": [],
      "cell_type": "code",
      "source": [
        "pf1 = function (pu0)\n  p = pu0[1:3,:]\n  I0 = pu0[4,:]\n  prob_func(prob,i,repeat) = remake(prob;p=p[:,i],u=[N-I0[i],I0[i],0.0])\n  ensemble_prob = EnsembleProblem(prob_ode,prob_func=prob_func)\n  sol = solve(ensemble_prob,ROS34PW3(),EnsembleThreads();trajectories=size(p,2))\n  out = zeros(3,size(p,2))\n  for i in 1:size(p,2)\n    out[1,i] = maximum(sol[i][2,:])\n    out[2,i] = sol[i].t[argmax(sol[i][2,:])]\n    out[3,i] = sol[i][end][3]\n  end\n  out\nend;"
      ],
      "metadata": {},
      "execution_count": null
    },
    {
      "outputs": [],
      "cell_type": "code",
      "source": [
        "m_parallel = pf1(pu0);"
      ],
      "metadata": {},
      "execution_count": null
    },
    {
      "cell_type": "markdown",
      "source": [
        "## Plotting"
      ],
      "metadata": {}
    },
    {
      "outputs": [],
      "cell_type": "code",
      "source": [
        "l = @layout [a b; c d]\npl1 = scatter(pu0[1,:],m_parallel[1,:],title=\"Peak infected\",xlabel=\"β\",ylabel=\"Number\")\npl2 = scatter(pu0[2,:],m_parallel[1,:],title=\"Peak infected\",xlabel=\"c\",ylabel=\"Number\")\npl3 = scatter(pu0[3,:],m_parallel[1,:],title=\"Peak infected\",xlabel=\"γ\",ylabel=\"Number\")\npl4 = scatter(pu0[4,:],m_parallel[1,:],title=\"Peak infected\",xlabel=\"I₀\",ylabel=\"Number\")\nplot(pl1,pl2,pl3,pl4,layout=l,legend=false)"
      ],
      "metadata": {},
      "execution_count": null
    },
    {
      "outputs": [],
      "cell_type": "code",
      "source": [
        "l = @layout [a b; c d]\npl1 = scatter(pu0[1,:],m_parallel[2,:],title=\"Peak time\",xlabel=\"β\",ylabel=\"Time\")\npl2 = scatter(pu0[2,:],m_parallel[2,:],title=\"Peak time\",xlabel=\"c\",ylabel=\"Time\")\npl3 = scatter(pu0[3,:],m_parallel[2,:],title=\"Peak time\",xlabel=\"γ\",ylabel=\"Time\")\npl4 = scatter(pu0[4,:],m_parallel[2,:],title=\"Peak time\",xlabel=\"I₀\",ylabel=\"Time\")\nplot(pl1,pl2,pl3,pl4,layout=l,legend=false)"
      ],
      "metadata": {},
      "execution_count": null
    },
    {
      "outputs": [],
      "cell_type": "code",
      "source": [
        "l = @layout [a b; c d]\npl1 = scatter(pu0[1,:],m_parallel[3,:],title=\"Final size\",xlabel=\"β\",ylabel=\"Number\")\npl2 = scatter(pu0[2,:],m_parallel[3,:],title=\"Final size\",xlabel=\"c\",ylabel=\"Number\")\npl3 = scatter(pu0[3,:],m_parallel[3,:],title=\"Final size\",xlabel=\"γ\",ylabel=\"Number\")\npl4 = scatter(pu0[4,:],m_parallel[3,:],title=\"Final size\",xlabel=\"I₀\",ylabel=\"Number\")\nplot(pl1,pl2,pl3,pl4,layout=l,legend=false)"
      ],
      "metadata": {},
      "execution_count": null
    },
    {
      "cell_type": "markdown",
      "source": [
        "A numerical summary of this can be obtained by calculating the rank correlations between the input values (`β`, `c`, `γ`, and `I₀`) and the three output values (`I_max`, `t_peak`, and `R(t_stop)`)."
      ],
      "metadata": {}
    },
    {
      "outputs": [],
      "cell_type": "code",
      "source": [
        "corkendall(pu0',m_parallel')"
      ],
      "metadata": {},
      "execution_count": null
    }
  ],
  "nbformat_minor": 2,
  "metadata": {
    "language_info": {
      "file_extension": ".jl",
      "mimetype": "application/julia",
      "name": "julia",
      "version": "1.6.2"
    },
    "kernelspec": {
      "name": "julia-1.6",
      "display_name": "Julia 1.6.2",
      "language": "julia"
    }
  },
  "nbformat": 4
}
